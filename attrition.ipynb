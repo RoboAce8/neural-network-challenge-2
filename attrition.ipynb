{
 "cells": [
  {
   "cell_type": "markdown",
   "metadata": {
    "id": "alIIEHibGc3M"
   },
   "source": [
    "## Part 1: Preprocessing"
   ]
  },
  {
   "cell_type": "code",
   "execution_count": 299,
   "metadata": {
    "colab": {
     "base_uri": "https://localhost:8080/",
     "height": 325
    },
    "executionInfo": {
     "elapsed": 12323,
     "status": "ok",
     "timestamp": 1730699226906,
     "user": {
      "displayName": "Alexander Booth",
      "userId": "02269714993535573104"
     },
     "user_tz": 360
    },
    "id": "6eDUJ4NtGc3P",
    "outputId": "eeae54b5-3d17-442d-94ba-00dd55b89964"
   },
   "outputs": [
    {
     "data": {
      "text/html": [
       "<div>\n",
       "<style scoped>\n",
       "    .dataframe tbody tr th:only-of-type {\n",
       "        vertical-align: middle;\n",
       "    }\n",
       "\n",
       "    .dataframe tbody tr th {\n",
       "        vertical-align: top;\n",
       "    }\n",
       "\n",
       "    .dataframe thead th {\n",
       "        text-align: right;\n",
       "    }\n",
       "</style>\n",
       "<table border=\"1\" class=\"dataframe\">\n",
       "  <thead>\n",
       "    <tr style=\"text-align: right;\">\n",
       "      <th></th>\n",
       "      <th>Age</th>\n",
       "      <th>Attrition</th>\n",
       "      <th>BusinessTravel</th>\n",
       "      <th>Department</th>\n",
       "      <th>DistanceFromHome</th>\n",
       "      <th>Education</th>\n",
       "      <th>EducationField</th>\n",
       "      <th>EnvironmentSatisfaction</th>\n",
       "      <th>HourlyRate</th>\n",
       "      <th>JobInvolvement</th>\n",
       "      <th>...</th>\n",
       "      <th>PerformanceRating</th>\n",
       "      <th>RelationshipSatisfaction</th>\n",
       "      <th>StockOptionLevel</th>\n",
       "      <th>TotalWorkingYears</th>\n",
       "      <th>TrainingTimesLastYear</th>\n",
       "      <th>WorkLifeBalance</th>\n",
       "      <th>YearsAtCompany</th>\n",
       "      <th>YearsInCurrentRole</th>\n",
       "      <th>YearsSinceLastPromotion</th>\n",
       "      <th>YearsWithCurrManager</th>\n",
       "    </tr>\n",
       "  </thead>\n",
       "  <tbody>\n",
       "    <tr>\n",
       "      <th>0</th>\n",
       "      <td>41</td>\n",
       "      <td>Yes</td>\n",
       "      <td>Travel_Rarely</td>\n",
       "      <td>Sales</td>\n",
       "      <td>1</td>\n",
       "      <td>2</td>\n",
       "      <td>Life Sciences</td>\n",
       "      <td>2</td>\n",
       "      <td>94</td>\n",
       "      <td>3</td>\n",
       "      <td>...</td>\n",
       "      <td>3</td>\n",
       "      <td>1</td>\n",
       "      <td>0</td>\n",
       "      <td>8</td>\n",
       "      <td>0</td>\n",
       "      <td>1</td>\n",
       "      <td>6</td>\n",
       "      <td>4</td>\n",
       "      <td>0</td>\n",
       "      <td>5</td>\n",
       "    </tr>\n",
       "    <tr>\n",
       "      <th>1</th>\n",
       "      <td>49</td>\n",
       "      <td>No</td>\n",
       "      <td>Travel_Frequently</td>\n",
       "      <td>Research &amp; Development</td>\n",
       "      <td>8</td>\n",
       "      <td>1</td>\n",
       "      <td>Life Sciences</td>\n",
       "      <td>3</td>\n",
       "      <td>61</td>\n",
       "      <td>2</td>\n",
       "      <td>...</td>\n",
       "      <td>4</td>\n",
       "      <td>4</td>\n",
       "      <td>1</td>\n",
       "      <td>10</td>\n",
       "      <td>3</td>\n",
       "      <td>3</td>\n",
       "      <td>10</td>\n",
       "      <td>7</td>\n",
       "      <td>1</td>\n",
       "      <td>7</td>\n",
       "    </tr>\n",
       "    <tr>\n",
       "      <th>2</th>\n",
       "      <td>37</td>\n",
       "      <td>Yes</td>\n",
       "      <td>Travel_Rarely</td>\n",
       "      <td>Research &amp; Development</td>\n",
       "      <td>2</td>\n",
       "      <td>2</td>\n",
       "      <td>Other</td>\n",
       "      <td>4</td>\n",
       "      <td>92</td>\n",
       "      <td>2</td>\n",
       "      <td>...</td>\n",
       "      <td>3</td>\n",
       "      <td>2</td>\n",
       "      <td>0</td>\n",
       "      <td>7</td>\n",
       "      <td>3</td>\n",
       "      <td>3</td>\n",
       "      <td>0</td>\n",
       "      <td>0</td>\n",
       "      <td>0</td>\n",
       "      <td>0</td>\n",
       "    </tr>\n",
       "    <tr>\n",
       "      <th>3</th>\n",
       "      <td>33</td>\n",
       "      <td>No</td>\n",
       "      <td>Travel_Frequently</td>\n",
       "      <td>Research &amp; Development</td>\n",
       "      <td>3</td>\n",
       "      <td>4</td>\n",
       "      <td>Life Sciences</td>\n",
       "      <td>4</td>\n",
       "      <td>56</td>\n",
       "      <td>3</td>\n",
       "      <td>...</td>\n",
       "      <td>3</td>\n",
       "      <td>3</td>\n",
       "      <td>0</td>\n",
       "      <td>8</td>\n",
       "      <td>3</td>\n",
       "      <td>3</td>\n",
       "      <td>8</td>\n",
       "      <td>7</td>\n",
       "      <td>3</td>\n",
       "      <td>0</td>\n",
       "    </tr>\n",
       "    <tr>\n",
       "      <th>4</th>\n",
       "      <td>27</td>\n",
       "      <td>No</td>\n",
       "      <td>Travel_Rarely</td>\n",
       "      <td>Research &amp; Development</td>\n",
       "      <td>2</td>\n",
       "      <td>1</td>\n",
       "      <td>Medical</td>\n",
       "      <td>1</td>\n",
       "      <td>40</td>\n",
       "      <td>3</td>\n",
       "      <td>...</td>\n",
       "      <td>3</td>\n",
       "      <td>4</td>\n",
       "      <td>1</td>\n",
       "      <td>6</td>\n",
       "      <td>3</td>\n",
       "      <td>3</td>\n",
       "      <td>2</td>\n",
       "      <td>2</td>\n",
       "      <td>2</td>\n",
       "      <td>2</td>\n",
       "    </tr>\n",
       "  </tbody>\n",
       "</table>\n",
       "<p>5 rows × 27 columns</p>\n",
       "</div>"
      ],
      "text/plain": [
       "   Age Attrition     BusinessTravel              Department  DistanceFromHome  \\\n",
       "0   41       Yes      Travel_Rarely                   Sales                 1   \n",
       "1   49        No  Travel_Frequently  Research & Development                 8   \n",
       "2   37       Yes      Travel_Rarely  Research & Development                 2   \n",
       "3   33        No  Travel_Frequently  Research & Development                 3   \n",
       "4   27        No      Travel_Rarely  Research & Development                 2   \n",
       "\n",
       "   Education EducationField  EnvironmentSatisfaction  HourlyRate  \\\n",
       "0          2  Life Sciences                        2          94   \n",
       "1          1  Life Sciences                        3          61   \n",
       "2          2          Other                        4          92   \n",
       "3          4  Life Sciences                        4          56   \n",
       "4          1        Medical                        1          40   \n",
       "\n",
       "   JobInvolvement  ...  PerformanceRating RelationshipSatisfaction  \\\n",
       "0               3  ...                  3                        1   \n",
       "1               2  ...                  4                        4   \n",
       "2               2  ...                  3                        2   \n",
       "3               3  ...                  3                        3   \n",
       "4               3  ...                  3                        4   \n",
       "\n",
       "   StockOptionLevel TotalWorkingYears  TrainingTimesLastYear WorkLifeBalance  \\\n",
       "0                 0                 8                      0               1   \n",
       "1                 1                10                      3               3   \n",
       "2                 0                 7                      3               3   \n",
       "3                 0                 8                      3               3   \n",
       "4                 1                 6                      3               3   \n",
       "\n",
       "   YearsAtCompany  YearsInCurrentRole  YearsSinceLastPromotion  \\\n",
       "0               6                   4                        0   \n",
       "1              10                   7                        1   \n",
       "2               0                   0                        0   \n",
       "3               8                   7                        3   \n",
       "4               2                   2                        2   \n",
       "\n",
       "   YearsWithCurrManager  \n",
       "0                     5  \n",
       "1                     7  \n",
       "2                     0  \n",
       "3                     0  \n",
       "4                     2  \n",
       "\n",
       "[5 rows x 27 columns]"
      ]
     },
     "execution_count": 299,
     "metadata": {},
     "output_type": "execute_result"
    }
   ],
   "source": [
    "# Import our dependencies\n",
    "from sklearn.model_selection import train_test_split\n",
    "from sklearn.preprocessing import StandardScaler\n",
    "import pandas as pd\n",
    "import numpy as np\n",
    "from tensorflow.keras.models import Model\n",
    "from tensorflow.keras import layers\n",
    "\n",
    "#  Import and read the attrition data\n",
    "attrition_df = pd.read_csv('https://static.bc-edx.com/ai/ail-v-1-0/m19/lms/datasets/attrition.csv')\n",
    "attrition_df.head()"
   ]
  },
  {
   "cell_type": "code",
   "execution_count": 300,
   "metadata": {
    "colab": {
     "base_uri": "https://localhost:8080/",
     "height": 930
    },
    "executionInfo": {
     "elapsed": 10,
     "status": "ok",
     "timestamp": 1730699226906,
     "user": {
      "displayName": "Alexander Booth",
      "userId": "02269714993535573104"
     },
     "user_tz": 360
    },
    "id": "g22aQSY4Gc3Q",
    "outputId": "e8b68509-45d8-42e0-a9db-1bdce48e4b2d"
   },
   "outputs": [
    {
     "data": {
      "text/plain": [
       "Age                         43\n",
       "Attrition                    2\n",
       "BusinessTravel               3\n",
       "Department                   3\n",
       "DistanceFromHome            29\n",
       "Education                    5\n",
       "EducationField               6\n",
       "EnvironmentSatisfaction      4\n",
       "HourlyRate                  71\n",
       "JobInvolvement               4\n",
       "JobLevel                     5\n",
       "JobRole                      9\n",
       "JobSatisfaction              4\n",
       "MaritalStatus                3\n",
       "NumCompaniesWorked          10\n",
       "OverTime                     2\n",
       "PercentSalaryHike           15\n",
       "PerformanceRating            2\n",
       "RelationshipSatisfaction     4\n",
       "StockOptionLevel             4\n",
       "TotalWorkingYears           40\n",
       "TrainingTimesLastYear        7\n",
       "WorkLifeBalance              4\n",
       "YearsAtCompany              37\n",
       "YearsInCurrentRole          19\n",
       "YearsSinceLastPromotion     16\n",
       "YearsWithCurrManager        18\n",
       "dtype: int64"
      ]
     },
     "execution_count": 300,
     "metadata": {},
     "output_type": "execute_result"
    }
   ],
   "source": [
    "# Determine the number of unique values in each column\n",
    "attrition_df.nunique()"
   ]
  },
  {
   "cell_type": "code",
   "execution_count": 301,
   "metadata": {
    "executionInfo": {
     "elapsed": 7,
     "status": "ok",
     "timestamp": 1730699226906,
     "user": {
      "displayName": "Alexander Booth",
      "userId": "02269714993535573104"
     },
     "user_tz": 360
    },
    "id": "50vMgBEnJbfM"
   },
   "outputs": [
    {
     "data": {
      "text/html": [
       "<div>\n",
       "<style scoped>\n",
       "    .dataframe tbody tr th:only-of-type {\n",
       "        vertical-align: middle;\n",
       "    }\n",
       "\n",
       "    .dataframe tbody tr th {\n",
       "        vertical-align: top;\n",
       "    }\n",
       "\n",
       "    .dataframe thead th {\n",
       "        text-align: right;\n",
       "    }\n",
       "</style>\n",
       "<table border=\"1\" class=\"dataframe\">\n",
       "  <thead>\n",
       "    <tr style=\"text-align: right;\">\n",
       "      <th></th>\n",
       "      <th>Attrition</th>\n",
       "      <th>Department</th>\n",
       "    </tr>\n",
       "  </thead>\n",
       "  <tbody>\n",
       "    <tr>\n",
       "      <th>0</th>\n",
       "      <td>Yes</td>\n",
       "      <td>Sales</td>\n",
       "    </tr>\n",
       "    <tr>\n",
       "      <th>1</th>\n",
       "      <td>No</td>\n",
       "      <td>Research &amp; Development</td>\n",
       "    </tr>\n",
       "    <tr>\n",
       "      <th>2</th>\n",
       "      <td>Yes</td>\n",
       "      <td>Research &amp; Development</td>\n",
       "    </tr>\n",
       "    <tr>\n",
       "      <th>3</th>\n",
       "      <td>No</td>\n",
       "      <td>Research &amp; Development</td>\n",
       "    </tr>\n",
       "    <tr>\n",
       "      <th>4</th>\n",
       "      <td>No</td>\n",
       "      <td>Research &amp; Development</td>\n",
       "    </tr>\n",
       "    <tr>\n",
       "      <th>...</th>\n",
       "      <td>...</td>\n",
       "      <td>...</td>\n",
       "    </tr>\n",
       "    <tr>\n",
       "      <th>1465</th>\n",
       "      <td>No</td>\n",
       "      <td>Research &amp; Development</td>\n",
       "    </tr>\n",
       "    <tr>\n",
       "      <th>1466</th>\n",
       "      <td>No</td>\n",
       "      <td>Research &amp; Development</td>\n",
       "    </tr>\n",
       "    <tr>\n",
       "      <th>1467</th>\n",
       "      <td>No</td>\n",
       "      <td>Research &amp; Development</td>\n",
       "    </tr>\n",
       "    <tr>\n",
       "      <th>1468</th>\n",
       "      <td>No</td>\n",
       "      <td>Sales</td>\n",
       "    </tr>\n",
       "    <tr>\n",
       "      <th>1469</th>\n",
       "      <td>No</td>\n",
       "      <td>Research &amp; Development</td>\n",
       "    </tr>\n",
       "  </tbody>\n",
       "</table>\n",
       "<p>1470 rows × 2 columns</p>\n",
       "</div>"
      ],
      "text/plain": [
       "     Attrition              Department\n",
       "0          Yes                   Sales\n",
       "1           No  Research & Development\n",
       "2          Yes  Research & Development\n",
       "3           No  Research & Development\n",
       "4           No  Research & Development\n",
       "...        ...                     ...\n",
       "1465        No  Research & Development\n",
       "1466        No  Research & Development\n",
       "1467        No  Research & Development\n",
       "1468        No                   Sales\n",
       "1469        No  Research & Development\n",
       "\n",
       "[1470 rows x 2 columns]"
      ]
     },
     "execution_count": 301,
     "metadata": {},
     "output_type": "execute_result"
    }
   ],
   "source": [
    "# Create y_df with the Attrition and Department columns\n",
    "y_df = attrition_df[['Attrition', 'Department']].copy()\n",
    "y_df"
   ]
  },
  {
   "cell_type": "code",
   "execution_count": 302,
   "metadata": {
    "colab": {
     "base_uri": "https://localhost:8080/",
     "height": 397
    },
    "executionInfo": {
     "elapsed": 125,
     "status": "ok",
     "timestamp": 1730699227025,
     "user": {
      "displayName": "Alexander Booth",
      "userId": "02269714993535573104"
     },
     "user_tz": 360
    },
    "id": "Virka0zLGc3R",
    "outputId": "24f181c9-7e2e-42cb-94e8-a75842f1ab01"
   },
   "outputs": [
    {
     "data": {
      "text/plain": [
       "Education                   int64\n",
       "Age                         int64\n",
       "DistanceFromHome            int64\n",
       "JobSatisfaction             int64\n",
       "OverTime                   object\n",
       "StockOptionLevel            int64\n",
       "WorkLifeBalance             int64\n",
       "YearsAtCompany              int64\n",
       "YearsSinceLastPromotion     int64\n",
       "NumCompaniesWorked          int64\n",
       "dtype: object"
      ]
     },
     "execution_count": 302,
     "metadata": {},
     "output_type": "execute_result"
    }
   ],
   "source": [
    "# Create a list of at least 10 column names to use as X data\n",
    "X_data = ['Education', 'Age', 'DistanceFromHome', 'JobSatisfaction', 'OverTime', 'StockOptionLevel', 'WorkLifeBalance', 'YearsAtCompany', 'YearsSinceLastPromotion', 'NumCompaniesWorked']\n",
    "\n",
    "# Create X_df using your selected columns\n",
    "X_df = attrition_df[X_data].copy()\n",
    "\n",
    "# Show the data types for X_df\n",
    "X_df.dtypes"
   ]
  },
  {
   "cell_type": "code",
   "execution_count": 303,
   "metadata": {
    "executionInfo": {
     "elapsed": 9,
     "status": "ok",
     "timestamp": 1730699227025,
     "user": {
      "displayName": "Alexander Booth",
      "userId": "02269714993535573104"
     },
     "user_tz": 360
    },
    "id": "KaJfdOGUMHMR"
   },
   "outputs": [],
   "source": [
    "# Split the data into training and testing sets\n",
    "from sklearn.model_selection import train_test_split\n",
    "X_train, X_test, y_train, y_test = train_test_split(X_df, y_df, random_state=42)"
   ]
  },
  {
   "cell_type": "code",
   "execution_count": 304,
   "metadata": {},
   "outputs": [
    {
     "data": {
      "text/plain": [
       "OverTime\n",
       "No     780\n",
       "Yes    322\n",
       "Name: count, dtype: int64"
      ]
     },
     "execution_count": 304,
     "metadata": {},
     "output_type": "execute_result"
    }
   ],
   "source": [
    "X_train\n",
    "X_train.OverTime.value_counts()"
   ]
  },
  {
   "cell_type": "code",
   "execution_count": 305,
   "metadata": {},
   "outputs": [
    {
     "name": "stdout",
     "output_type": "stream",
     "text": [
      "OverTime\n",
      "0.0    780\n",
      "1.0    322\n",
      "Name: count, dtype: int64\n"
     ]
    }
   ],
   "source": [
    "# Convert your X data to numeric data types however you see fit\n",
    "# Add new code cells as necessary\n",
    "from sklearn.preprocessing import OneHotEncoder\n",
    "\n",
    "# Create a OneHotEncoder instance\n",
    "ohe = OneHotEncoder(sparse_output=False)  # Ensure the output is a dense array\n",
    "# Fit the \"OverTime column\"\n",
    "ohe.fit(X_train[['OverTime']])\n",
    "X_train_ohe = ohe.transform(X_train[['OverTime']])\n",
    "\n",
    "X_train_numeric = X_train.copy()\n",
    "X_train_numeric[\"OverTime\"] = X_train_ohe[:, 1]\n",
    "print(X_train_numeric.OverTime.value_counts())\n",
    "\n",
    "# Repeat for the test data\n",
    "X_test_ohe = ohe.transform(X_test[['OverTime']])\n",
    "X_test_numeric = X_test.copy()\n",
    "X_test_numeric[\"OverTime\"] = X_test_ohe[:, 1]"
   ]
  },
  {
   "cell_type": "code",
   "execution_count": 306,
   "metadata": {
    "executionInfo": {
     "elapsed": 6,
     "status": "ok",
     "timestamp": 1730699227162,
     "user": {
      "displayName": "Alexander Booth",
      "userId": "02269714993535573104"
     },
     "user_tz": 360
    },
    "id": "EWA-aIA5Gc3T"
   },
   "outputs": [],
   "source": [
    "# Create a StandardScaler\n",
    "scaler = StandardScaler()\n",
    "\n",
    "# Fit the StandardScaler to the training data\n",
    "scaler.fit(X_train_numeric)\n",
    "\n",
    "# Scale the training and testing data\n",
    "X_train_scaled = scaler.transform(X_train_numeric)\n",
    "X_test_scaled = scaler.transform(X_test_numeric)"
   ]
  },
  {
   "cell_type": "code",
   "execution_count": 307,
   "metadata": {},
   "outputs": [
    {
     "data": {
      "text/plain": [
       "Department\n",
       "Research & Development    721\n",
       "Sales                     336\n",
       "Human Resources            45\n",
       "Name: count, dtype: int64"
      ]
     },
     "execution_count": 307,
     "metadata": {},
     "output_type": "execute_result"
    }
   ],
   "source": [
    "y_train.Department.value_counts()"
   ]
  },
  {
   "cell_type": "code",
   "execution_count": 308,
   "metadata": {
    "colab": {
     "base_uri": "https://localhost:8080/"
    },
    "executionInfo": {
     "elapsed": 99,
     "status": "ok",
     "timestamp": 1730699227256,
     "user": {
      "displayName": "Alexander Booth",
      "userId": "02269714993535573104"
     },
     "user_tz": 360
    },
    "id": "-z0Mky8vQSz4",
    "outputId": "5024d63f-7e4e-4a91-fb76-0b2c79c1bcfb"
   },
   "outputs": [
    {
     "name": "stdout",
     "output_type": "stream",
     "text": [
      "[[0. 1. 0.]\n",
      " [0. 0. 1.]\n",
      " [0. 0. 1.]\n",
      " ...\n",
      " [0. 1. 0.]\n",
      " [0. 1. 0.]\n",
      " [0. 0. 1.]]\n"
     ]
    }
   ],
   "source": [
    "# Create a OneHotEncoder for the Department column\n",
    "enc_dpt = OneHotEncoder(handle_unknown='ignore')\n",
    "\n",
    "# Fit the encoder to the training data\n",
    "enc_dpt.fit(y_train[['Department']])\n",
    "\n",
    "# Create two new variables by applying the encoder\n",
    "# to the training and testing data\n",
    "department_encoded_train = enc_dpt.transform(y_train[['Department']]).toarray()\n",
    "print(department_encoded_train)\n",
    "y_train[['Research & Development', 'Sales', 'Human Resources']] = department_encoded_train\n",
    "# Delete the original OverTime column from X_train\n",
    "y_train.drop(columns=['Department'], inplace=True)\n",
    "\n",
    "department_encoded_test = enc_dpt.transform(y_test[['Department']]).toarray()\n",
    "y_test[['Research & Development', 'Sales', 'Human Resources']] = department_encoded_test\n",
    "y_test.drop(columns=['Department'], inplace=True)"
   ]
  },
  {
   "cell_type": "code",
   "execution_count": 309,
   "metadata": {},
   "outputs": [
    {
     "data": {
      "text/plain": [
       "Attrition\n",
       "No     913\n",
       "Yes    189\n",
       "Name: count, dtype: int64"
      ]
     },
     "execution_count": 309,
     "metadata": {},
     "output_type": "execute_result"
    }
   ],
   "source": [
    "y_train.Attrition.value_counts()"
   ]
  },
  {
   "cell_type": "code",
   "execution_count": 310,
   "metadata": {
    "colab": {
     "base_uri": "https://localhost:8080/"
    },
    "executionInfo": {
     "elapsed": 5,
     "status": "ok",
     "timestamp": 1730699227257,
     "user": {
      "displayName": "Alexander Booth",
      "userId": "02269714993535573104"
     },
     "user_tz": 360
    },
    "id": "-G4DSpvFRrk4",
    "outputId": "1821049e-a4f0-437f-b8a7-e415431fbdb0"
   },
   "outputs": [
    {
     "name": "stdout",
     "output_type": "stream",
     "text": [
      "[[1. 0.]\n",
      " [1. 0.]\n",
      " [1. 0.]\n",
      " ...\n",
      " [0. 1.]\n",
      " [1. 0.]\n",
      " [1. 0.]]\n"
     ]
    }
   ],
   "source": [
    "# Create a OneHotEncoder for the Attrition column\n",
    "enc_attr = OneHotEncoder(handle_unknown='ignore')\n",
    "\n",
    "# Fit the encoder to the training data\n",
    "enc_attr.fit(y_train[['Attrition']])\n",
    "\n",
    "# Create two new variables by applying the encoder\n",
    "# to the training and testing data\n",
    "attrition_encoded_train = enc_attr.transform(y_train[['Attrition']]).toarray()\n",
    "print(attrition_encoded_train)\n",
    "y_train[['Attrition_No', 'Attrition_Yes']] = attrition_encoded_train\n",
    "# Delete the original OverTime column from X_train\n",
    "y_train.drop(columns=['Attrition'], inplace=True)\n",
    "\n",
    "attrition_encoded_test = enc_attr.transform(y_test[['Attrition']]).toarray()\n",
    "y_test[['Attrition_No', 'Attrition_Yes']] = attrition_encoded_test\n",
    "y_test.drop(columns=['Attrition'], inplace=True)"
   ]
  },
  {
   "cell_type": "markdown",
   "metadata": {
    "id": "ykNmu_WWGc3T"
   },
   "source": [
    "## Part 2: Create, Compile, and Train the Model"
   ]
  },
  {
   "cell_type": "code",
   "execution_count": 311,
   "metadata": {
    "executionInfo": {
     "elapsed": 309,
     "status": "ok",
     "timestamp": 1730699227563,
     "user": {
      "displayName": "Alexander Booth",
      "userId": "02269714993535573104"
     },
     "user_tz": 360
    },
    "id": "WUptZqmSGc3T"
   },
   "outputs": [
    {
     "name": "stdout",
     "output_type": "stream",
     "text": [
      "10\n"
     ]
    }
   ],
   "source": [
    "# Find the number of columns in the X training data.\n",
    "print(X_train_scaled.shape[1])\n",
    "\n",
    "# Create the input layer\n",
    "input_layer = layers.Input(shape=(X_train_scaled.shape[1],), name='input_layer')\n",
    "\n",
    "# Create at least two shared layers\n",
    "shared1 = layers.Dense(64, activation='relu')(input_layer)  # Adjusted kernel size\n",
    "shared2 = layers.Dense(128, activation='relu')(shared1)  # Adjusted pooling size\n"
   ]
  },
  {
   "cell_type": "code",
   "execution_count": 312,
   "metadata": {},
   "outputs": [
    {
     "data": {
      "text/html": [
       "<div>\n",
       "<style scoped>\n",
       "    .dataframe tbody tr th:only-of-type {\n",
       "        vertical-align: middle;\n",
       "    }\n",
       "\n",
       "    .dataframe tbody tr th {\n",
       "        vertical-align: top;\n",
       "    }\n",
       "\n",
       "    .dataframe thead th {\n",
       "        text-align: right;\n",
       "    }\n",
       "</style>\n",
       "<table border=\"1\" class=\"dataframe\">\n",
       "  <thead>\n",
       "    <tr style=\"text-align: right;\">\n",
       "      <th></th>\n",
       "      <th>Research &amp; Development</th>\n",
       "      <th>Sales</th>\n",
       "      <th>Human Resources</th>\n",
       "      <th>Attrition_No</th>\n",
       "      <th>Attrition_Yes</th>\n",
       "    </tr>\n",
       "  </thead>\n",
       "  <tbody>\n",
       "    <tr>\n",
       "      <th>1343</th>\n",
       "      <td>0.0</td>\n",
       "      <td>1.0</td>\n",
       "      <td>0.0</td>\n",
       "      <td>1.0</td>\n",
       "      <td>0.0</td>\n",
       "    </tr>\n",
       "    <tr>\n",
       "      <th>1121</th>\n",
       "      <td>0.0</td>\n",
       "      <td>0.0</td>\n",
       "      <td>1.0</td>\n",
       "      <td>1.0</td>\n",
       "      <td>0.0</td>\n",
       "    </tr>\n",
       "    <tr>\n",
       "      <th>1048</th>\n",
       "      <td>0.0</td>\n",
       "      <td>0.0</td>\n",
       "      <td>1.0</td>\n",
       "      <td>1.0</td>\n",
       "      <td>0.0</td>\n",
       "    </tr>\n",
       "    <tr>\n",
       "      <th>1393</th>\n",
       "      <td>0.0</td>\n",
       "      <td>0.0</td>\n",
       "      <td>1.0</td>\n",
       "      <td>1.0</td>\n",
       "      <td>0.0</td>\n",
       "    </tr>\n",
       "    <tr>\n",
       "      <th>527</th>\n",
       "      <td>0.0</td>\n",
       "      <td>0.0</td>\n",
       "      <td>1.0</td>\n",
       "      <td>1.0</td>\n",
       "      <td>0.0</td>\n",
       "    </tr>\n",
       "    <tr>\n",
       "      <th>...</th>\n",
       "      <td>...</td>\n",
       "      <td>...</td>\n",
       "      <td>...</td>\n",
       "      <td>...</td>\n",
       "      <td>...</td>\n",
       "    </tr>\n",
       "    <tr>\n",
       "      <th>1130</th>\n",
       "      <td>0.0</td>\n",
       "      <td>1.0</td>\n",
       "      <td>0.0</td>\n",
       "      <td>1.0</td>\n",
       "      <td>0.0</td>\n",
       "    </tr>\n",
       "    <tr>\n",
       "      <th>1294</th>\n",
       "      <td>0.0</td>\n",
       "      <td>1.0</td>\n",
       "      <td>0.0</td>\n",
       "      <td>1.0</td>\n",
       "      <td>0.0</td>\n",
       "    </tr>\n",
       "    <tr>\n",
       "      <th>860</th>\n",
       "      <td>0.0</td>\n",
       "      <td>1.0</td>\n",
       "      <td>0.0</td>\n",
       "      <td>0.0</td>\n",
       "      <td>1.0</td>\n",
       "    </tr>\n",
       "    <tr>\n",
       "      <th>1459</th>\n",
       "      <td>0.0</td>\n",
       "      <td>1.0</td>\n",
       "      <td>0.0</td>\n",
       "      <td>1.0</td>\n",
       "      <td>0.0</td>\n",
       "    </tr>\n",
       "    <tr>\n",
       "      <th>1126</th>\n",
       "      <td>0.0</td>\n",
       "      <td>0.0</td>\n",
       "      <td>1.0</td>\n",
       "      <td>1.0</td>\n",
       "      <td>0.0</td>\n",
       "    </tr>\n",
       "  </tbody>\n",
       "</table>\n",
       "<p>1102 rows × 5 columns</p>\n",
       "</div>"
      ],
      "text/plain": [
       "      Research & Development  Sales  Human Resources  Attrition_No  \\\n",
       "1343                     0.0    1.0              0.0           1.0   \n",
       "1121                     0.0    0.0              1.0           1.0   \n",
       "1048                     0.0    0.0              1.0           1.0   \n",
       "1393                     0.0    0.0              1.0           1.0   \n",
       "527                      0.0    0.0              1.0           1.0   \n",
       "...                      ...    ...              ...           ...   \n",
       "1130                     0.0    1.0              0.0           1.0   \n",
       "1294                     0.0    1.0              0.0           1.0   \n",
       "860                      0.0    1.0              0.0           0.0   \n",
       "1459                     0.0    1.0              0.0           1.0   \n",
       "1126                     0.0    0.0              1.0           1.0   \n",
       "\n",
       "      Attrition_Yes  \n",
       "1343            0.0  \n",
       "1121            0.0  \n",
       "1048            0.0  \n",
       "1393            0.0  \n",
       "527             0.0  \n",
       "...             ...  \n",
       "1130            0.0  \n",
       "1294            0.0  \n",
       "860             1.0  \n",
       "1459            0.0  \n",
       "1126            0.0  \n",
       "\n",
       "[1102 rows x 5 columns]"
      ]
     },
     "execution_count": 312,
     "metadata": {},
     "output_type": "execute_result"
    }
   ],
   "source": [
    "y_train"
   ]
  },
  {
   "cell_type": "code",
   "execution_count": 313,
   "metadata": {
    "executionInfo": {
     "elapsed": 118,
     "status": "ok",
     "timestamp": 1730699227678,
     "user": {
      "displayName": "Alexander Booth",
      "userId": "02269714993535573104"
     },
     "user_tz": 360
    },
    "id": "JukjTm2yTEqd"
   },
   "outputs": [],
   "source": [
    "# Create a branch for Department\n",
    "# with a hidden layer and an output layer\n",
    "\n",
    "# Create the hidden layer\n",
    "department_hidden = layers.Dense(32, activation='relu')(shared2)\n",
    "\n",
    "# Create the output layer\n",
    "department_output = layers.Dense(3, activation='softmax', name='department_output')(department_hidden)"
   ]
  },
  {
   "cell_type": "code",
   "execution_count": 314,
   "metadata": {
    "executionInfo": {
     "elapsed": 9,
     "status": "ok",
     "timestamp": 1730699227679,
     "user": {
      "displayName": "Alexander Booth",
      "userId": "02269714993535573104"
     },
     "user_tz": 360
    },
    "id": "9OqhUiOJUBkR"
   },
   "outputs": [],
   "source": [
    "# Create a branch for Attrition\n",
    "# with a hidden layer and an output layer\n",
    "\n",
    "# Create the hidden layer\n",
    "attrition_hidden = layers.Dense(64, activation='relu')(shared2)\n",
    "\n",
    "# Create the output layer\n",
    "attrition_output = layers.Dense(2, activation='softmax', name='attrition_output')(attrition_hidden)\n"
   ]
  },
  {
   "cell_type": "code",
   "execution_count": 315,
   "metadata": {
    "colab": {
     "base_uri": "https://localhost:8080/",
     "height": 361
    },
    "executionInfo": {
     "elapsed": 108,
     "status": "ok",
     "timestamp": 1730699227780,
     "user": {
      "displayName": "Alexander Booth",
      "userId": "02269714993535573104"
     },
     "user_tz": 360
    },
    "id": "twmuejdxGc3T",
    "outputId": "dd9ce242-6a66-4709-ba13-4b13551c22e0"
   },
   "outputs": [
    {
     "data": {
      "text/html": [
       "<pre style=\"white-space:pre;overflow-x:auto;line-height:normal;font-family:Menlo,'DejaVu Sans Mono',consolas,'Courier New',monospace\"><span style=\"font-weight: bold\">Model: \"functional_3\"</span>\n",
       "</pre>\n"
      ],
      "text/plain": [
       "\u001b[1mModel: \"functional_3\"\u001b[0m\n"
      ]
     },
     "metadata": {},
     "output_type": "display_data"
    },
    {
     "data": {
      "text/html": [
       "<pre style=\"white-space:pre;overflow-x:auto;line-height:normal;font-family:Menlo,'DejaVu Sans Mono',consolas,'Courier New',monospace\">┏━━━━━━━━━━━━━━━━━━━━━┳━━━━━━━━━━━━━━━━━━━┳━━━━━━━━━━━━┳━━━━━━━━━━━━━━━━━━━┓\n",
       "┃<span style=\"font-weight: bold\"> Layer (type)        </span>┃<span style=\"font-weight: bold\"> Output Shape      </span>┃<span style=\"font-weight: bold\">    Param # </span>┃<span style=\"font-weight: bold\"> Connected to      </span>┃\n",
       "┡━━━━━━━━━━━━━━━━━━━━━╇━━━━━━━━━━━━━━━━━━━╇━━━━━━━━━━━━╇━━━━━━━━━━━━━━━━━━━┩\n",
       "│ input_layer         │ (<span style=\"color: #00d7ff; text-decoration-color: #00d7ff\">None</span>, <span style=\"color: #00af00; text-decoration-color: #00af00\">10</span>)        │          <span style=\"color: #00af00; text-decoration-color: #00af00\">0</span> │ -                 │\n",
       "│ (<span style=\"color: #0087ff; text-decoration-color: #0087ff\">InputLayer</span>)        │                   │            │                   │\n",
       "├─────────────────────┼───────────────────┼────────────┼───────────────────┤\n",
       "│ dense_12 (<span style=\"color: #0087ff; text-decoration-color: #0087ff\">Dense</span>)    │ (<span style=\"color: #00d7ff; text-decoration-color: #00d7ff\">None</span>, <span style=\"color: #00af00; text-decoration-color: #00af00\">64</span>)        │        <span style=\"color: #00af00; text-decoration-color: #00af00\">704</span> │ input_layer[<span style=\"color: #00af00; text-decoration-color: #00af00\">0</span>][<span style=\"color: #00af00; text-decoration-color: #00af00\">0</span>] │\n",
       "├─────────────────────┼───────────────────┼────────────┼───────────────────┤\n",
       "│ dense_13 (<span style=\"color: #0087ff; text-decoration-color: #0087ff\">Dense</span>)    │ (<span style=\"color: #00d7ff; text-decoration-color: #00d7ff\">None</span>, <span style=\"color: #00af00; text-decoration-color: #00af00\">128</span>)       │      <span style=\"color: #00af00; text-decoration-color: #00af00\">8,320</span> │ dense_12[<span style=\"color: #00af00; text-decoration-color: #00af00\">0</span>][<span style=\"color: #00af00; text-decoration-color: #00af00\">0</span>]    │\n",
       "├─────────────────────┼───────────────────┼────────────┼───────────────────┤\n",
       "│ dense_14 (<span style=\"color: #0087ff; text-decoration-color: #0087ff\">Dense</span>)    │ (<span style=\"color: #00d7ff; text-decoration-color: #00d7ff\">None</span>, <span style=\"color: #00af00; text-decoration-color: #00af00\">32</span>)        │      <span style=\"color: #00af00; text-decoration-color: #00af00\">4,128</span> │ dense_13[<span style=\"color: #00af00; text-decoration-color: #00af00\">0</span>][<span style=\"color: #00af00; text-decoration-color: #00af00\">0</span>]    │\n",
       "├─────────────────────┼───────────────────┼────────────┼───────────────────┤\n",
       "│ dense_15 (<span style=\"color: #0087ff; text-decoration-color: #0087ff\">Dense</span>)    │ (<span style=\"color: #00d7ff; text-decoration-color: #00d7ff\">None</span>, <span style=\"color: #00af00; text-decoration-color: #00af00\">64</span>)        │      <span style=\"color: #00af00; text-decoration-color: #00af00\">8,256</span> │ dense_13[<span style=\"color: #00af00; text-decoration-color: #00af00\">0</span>][<span style=\"color: #00af00; text-decoration-color: #00af00\">0</span>]    │\n",
       "├─────────────────────┼───────────────────┼────────────┼───────────────────┤\n",
       "│ department_output   │ (<span style=\"color: #00d7ff; text-decoration-color: #00d7ff\">None</span>, <span style=\"color: #00af00; text-decoration-color: #00af00\">3</span>)         │         <span style=\"color: #00af00; text-decoration-color: #00af00\">99</span> │ dense_14[<span style=\"color: #00af00; text-decoration-color: #00af00\">0</span>][<span style=\"color: #00af00; text-decoration-color: #00af00\">0</span>]    │\n",
       "│ (<span style=\"color: #0087ff; text-decoration-color: #0087ff\">Dense</span>)             │                   │            │                   │\n",
       "├─────────────────────┼───────────────────┼────────────┼───────────────────┤\n",
       "│ attrition_output    │ (<span style=\"color: #00d7ff; text-decoration-color: #00d7ff\">None</span>, <span style=\"color: #00af00; text-decoration-color: #00af00\">2</span>)         │        <span style=\"color: #00af00; text-decoration-color: #00af00\">130</span> │ dense_15[<span style=\"color: #00af00; text-decoration-color: #00af00\">0</span>][<span style=\"color: #00af00; text-decoration-color: #00af00\">0</span>]    │\n",
       "│ (<span style=\"color: #0087ff; text-decoration-color: #0087ff\">Dense</span>)             │                   │            │                   │\n",
       "└─────────────────────┴───────────────────┴────────────┴───────────────────┘\n",
       "</pre>\n"
      ],
      "text/plain": [
       "┏━━━━━━━━━━━━━━━━━━━━━┳━━━━━━━━━━━━━━━━━━━┳━━━━━━━━━━━━┳━━━━━━━━━━━━━━━━━━━┓\n",
       "┃\u001b[1m \u001b[0m\u001b[1mLayer (type)       \u001b[0m\u001b[1m \u001b[0m┃\u001b[1m \u001b[0m\u001b[1mOutput Shape     \u001b[0m\u001b[1m \u001b[0m┃\u001b[1m \u001b[0m\u001b[1m   Param #\u001b[0m\u001b[1m \u001b[0m┃\u001b[1m \u001b[0m\u001b[1mConnected to     \u001b[0m\u001b[1m \u001b[0m┃\n",
       "┡━━━━━━━━━━━━━━━━━━━━━╇━━━━━━━━━━━━━━━━━━━╇━━━━━━━━━━━━╇━━━━━━━━━━━━━━━━━━━┩\n",
       "│ input_layer         │ (\u001b[38;5;45mNone\u001b[0m, \u001b[38;5;34m10\u001b[0m)        │          \u001b[38;5;34m0\u001b[0m │ -                 │\n",
       "│ (\u001b[38;5;33mInputLayer\u001b[0m)        │                   │            │                   │\n",
       "├─────────────────────┼───────────────────┼────────────┼───────────────────┤\n",
       "│ dense_12 (\u001b[38;5;33mDense\u001b[0m)    │ (\u001b[38;5;45mNone\u001b[0m, \u001b[38;5;34m64\u001b[0m)        │        \u001b[38;5;34m704\u001b[0m │ input_layer[\u001b[38;5;34m0\u001b[0m][\u001b[38;5;34m0\u001b[0m] │\n",
       "├─────────────────────┼───────────────────┼────────────┼───────────────────┤\n",
       "│ dense_13 (\u001b[38;5;33mDense\u001b[0m)    │ (\u001b[38;5;45mNone\u001b[0m, \u001b[38;5;34m128\u001b[0m)       │      \u001b[38;5;34m8,320\u001b[0m │ dense_12[\u001b[38;5;34m0\u001b[0m][\u001b[38;5;34m0\u001b[0m]    │\n",
       "├─────────────────────┼───────────────────┼────────────┼───────────────────┤\n",
       "│ dense_14 (\u001b[38;5;33mDense\u001b[0m)    │ (\u001b[38;5;45mNone\u001b[0m, \u001b[38;5;34m32\u001b[0m)        │      \u001b[38;5;34m4,128\u001b[0m │ dense_13[\u001b[38;5;34m0\u001b[0m][\u001b[38;5;34m0\u001b[0m]    │\n",
       "├─────────────────────┼───────────────────┼────────────┼───────────────────┤\n",
       "│ dense_15 (\u001b[38;5;33mDense\u001b[0m)    │ (\u001b[38;5;45mNone\u001b[0m, \u001b[38;5;34m64\u001b[0m)        │      \u001b[38;5;34m8,256\u001b[0m │ dense_13[\u001b[38;5;34m0\u001b[0m][\u001b[38;5;34m0\u001b[0m]    │\n",
       "├─────────────────────┼───────────────────┼────────────┼───────────────────┤\n",
       "│ department_output   │ (\u001b[38;5;45mNone\u001b[0m, \u001b[38;5;34m3\u001b[0m)         │         \u001b[38;5;34m99\u001b[0m │ dense_14[\u001b[38;5;34m0\u001b[0m][\u001b[38;5;34m0\u001b[0m]    │\n",
       "│ (\u001b[38;5;33mDense\u001b[0m)             │                   │            │                   │\n",
       "├─────────────────────┼───────────────────┼────────────┼───────────────────┤\n",
       "│ attrition_output    │ (\u001b[38;5;45mNone\u001b[0m, \u001b[38;5;34m2\u001b[0m)         │        \u001b[38;5;34m130\u001b[0m │ dense_15[\u001b[38;5;34m0\u001b[0m][\u001b[38;5;34m0\u001b[0m]    │\n",
       "│ (\u001b[38;5;33mDense\u001b[0m)             │                   │            │                   │\n",
       "└─────────────────────┴───────────────────┴────────────┴───────────────────┘\n"
      ]
     },
     "metadata": {},
     "output_type": "display_data"
    },
    {
     "data": {
      "text/html": [
       "<pre style=\"white-space:pre;overflow-x:auto;line-height:normal;font-family:Menlo,'DejaVu Sans Mono',consolas,'Courier New',monospace\"><span style=\"font-weight: bold\"> Total params: </span><span style=\"color: #00af00; text-decoration-color: #00af00\">21,637</span> (84.52 KB)\n",
       "</pre>\n"
      ],
      "text/plain": [
       "\u001b[1m Total params: \u001b[0m\u001b[38;5;34m21,637\u001b[0m (84.52 KB)\n"
      ]
     },
     "metadata": {},
     "output_type": "display_data"
    },
    {
     "data": {
      "text/html": [
       "<pre style=\"white-space:pre;overflow-x:auto;line-height:normal;font-family:Menlo,'DejaVu Sans Mono',consolas,'Courier New',monospace\"><span style=\"font-weight: bold\"> Trainable params: </span><span style=\"color: #00af00; text-decoration-color: #00af00\">21,637</span> (84.52 KB)\n",
       "</pre>\n"
      ],
      "text/plain": [
       "\u001b[1m Trainable params: \u001b[0m\u001b[38;5;34m21,637\u001b[0m (84.52 KB)\n"
      ]
     },
     "metadata": {},
     "output_type": "display_data"
    },
    {
     "data": {
      "text/html": [
       "<pre style=\"white-space:pre;overflow-x:auto;line-height:normal;font-family:Menlo,'DejaVu Sans Mono',consolas,'Courier New',monospace\"><span style=\"font-weight: bold\"> Non-trainable params: </span><span style=\"color: #00af00; text-decoration-color: #00af00\">0</span> (0.00 B)\n",
       "</pre>\n"
      ],
      "text/plain": [
       "\u001b[1m Non-trainable params: \u001b[0m\u001b[38;5;34m0\u001b[0m (0.00 B)\n"
      ]
     },
     "metadata": {},
     "output_type": "display_data"
    }
   ],
   "source": [
    "# Create the model\n",
    "model = Model(inputs=input_layer, outputs=[department_output, attrition_output])\n",
    "\n",
    "# Compile the model\n",
    "model.compile(optimizer='adam',\n",
    "              loss={'department_output': 'categorical_crossentropy',\n",
    "                    'attrition_output': 'binary_crossentropy'},\n",
    "              metrics={'department_output': 'accuracy',\n",
    "                       'attrition_output': 'accuracy'})\n",
    "\n",
    "# Summarize the model\n",
    "model.summary()"
   ]
  },
  {
   "cell_type": "code",
   "execution_count": 316,
   "metadata": {
    "colab": {
     "base_uri": "https://localhost:8080/"
    },
    "executionInfo": {
     "elapsed": 31740,
     "status": "ok",
     "timestamp": 1730699259517,
     "user": {
      "displayName": "Alexander Booth",
      "userId": "02269714993535573104"
     },
     "user_tz": 360
    },
    "id": "c8oGy0dpGc3U",
    "outputId": "f48a5292-426f-4715-ea6e-381a8e9d5542"
   },
   "outputs": [
    {
     "name": "stdout",
     "output_type": "stream",
     "text": [
      "Epoch 1/100\n",
      "\u001b[1m28/28\u001b[0m \u001b[32m━━━━━━━━━━━━━━━━━━━━\u001b[0m\u001b[37m\u001b[0m \u001b[1m1s\u001b[0m 8ms/step - attrition_output_accuracy: 0.8484 - attrition_output_loss: 0.5378 - department_output_accuracy: 0.5649 - department_output_loss: 0.9356 - loss: 1.4734 - val_attrition_output_accuracy: 0.7873 - val_attrition_output_loss: 0.5533 - val_department_output_accuracy: 0.6063 - val_department_output_loss: 0.8514 - val_loss: 1.4079\n",
      "Epoch 2/100\n",
      "\u001b[1m28/28\u001b[0m \u001b[32m━━━━━━━━━━━━━━━━━━━━\u001b[0m\u001b[37m\u001b[0m \u001b[1m0s\u001b[0m 3ms/step - attrition_output_accuracy: 0.8471 - attrition_output_loss: 0.4134 - department_output_accuracy: 0.6763 - department_output_loss: 0.7612 - loss: 1.1741 - val_attrition_output_accuracy: 0.7873 - val_attrition_output_loss: 0.5035 - val_department_output_accuracy: 0.6063 - val_department_output_loss: 0.8403 - val_loss: 1.3472\n",
      "Epoch 3/100\n",
      "\u001b[1m28/28\u001b[0m \u001b[32m━━━━━━━━━━━━━━━━━━━━\u001b[0m\u001b[37m\u001b[0m \u001b[1m0s\u001b[0m 3ms/step - attrition_output_accuracy: 0.8360 - attrition_output_loss: 0.4097 - department_output_accuracy: 0.6786 - department_output_loss: 0.7488 - loss: 1.1587 - val_attrition_output_accuracy: 0.7873 - val_attrition_output_loss: 0.4828 - val_department_output_accuracy: 0.6063 - val_department_output_loss: 0.8257 - val_loss: 1.3118\n",
      "Epoch 4/100\n",
      "\u001b[1m28/28\u001b[0m \u001b[32m━━━━━━━━━━━━━━━━━━━━\u001b[0m\u001b[37m\u001b[0m \u001b[1m0s\u001b[0m 3ms/step - attrition_output_accuracy: 0.8443 - attrition_output_loss: 0.3889 - department_output_accuracy: 0.6701 - department_output_loss: 0.7403 - loss: 1.1293 - val_attrition_output_accuracy: 0.8054 - val_attrition_output_loss: 0.4602 - val_department_output_accuracy: 0.6063 - val_department_output_loss: 0.8249 - val_loss: 1.2886\n",
      "Epoch 5/100\n",
      "\u001b[1m28/28\u001b[0m \u001b[32m━━━━━━━━━━━━━━━━━━━━\u001b[0m\u001b[37m\u001b[0m \u001b[1m0s\u001b[0m 3ms/step - attrition_output_accuracy: 0.8685 - attrition_output_loss: 0.3386 - department_output_accuracy: 0.6666 - department_output_loss: 0.7413 - loss: 1.0795 - val_attrition_output_accuracy: 0.8190 - val_attrition_output_loss: 0.4503 - val_department_output_accuracy: 0.6063 - val_department_output_loss: 0.8322 - val_loss: 1.2860\n",
      "Epoch 6/100\n",
      "\u001b[1m28/28\u001b[0m \u001b[32m━━━━━━━━━━━━━━━━━━━━\u001b[0m\u001b[37m\u001b[0m \u001b[1m0s\u001b[0m 3ms/step - attrition_output_accuracy: 0.8457 - attrition_output_loss: 0.3779 - department_output_accuracy: 0.6674 - department_output_loss: 0.7201 - loss: 1.0980 - val_attrition_output_accuracy: 0.8190 - val_attrition_output_loss: 0.4493 - val_department_output_accuracy: 0.6063 - val_department_output_loss: 0.8390 - val_loss: 1.2920\n",
      "Epoch 7/100\n",
      "\u001b[1m28/28\u001b[0m \u001b[32m━━━━━━━━━━━━━━━━━━━━\u001b[0m\u001b[37m\u001b[0m \u001b[1m0s\u001b[0m 3ms/step - attrition_output_accuracy: 0.8493 - attrition_output_loss: 0.3482 - department_output_accuracy: 0.6664 - department_output_loss: 0.7104 - loss: 1.0586 - val_attrition_output_accuracy: 0.8145 - val_attrition_output_loss: 0.4543 - val_department_output_accuracy: 0.6063 - val_department_output_loss: 0.8419 - val_loss: 1.2998\n",
      "Epoch 8/100\n",
      "\u001b[1m28/28\u001b[0m \u001b[32m━━━━━━━━━━━━━━━━━━━━\u001b[0m\u001b[37m\u001b[0m \u001b[1m0s\u001b[0m 3ms/step - attrition_output_accuracy: 0.8500 - attrition_output_loss: 0.3599 - department_output_accuracy: 0.6535 - department_output_loss: 0.6985 - loss: 1.0586 - val_attrition_output_accuracy: 0.8281 - val_attrition_output_loss: 0.4424 - val_department_output_accuracy: 0.6063 - val_department_output_loss: 0.8563 - val_loss: 1.3026\n",
      "Epoch 9/100\n",
      "\u001b[1m28/28\u001b[0m \u001b[32m━━━━━━━━━━━━━━━━━━━━\u001b[0m\u001b[37m\u001b[0m \u001b[1m0s\u001b[0m 3ms/step - attrition_output_accuracy: 0.8546 - attrition_output_loss: 0.3444 - department_output_accuracy: 0.6836 - department_output_loss: 0.6704 - loss: 1.0151 - val_attrition_output_accuracy: 0.8235 - val_attrition_output_loss: 0.4398 - val_department_output_accuracy: 0.5837 - val_department_output_loss: 0.8441 - val_loss: 1.2874\n",
      "Epoch 10/100\n",
      "\u001b[1m28/28\u001b[0m \u001b[32m━━━━━━━━━━━━━━━━━━━━\u001b[0m\u001b[37m\u001b[0m \u001b[1m0s\u001b[0m 3ms/step - attrition_output_accuracy: 0.8688 - attrition_output_loss: 0.3292 - department_output_accuracy: 0.6633 - department_output_loss: 0.7007 - loss: 1.0294 - val_attrition_output_accuracy: 0.8281 - val_attrition_output_loss: 0.4303 - val_department_output_accuracy: 0.5837 - val_department_output_loss: 0.8553 - val_loss: 1.2896\n",
      "Epoch 11/100\n",
      "\u001b[1m28/28\u001b[0m \u001b[32m━━━━━━━━━━━━━━━━━━━━\u001b[0m\u001b[37m\u001b[0m \u001b[1m0s\u001b[0m 3ms/step - attrition_output_accuracy: 0.8670 - attrition_output_loss: 0.3060 - department_output_accuracy: 0.6801 - department_output_loss: 0.6708 - loss: 0.9768 - val_attrition_output_accuracy: 0.8281 - val_attrition_output_loss: 0.4248 - val_department_output_accuracy: 0.5928 - val_department_output_loss: 0.8663 - val_loss: 1.2951\n",
      "Epoch 12/100\n",
      "\u001b[1m28/28\u001b[0m \u001b[32m━━━━━━━━━━━━━━━━━━━━\u001b[0m\u001b[37m\u001b[0m \u001b[1m0s\u001b[0m 3ms/step - attrition_output_accuracy: 0.8718 - attrition_output_loss: 0.3188 - department_output_accuracy: 0.6654 - department_output_loss: 0.6730 - loss: 0.9919 - val_attrition_output_accuracy: 0.8235 - val_attrition_output_loss: 0.4286 - val_department_output_accuracy: 0.5882 - val_department_output_loss: 0.8692 - val_loss: 1.3020\n",
      "Epoch 13/100\n",
      "\u001b[1m28/28\u001b[0m \u001b[32m━━━━━━━━━━━━━━━━━━━━\u001b[0m\u001b[37m\u001b[0m \u001b[1m0s\u001b[0m 3ms/step - attrition_output_accuracy: 0.8921 - attrition_output_loss: 0.2992 - department_output_accuracy: 0.6862 - department_output_loss: 0.6536 - loss: 0.9531 - val_attrition_output_accuracy: 0.8145 - val_attrition_output_loss: 0.4385 - val_department_output_accuracy: 0.5747 - val_department_output_loss: 0.8755 - val_loss: 1.3184\n",
      "Epoch 14/100\n",
      "\u001b[1m28/28\u001b[0m \u001b[32m━━━━━━━━━━━━━━━━━━━━\u001b[0m\u001b[37m\u001b[0m \u001b[1m0s\u001b[0m 3ms/step - attrition_output_accuracy: 0.8839 - attrition_output_loss: 0.2819 - department_output_accuracy: 0.7110 - department_output_loss: 0.6311 - loss: 0.9133 - val_attrition_output_accuracy: 0.8145 - val_attrition_output_loss: 0.4455 - val_department_output_accuracy: 0.5792 - val_department_output_loss: 0.8791 - val_loss: 1.3291\n",
      "Epoch 15/100\n",
      "\u001b[1m28/28\u001b[0m \u001b[32m━━━━━━━━━━━━━━━━━━━━\u001b[0m\u001b[37m\u001b[0m \u001b[1m0s\u001b[0m 3ms/step - attrition_output_accuracy: 0.8877 - attrition_output_loss: 0.2894 - department_output_accuracy: 0.6941 - department_output_loss: 0.6267 - loss: 0.9159 - val_attrition_output_accuracy: 0.8100 - val_attrition_output_loss: 0.4634 - val_department_output_accuracy: 0.5928 - val_department_output_loss: 0.9022 - val_loss: 1.3706\n",
      "Epoch 16/100\n",
      "\u001b[1m28/28\u001b[0m \u001b[32m━━━━━━━━━━━━━━━━━━━━\u001b[0m\u001b[37m\u001b[0m \u001b[1m0s\u001b[0m 3ms/step - attrition_output_accuracy: 0.8957 - attrition_output_loss: 0.2783 - department_output_accuracy: 0.7239 - department_output_loss: 0.5875 - loss: 0.8659 - val_attrition_output_accuracy: 0.8100 - val_attrition_output_loss: 0.4614 - val_department_output_accuracy: 0.5701 - val_department_output_loss: 0.9381 - val_loss: 1.4048\n",
      "Epoch 17/100\n",
      "\u001b[1m28/28\u001b[0m \u001b[32m━━━━━━━━━━━━━━━━━━━━\u001b[0m\u001b[37m\u001b[0m \u001b[1m0s\u001b[0m 3ms/step - attrition_output_accuracy: 0.9034 - attrition_output_loss: 0.2584 - department_output_accuracy: 0.7062 - department_output_loss: 0.6265 - loss: 0.8851 - val_attrition_output_accuracy: 0.8190 - val_attrition_output_loss: 0.4617 - val_department_output_accuracy: 0.5837 - val_department_output_loss: 0.9373 - val_loss: 1.4045\n",
      "Epoch 18/100\n",
      "\u001b[1m28/28\u001b[0m \u001b[32m━━━━━━━━━━━━━━━━━━━━\u001b[0m\u001b[37m\u001b[0m \u001b[1m0s\u001b[0m 3ms/step - attrition_output_accuracy: 0.9022 - attrition_output_loss: 0.2479 - department_output_accuracy: 0.7095 - department_output_loss: 0.6047 - loss: 0.8524 - val_attrition_output_accuracy: 0.8009 - val_attrition_output_loss: 0.4650 - val_department_output_accuracy: 0.5701 - val_department_output_loss: 0.9375 - val_loss: 1.4081\n",
      "Epoch 19/100\n",
      "\u001b[1m28/28\u001b[0m \u001b[32m━━━━━━━━━━━━━━━━━━━━\u001b[0m\u001b[37m\u001b[0m \u001b[1m0s\u001b[0m 3ms/step - attrition_output_accuracy: 0.9105 - attrition_output_loss: 0.2479 - department_output_accuracy: 0.7413 - department_output_loss: 0.5591 - loss: 0.8072 - val_attrition_output_accuracy: 0.8326 - val_attrition_output_loss: 0.4514 - val_department_output_accuracy: 0.5385 - val_department_output_loss: 0.9485 - val_loss: 1.4064\n",
      "Epoch 20/100\n",
      "\u001b[1m28/28\u001b[0m \u001b[32m━━━━━━━━━━━━━━━━━━━━\u001b[0m\u001b[37m\u001b[0m \u001b[1m0s\u001b[0m 3ms/step - attrition_output_accuracy: 0.9286 - attrition_output_loss: 0.2169 - department_output_accuracy: 0.7416 - department_output_loss: 0.5618 - loss: 0.7785 - val_attrition_output_accuracy: 0.8235 - val_attrition_output_loss: 0.4611 - val_department_output_accuracy: 0.5566 - val_department_output_loss: 0.9726 - val_loss: 1.4396\n",
      "Epoch 21/100\n",
      "\u001b[1m28/28\u001b[0m \u001b[32m━━━━━━━━━━━━━━━━━━━━\u001b[0m\u001b[37m\u001b[0m \u001b[1m0s\u001b[0m 3ms/step - attrition_output_accuracy: 0.9144 - attrition_output_loss: 0.2315 - department_output_accuracy: 0.7521 - department_output_loss: 0.5377 - loss: 0.7694 - val_attrition_output_accuracy: 0.8281 - val_attrition_output_loss: 0.4686 - val_department_output_accuracy: 0.5701 - val_department_output_loss: 0.9625 - val_loss: 1.4375\n",
      "Epoch 22/100\n",
      "\u001b[1m28/28\u001b[0m \u001b[32m━━━━━━━━━━━━━━━━━━━━\u001b[0m\u001b[37m\u001b[0m \u001b[1m0s\u001b[0m 3ms/step - attrition_output_accuracy: 0.9090 - attrition_output_loss: 0.2280 - department_output_accuracy: 0.7629 - department_output_loss: 0.5309 - loss: 0.7590 - val_attrition_output_accuracy: 0.8009 - val_attrition_output_loss: 0.5392 - val_department_output_accuracy: 0.5339 - val_department_output_loss: 0.9848 - val_loss: 1.5304\n",
      "Epoch 23/100\n",
      "\u001b[1m28/28\u001b[0m \u001b[32m━━━━━━━━━━━━━━━━━━━━\u001b[0m\u001b[37m\u001b[0m \u001b[1m0s\u001b[0m 3ms/step - attrition_output_accuracy: 0.9062 - attrition_output_loss: 0.2257 - department_output_accuracy: 0.7767 - department_output_loss: 0.5224 - loss: 0.7483 - val_attrition_output_accuracy: 0.8190 - val_attrition_output_loss: 0.5335 - val_department_output_accuracy: 0.5475 - val_department_output_loss: 0.9790 - val_loss: 1.5193\n",
      "Epoch 24/100\n",
      "\u001b[1m28/28\u001b[0m \u001b[32m━━━━━━━━━━━━━━━━━━━━\u001b[0m\u001b[37m\u001b[0m \u001b[1m0s\u001b[0m 3ms/step - attrition_output_accuracy: 0.9179 - attrition_output_loss: 0.2089 - department_output_accuracy: 0.7783 - department_output_loss: 0.5291 - loss: 0.7379 - val_attrition_output_accuracy: 0.8235 - val_attrition_output_loss: 0.4672 - val_department_output_accuracy: 0.5566 - val_department_output_loss: 1.0392 - val_loss: 1.5140\n",
      "Epoch 25/100\n",
      "\u001b[1m28/28\u001b[0m \u001b[32m━━━━━━━━━━━━━━━━━━━━\u001b[0m\u001b[37m\u001b[0m \u001b[1m0s\u001b[0m 3ms/step - attrition_output_accuracy: 0.9218 - attrition_output_loss: 0.1989 - department_output_accuracy: 0.8089 - department_output_loss: 0.4877 - loss: 0.6867 - val_attrition_output_accuracy: 0.8100 - val_attrition_output_loss: 0.4838 - val_department_output_accuracy: 0.5611 - val_department_output_loss: 1.0329 - val_loss: 1.5245\n",
      "Epoch 26/100\n",
      "\u001b[1m28/28\u001b[0m \u001b[32m━━━━━━━━━━━━━━━━━━━━\u001b[0m\u001b[37m\u001b[0m \u001b[1m0s\u001b[0m 3ms/step - attrition_output_accuracy: 0.9186 - attrition_output_loss: 0.1924 - department_output_accuracy: 0.7995 - department_output_loss: 0.4757 - loss: 0.6680 - val_attrition_output_accuracy: 0.8326 - val_attrition_output_loss: 0.5258 - val_department_output_accuracy: 0.5611 - val_department_output_loss: 1.0936 - val_loss: 1.6268\n",
      "Epoch 27/100\n",
      "\u001b[1m28/28\u001b[0m \u001b[32m━━━━━━━━━━━━━━━━━━━━\u001b[0m\u001b[37m\u001b[0m \u001b[1m0s\u001b[0m 3ms/step - attrition_output_accuracy: 0.9342 - attrition_output_loss: 0.1576 - department_output_accuracy: 0.8301 - department_output_loss: 0.4477 - loss: 0.6054 - val_attrition_output_accuracy: 0.8371 - val_attrition_output_loss: 0.5399 - val_department_output_accuracy: 0.5837 - val_department_output_loss: 1.0714 - val_loss: 1.6186\n",
      "Epoch 28/100\n",
      "\u001b[1m28/28\u001b[0m \u001b[32m━━━━━━━━━━━━━━━━━━━━\u001b[0m\u001b[37m\u001b[0m \u001b[1m0s\u001b[0m 3ms/step - attrition_output_accuracy: 0.9405 - attrition_output_loss: 0.1737 - department_output_accuracy: 0.8174 - department_output_loss: 0.4484 - loss: 0.6222 - val_attrition_output_accuracy: 0.8054 - val_attrition_output_loss: 0.5118 - val_department_output_accuracy: 0.5385 - val_department_output_loss: 1.1082 - val_loss: 1.6280\n",
      "Epoch 29/100\n",
      "\u001b[1m28/28\u001b[0m \u001b[32m━━━━━━━━━━━━━━━━━━━━\u001b[0m\u001b[37m\u001b[0m \u001b[1m0s\u001b[0m 3ms/step - attrition_output_accuracy: 0.9460 - attrition_output_loss: 0.1545 - department_output_accuracy: 0.7987 - department_output_loss: 0.4533 - loss: 0.6079 - val_attrition_output_accuracy: 0.8326 - val_attrition_output_loss: 0.5754 - val_department_output_accuracy: 0.5430 - val_department_output_loss: 1.1322 - val_loss: 1.7157\n",
      "Epoch 30/100\n",
      "\u001b[1m28/28\u001b[0m \u001b[32m━━━━━━━━━━━━━━━━━━━━\u001b[0m\u001b[37m\u001b[0m \u001b[1m0s\u001b[0m 3ms/step - attrition_output_accuracy: 0.9290 - attrition_output_loss: 0.1729 - department_output_accuracy: 0.8450 - department_output_loss: 0.4069 - loss: 0.5800 - val_attrition_output_accuracy: 0.8054 - val_attrition_output_loss: 0.5890 - val_department_output_accuracy: 0.5475 - val_department_output_loss: 1.1489 - val_loss: 1.7462\n",
      "Epoch 31/100\n",
      "\u001b[1m28/28\u001b[0m \u001b[32m━━━━━━━━━━━━━━━━━━━━\u001b[0m\u001b[37m\u001b[0m \u001b[1m0s\u001b[0m 3ms/step - attrition_output_accuracy: 0.9542 - attrition_output_loss: 0.1415 - department_output_accuracy: 0.8609 - department_output_loss: 0.3757 - loss: 0.5173 - val_attrition_output_accuracy: 0.8326 - val_attrition_output_loss: 0.5816 - val_department_output_accuracy: 0.5566 - val_department_output_loss: 1.1784 - val_loss: 1.7686\n",
      "Epoch 32/100\n",
      "\u001b[1m28/28\u001b[0m \u001b[32m━━━━━━━━━━━━━━━━━━━━\u001b[0m\u001b[37m\u001b[0m \u001b[1m0s\u001b[0m 3ms/step - attrition_output_accuracy: 0.9545 - attrition_output_loss: 0.1298 - department_output_accuracy: 0.8795 - department_output_loss: 0.3585 - loss: 0.4881 - val_attrition_output_accuracy: 0.8371 - val_attrition_output_loss: 0.5906 - val_department_output_accuracy: 0.5385 - val_department_output_loss: 1.2603 - val_loss: 1.8594\n",
      "Epoch 33/100\n",
      "\u001b[1m28/28\u001b[0m \u001b[32m━━━━━━━━━━━━━━━━━━━━\u001b[0m\u001b[37m\u001b[0m \u001b[1m0s\u001b[0m 3ms/step - attrition_output_accuracy: 0.9603 - attrition_output_loss: 0.1254 - department_output_accuracy: 0.8454 - department_output_loss: 0.3643 - loss: 0.4896 - val_attrition_output_accuracy: 0.8145 - val_attrition_output_loss: 0.6763 - val_department_output_accuracy: 0.5611 - val_department_output_loss: 1.3730 - val_loss: 2.0584\n",
      "Epoch 34/100\n",
      "\u001b[1m28/28\u001b[0m \u001b[32m━━━━━━━━━━━━━━━━━━━━\u001b[0m\u001b[37m\u001b[0m \u001b[1m0s\u001b[0m 3ms/step - attrition_output_accuracy: 0.9534 - attrition_output_loss: 0.1388 - department_output_accuracy: 0.8745 - department_output_loss: 0.3484 - loss: 0.4871 - val_attrition_output_accuracy: 0.8281 - val_attrition_output_loss: 0.6345 - val_department_output_accuracy: 0.5430 - val_department_output_loss: 1.2561 - val_loss: 1.9002\n",
      "Epoch 35/100\n",
      "\u001b[1m28/28\u001b[0m \u001b[32m━━━━━━━━━━━━━━━━━━━━\u001b[0m\u001b[37m\u001b[0m \u001b[1m0s\u001b[0m 3ms/step - attrition_output_accuracy: 0.9538 - attrition_output_loss: 0.1256 - department_output_accuracy: 0.8830 - department_output_loss: 0.3421 - loss: 0.4675 - val_attrition_output_accuracy: 0.8100 - val_attrition_output_loss: 0.6663 - val_department_output_accuracy: 0.5385 - val_department_output_loss: 1.3244 - val_loss: 1.9992\n",
      "Epoch 36/100\n",
      "\u001b[1m28/28\u001b[0m \u001b[32m━━━━━━━━━━━━━━━━━━━━\u001b[0m\u001b[37m\u001b[0m \u001b[1m0s\u001b[0m 3ms/step - attrition_output_accuracy: 0.9588 - attrition_output_loss: 0.1176 - department_output_accuracy: 0.8651 - department_output_loss: 0.3623 - loss: 0.4800 - val_attrition_output_accuracy: 0.8100 - val_attrition_output_loss: 0.6943 - val_department_output_accuracy: 0.5204 - val_department_output_loss: 1.3927 - val_loss: 2.0971\n",
      "Epoch 37/100\n",
      "\u001b[1m28/28\u001b[0m \u001b[32m━━━━━━━━━━━━━━━━━━━━\u001b[0m\u001b[37m\u001b[0m \u001b[1m0s\u001b[0m 3ms/step - attrition_output_accuracy: 0.9622 - attrition_output_loss: 0.0976 - department_output_accuracy: 0.8932 - department_output_loss: 0.3013 - loss: 0.3987 - val_attrition_output_accuracy: 0.8054 - val_attrition_output_loss: 0.7655 - val_department_output_accuracy: 0.5566 - val_department_output_loss: 1.4156 - val_loss: 2.1911\n",
      "Epoch 38/100\n",
      "\u001b[1m28/28\u001b[0m \u001b[32m━━━━━━━━━━━━━━━━━━━━\u001b[0m\u001b[37m\u001b[0m \u001b[1m0s\u001b[0m 3ms/step - attrition_output_accuracy: 0.9647 - attrition_output_loss: 0.1036 - department_output_accuracy: 0.8864 - department_output_loss: 0.3025 - loss: 0.4061 - val_attrition_output_accuracy: 0.8190 - val_attrition_output_loss: 0.6614 - val_department_output_accuracy: 0.5611 - val_department_output_loss: 1.4120 - val_loss: 2.0840\n",
      "Epoch 39/100\n",
      "\u001b[1m28/28\u001b[0m \u001b[32m━━━━━━━━━━━━━━━━━━━━\u001b[0m\u001b[37m\u001b[0m \u001b[1m0s\u001b[0m 3ms/step - attrition_output_accuracy: 0.9667 - attrition_output_loss: 0.0993 - department_output_accuracy: 0.9023 - department_output_loss: 0.2645 - loss: 0.3639 - val_attrition_output_accuracy: 0.8145 - val_attrition_output_loss: 0.6973 - val_department_output_accuracy: 0.5611 - val_department_output_loss: 1.3901 - val_loss: 2.0973\n",
      "Epoch 40/100\n",
      "\u001b[1m28/28\u001b[0m \u001b[32m━━━━━━━━━━━━━━━━━━━━\u001b[0m\u001b[37m\u001b[0m \u001b[1m0s\u001b[0m 3ms/step - attrition_output_accuracy: 0.9624 - attrition_output_loss: 0.0980 - department_output_accuracy: 0.9329 - department_output_loss: 0.2668 - loss: 0.3647 - val_attrition_output_accuracy: 0.8009 - val_attrition_output_loss: 0.7807 - val_department_output_accuracy: 0.5520 - val_department_output_loss: 1.4105 - val_loss: 2.2016\n",
      "Epoch 41/100\n",
      "\u001b[1m28/28\u001b[0m \u001b[32m━━━━━━━━━━━━━━━━━━━━\u001b[0m\u001b[37m\u001b[0m \u001b[1m0s\u001b[0m 3ms/step - attrition_output_accuracy: 0.9790 - attrition_output_loss: 0.0774 - department_output_accuracy: 0.9240 - department_output_loss: 0.2307 - loss: 0.3081 - val_attrition_output_accuracy: 0.8190 - val_attrition_output_loss: 0.6956 - val_department_output_accuracy: 0.5656 - val_department_output_loss: 1.4004 - val_loss: 2.1070\n",
      "Epoch 42/100\n",
      "\u001b[1m28/28\u001b[0m \u001b[32m━━━━━━━━━━━━━━━━━━━━\u001b[0m\u001b[37m\u001b[0m \u001b[1m0s\u001b[0m 3ms/step - attrition_output_accuracy: 0.9797 - attrition_output_loss: 0.0863 - department_output_accuracy: 0.9231 - department_output_loss: 0.2610 - loss: 0.3471 - val_attrition_output_accuracy: 0.7964 - val_attrition_output_loss: 0.8089 - val_department_output_accuracy: 0.5747 - val_department_output_loss: 1.4528 - val_loss: 2.2722\n",
      "Epoch 43/100\n",
      "\u001b[1m28/28\u001b[0m \u001b[32m━━━━━━━━━━━━━━━━━━━━\u001b[0m\u001b[37m\u001b[0m \u001b[1m0s\u001b[0m 3ms/step - attrition_output_accuracy: 0.9714 - attrition_output_loss: 0.0841 - department_output_accuracy: 0.9392 - department_output_loss: 0.2217 - loss: 0.3058 - val_attrition_output_accuracy: 0.8190 - val_attrition_output_loss: 0.7843 - val_department_output_accuracy: 0.5611 - val_department_output_loss: 1.5209 - val_loss: 2.3159\n",
      "Epoch 44/100\n",
      "\u001b[1m28/28\u001b[0m \u001b[32m━━━━━━━━━━━━━━━━━━━━\u001b[0m\u001b[37m\u001b[0m \u001b[1m0s\u001b[0m 3ms/step - attrition_output_accuracy: 0.9808 - attrition_output_loss: 0.0695 - department_output_accuracy: 0.9394 - department_output_loss: 0.2048 - loss: 0.2742 - val_attrition_output_accuracy: 0.8235 - val_attrition_output_loss: 0.8234 - val_department_output_accuracy: 0.5294 - val_department_output_loss: 1.7178 - val_loss: 2.5526\n",
      "Epoch 45/100\n",
      "\u001b[1m28/28\u001b[0m \u001b[32m━━━━━━━━━━━━━━━━━━━━\u001b[0m\u001b[37m\u001b[0m \u001b[1m0s\u001b[0m 3ms/step - attrition_output_accuracy: 0.9762 - attrition_output_loss: 0.0713 - department_output_accuracy: 0.9083 - department_output_loss: 0.2347 - loss: 0.3061 - val_attrition_output_accuracy: 0.8371 - val_attrition_output_loss: 0.8015 - val_department_output_accuracy: 0.5385 - val_department_output_loss: 1.5940 - val_loss: 2.4086\n",
      "Epoch 46/100\n",
      "\u001b[1m28/28\u001b[0m \u001b[32m━━━━━━━━━━━━━━━━━━━━\u001b[0m\u001b[37m\u001b[0m \u001b[1m0s\u001b[0m 3ms/step - attrition_output_accuracy: 0.9772 - attrition_output_loss: 0.0776 - department_output_accuracy: 0.9516 - department_output_loss: 0.2015 - loss: 0.2791 - val_attrition_output_accuracy: 0.8009 - val_attrition_output_loss: 0.8931 - val_department_output_accuracy: 0.5430 - val_department_output_loss: 1.6960 - val_loss: 2.6018\n",
      "Epoch 47/100\n",
      "\u001b[1m28/28\u001b[0m \u001b[32m━━━━━━━━━━━━━━━━━━━━\u001b[0m\u001b[37m\u001b[0m \u001b[1m0s\u001b[0m 4ms/step - attrition_output_accuracy: 0.9808 - attrition_output_loss: 0.0540 - department_output_accuracy: 0.9561 - department_output_loss: 0.1743 - loss: 0.2283 - val_attrition_output_accuracy: 0.8145 - val_attrition_output_loss: 0.8623 - val_department_output_accuracy: 0.5475 - val_department_output_loss: 1.6746 - val_loss: 2.5504\n",
      "Epoch 48/100\n",
      "\u001b[1m28/28\u001b[0m \u001b[32m━━━━━━━━━━━━━━━━━━━━\u001b[0m\u001b[37m\u001b[0m \u001b[1m0s\u001b[0m 3ms/step - attrition_output_accuracy: 0.9864 - attrition_output_loss: 0.0500 - department_output_accuracy: 0.9674 - department_output_loss: 0.1522 - loss: 0.2019 - val_attrition_output_accuracy: 0.8145 - val_attrition_output_loss: 0.8801 - val_department_output_accuracy: 0.5566 - val_department_output_loss: 1.7357 - val_loss: 2.6286\n",
      "Epoch 49/100\n",
      "\u001b[1m28/28\u001b[0m \u001b[32m━━━━━━━━━━━━━━━━━━━━\u001b[0m\u001b[37m\u001b[0m \u001b[1m0s\u001b[0m 4ms/step - attrition_output_accuracy: 0.9959 - attrition_output_loss: 0.0437 - department_output_accuracy: 0.9645 - department_output_loss: 0.1656 - loss: 0.2094 - val_attrition_output_accuracy: 0.8235 - val_attrition_output_loss: 0.9120 - val_department_output_accuracy: 0.5430 - val_department_output_loss: 1.8368 - val_loss: 2.7632\n",
      "Epoch 50/100\n",
      "\u001b[1m28/28\u001b[0m \u001b[32m━━━━━━━━━━━━━━━━━━━━\u001b[0m\u001b[37m\u001b[0m \u001b[1m0s\u001b[0m 3ms/step - attrition_output_accuracy: 0.9890 - attrition_output_loss: 0.0496 - department_output_accuracy: 0.9663 - department_output_loss: 0.1540 - loss: 0.2036 - val_attrition_output_accuracy: 0.8100 - val_attrition_output_loss: 0.9530 - val_department_output_accuracy: 0.5385 - val_department_output_loss: 1.9305 - val_loss: 2.8973\n",
      "Epoch 51/100\n",
      "\u001b[1m28/28\u001b[0m \u001b[32m━━━━━━━━━━━━━━━━━━━━\u001b[0m\u001b[37m\u001b[0m \u001b[1m0s\u001b[0m 3ms/step - attrition_output_accuracy: 0.9843 - attrition_output_loss: 0.0473 - department_output_accuracy: 0.9501 - department_output_loss: 0.1759 - loss: 0.2232 - val_attrition_output_accuracy: 0.8054 - val_attrition_output_loss: 0.9088 - val_department_output_accuracy: 0.5520 - val_department_output_loss: 1.8783 - val_loss: 2.8009\n",
      "Epoch 52/100\n",
      "\u001b[1m28/28\u001b[0m \u001b[32m━━━━━━━━━━━━━━━━━━━━\u001b[0m\u001b[37m\u001b[0m \u001b[1m0s\u001b[0m 3ms/step - attrition_output_accuracy: 0.9883 - attrition_output_loss: 0.0536 - department_output_accuracy: 0.9687 - department_output_loss: 0.1443 - loss: 0.1977 - val_attrition_output_accuracy: 0.8100 - val_attrition_output_loss: 0.9320 - val_department_output_accuracy: 0.5294 - val_department_output_loss: 1.9091 - val_loss: 2.8571\n",
      "Epoch 53/100\n",
      "\u001b[1m28/28\u001b[0m \u001b[32m━━━━━━━━━━━━━━━━━━━━\u001b[0m\u001b[37m\u001b[0m \u001b[1m0s\u001b[0m 3ms/step - attrition_output_accuracy: 0.9824 - attrition_output_loss: 0.0473 - department_output_accuracy: 0.9676 - department_output_loss: 0.1384 - loss: 0.1857 - val_attrition_output_accuracy: 0.8100 - val_attrition_output_loss: 0.9262 - val_department_output_accuracy: 0.5520 - val_department_output_loss: 1.9456 - val_loss: 2.8874\n",
      "Epoch 54/100\n",
      "\u001b[1m28/28\u001b[0m \u001b[32m━━━━━━━━━━━━━━━━━━━━\u001b[0m\u001b[37m\u001b[0m \u001b[1m0s\u001b[0m 3ms/step - attrition_output_accuracy: 0.9846 - attrition_output_loss: 0.0437 - department_output_accuracy: 0.9734 - department_output_loss: 0.1207 - loss: 0.1643 - val_attrition_output_accuracy: 0.8054 - val_attrition_output_loss: 1.0482 - val_department_output_accuracy: 0.5566 - val_department_output_loss: 2.0284 - val_loss: 3.0930\n",
      "Epoch 55/100\n",
      "\u001b[1m28/28\u001b[0m \u001b[32m━━━━━━━━━━━━━━━━━━━━\u001b[0m\u001b[37m\u001b[0m \u001b[1m0s\u001b[0m 3ms/step - attrition_output_accuracy: 0.9869 - attrition_output_loss: 0.0398 - department_output_accuracy: 0.9639 - department_output_loss: 0.1391 - loss: 0.1787 - val_attrition_output_accuracy: 0.8100 - val_attrition_output_loss: 1.0072 - val_department_output_accuracy: 0.5385 - val_department_output_loss: 2.1445 - val_loss: 3.1676\n",
      "Epoch 56/100\n",
      "\u001b[1m28/28\u001b[0m \u001b[32m━━━━━━━━━━━━━━━━━━━━\u001b[0m\u001b[37m\u001b[0m \u001b[1m0s\u001b[0m 3ms/step - attrition_output_accuracy: 0.9898 - attrition_output_loss: 0.0432 - department_output_accuracy: 0.9799 - department_output_loss: 0.1201 - loss: 0.1633 - val_attrition_output_accuracy: 0.8145 - val_attrition_output_loss: 1.1158 - val_department_output_accuracy: 0.5475 - val_department_output_loss: 2.0720 - val_loss: 3.2041\n",
      "Epoch 57/100\n",
      "\u001b[1m28/28\u001b[0m \u001b[32m━━━━━━━━━━━━━━━━━━━━\u001b[0m\u001b[37m\u001b[0m \u001b[1m0s\u001b[0m 3ms/step - attrition_output_accuracy: 0.9930 - attrition_output_loss: 0.0394 - department_output_accuracy: 0.9751 - department_output_loss: 0.1073 - loss: 0.1467 - val_attrition_output_accuracy: 0.8100 - val_attrition_output_loss: 1.0382 - val_department_output_accuracy: 0.5566 - val_department_output_loss: 2.1344 - val_loss: 3.1900\n",
      "Epoch 58/100\n",
      "\u001b[1m28/28\u001b[0m \u001b[32m━━━━━━━━━━━━━━━━━━━━\u001b[0m\u001b[37m\u001b[0m \u001b[1m0s\u001b[0m 3ms/step - attrition_output_accuracy: 0.9892 - attrition_output_loss: 0.0393 - department_output_accuracy: 0.9793 - department_output_loss: 0.1051 - loss: 0.1442 - val_attrition_output_accuracy: 0.8054 - val_attrition_output_loss: 1.0330 - val_department_output_accuracy: 0.5566 - val_department_output_loss: 2.1312 - val_loss: 3.1820\n",
      "Epoch 59/100\n",
      "\u001b[1m28/28\u001b[0m \u001b[32m━━━━━━━━━━━━━━━━━━━━\u001b[0m\u001b[37m\u001b[0m \u001b[1m0s\u001b[0m 3ms/step - attrition_output_accuracy: 0.9949 - attrition_output_loss: 0.0273 - department_output_accuracy: 0.9766 - department_output_loss: 0.1059 - loss: 0.1331 - val_attrition_output_accuracy: 0.8100 - val_attrition_output_loss: 1.1131 - val_department_output_accuracy: 0.5339 - val_department_output_loss: 2.0998 - val_loss: 3.2299\n",
      "Epoch 60/100\n",
      "\u001b[1m28/28\u001b[0m \u001b[32m━━━━━━━━━━━━━━━━━━━━\u001b[0m\u001b[37m\u001b[0m \u001b[1m0s\u001b[0m 3ms/step - attrition_output_accuracy: 0.9918 - attrition_output_loss: 0.0276 - department_output_accuracy: 0.9784 - department_output_loss: 0.1018 - loss: 0.1295 - val_attrition_output_accuracy: 0.8145 - val_attrition_output_loss: 1.1080 - val_department_output_accuracy: 0.5701 - val_department_output_loss: 2.2123 - val_loss: 3.3396\n",
      "Epoch 61/100\n",
      "\u001b[1m28/28\u001b[0m \u001b[32m━━━━━━━━━━━━━━━━━━━━\u001b[0m\u001b[37m\u001b[0m \u001b[1m0s\u001b[0m 3ms/step - attrition_output_accuracy: 0.9931 - attrition_output_loss: 0.0321 - department_output_accuracy: 0.9877 - department_output_loss: 0.0891 - loss: 0.1212 - val_attrition_output_accuracy: 0.8054 - val_attrition_output_loss: 1.1563 - val_department_output_accuracy: 0.5566 - val_department_output_loss: 2.2080 - val_loss: 3.3819\n",
      "Epoch 62/100\n",
      "\u001b[1m28/28\u001b[0m \u001b[32m━━━━━━━━━━━━━━━━━━━━\u001b[0m\u001b[37m\u001b[0m \u001b[1m0s\u001b[0m 3ms/step - attrition_output_accuracy: 0.9939 - attrition_output_loss: 0.0230 - department_output_accuracy: 0.9944 - department_output_loss: 0.0750 - loss: 0.0977 - val_attrition_output_accuracy: 0.8054 - val_attrition_output_loss: 1.1542 - val_department_output_accuracy: 0.5475 - val_department_output_loss: 2.2162 - val_loss: 3.3882\n",
      "Epoch 63/100\n",
      "\u001b[1m28/28\u001b[0m \u001b[32m━━━━━━━━━━━━━━━━━━━━\u001b[0m\u001b[37m\u001b[0m \u001b[1m0s\u001b[0m 3ms/step - attrition_output_accuracy: 0.9956 - attrition_output_loss: 0.0323 - department_output_accuracy: 0.9645 - department_output_loss: 0.1184 - loss: 0.1506 - val_attrition_output_accuracy: 0.8190 - val_attrition_output_loss: 1.1036 - val_department_output_accuracy: 0.5566 - val_department_output_loss: 2.3119 - val_loss: 3.4338\n",
      "Epoch 64/100\n",
      "\u001b[1m28/28\u001b[0m \u001b[32m━━━━━━━━━━━━━━━━━━━━\u001b[0m\u001b[37m\u001b[0m \u001b[1m0s\u001b[0m 3ms/step - attrition_output_accuracy: 0.9980 - attrition_output_loss: 0.0236 - department_output_accuracy: 0.9715 - department_output_loss: 0.1013 - loss: 0.1251 - val_attrition_output_accuracy: 0.8009 - val_attrition_output_loss: 1.1625 - val_department_output_accuracy: 0.5611 - val_department_output_loss: 2.5683 - val_loss: 3.7492\n",
      "Epoch 65/100\n",
      "\u001b[1m28/28\u001b[0m \u001b[32m━━━━━━━━━━━━━━━━━━━━\u001b[0m\u001b[37m\u001b[0m \u001b[1m0s\u001b[0m 3ms/step - attrition_output_accuracy: 0.9886 - attrition_output_loss: 0.0332 - department_output_accuracy: 0.9596 - department_output_loss: 0.1078 - loss: 0.1411 - val_attrition_output_accuracy: 0.8054 - val_attrition_output_loss: 1.2664 - val_department_output_accuracy: 0.5475 - val_department_output_loss: 2.3165 - val_loss: 3.6016\n",
      "Epoch 66/100\n",
      "\u001b[1m28/28\u001b[0m \u001b[32m━━━━━━━━━━━━━━━━━━━━\u001b[0m\u001b[37m\u001b[0m \u001b[1m0s\u001b[0m 3ms/step - attrition_output_accuracy: 0.9969 - attrition_output_loss: 0.0275 - department_output_accuracy: 0.9971 - department_output_loss: 0.0688 - loss: 0.0963 - val_attrition_output_accuracy: 0.7964 - val_attrition_output_loss: 1.2701 - val_department_output_accuracy: 0.5430 - val_department_output_loss: 2.3478 - val_loss: 3.6368\n",
      "Epoch 67/100\n",
      "\u001b[1m28/28\u001b[0m \u001b[32m━━━━━━━━━━━━━━━━━━━━\u001b[0m\u001b[37m\u001b[0m \u001b[1m0s\u001b[0m 3ms/step - attrition_output_accuracy: 0.9956 - attrition_output_loss: 0.0187 - department_output_accuracy: 0.9947 - department_output_loss: 0.0642 - loss: 0.0829 - val_attrition_output_accuracy: 0.8054 - val_attrition_output_loss: 1.2851 - val_department_output_accuracy: 0.5520 - val_department_output_loss: 2.3561 - val_loss: 3.6593\n",
      "Epoch 68/100\n",
      "\u001b[1m28/28\u001b[0m \u001b[32m━━━━━━━━━━━━━━━━━━━━\u001b[0m\u001b[37m\u001b[0m \u001b[1m0s\u001b[0m 2ms/step - attrition_output_accuracy: 0.9913 - attrition_output_loss: 0.0254 - department_output_accuracy: 0.9900 - department_output_loss: 0.0598 - loss: 0.0852 - val_attrition_output_accuracy: 0.7873 - val_attrition_output_loss: 1.1177 - val_department_output_accuracy: 0.5475 - val_department_output_loss: 2.4559 - val_loss: 3.5925\n",
      "Epoch 69/100\n",
      "\u001b[1m28/28\u001b[0m \u001b[32m━━━━━━━━━━━━━━━━━━━━\u001b[0m\u001b[37m\u001b[0m \u001b[1m0s\u001b[0m 3ms/step - attrition_output_accuracy: 0.9987 - attrition_output_loss: 0.0224 - department_output_accuracy: 0.9938 - department_output_loss: 0.0606 - loss: 0.0829 - val_attrition_output_accuracy: 0.8054 - val_attrition_output_loss: 1.2621 - val_department_output_accuracy: 0.5475 - val_department_output_loss: 2.4927 - val_loss: 3.7753\n",
      "Epoch 70/100\n",
      "\u001b[1m28/28\u001b[0m \u001b[32m━━━━━━━━━━━━━━━━━━━━\u001b[0m\u001b[37m\u001b[0m \u001b[1m0s\u001b[0m 3ms/step - attrition_output_accuracy: 0.9891 - attrition_output_loss: 0.0326 - department_output_accuracy: 0.9975 - department_output_loss: 0.0523 - loss: 0.0850 - val_attrition_output_accuracy: 0.7919 - val_attrition_output_loss: 1.3432 - val_department_output_accuracy: 0.5611 - val_department_output_loss: 2.4566 - val_loss: 3.8207\n",
      "Epoch 71/100\n",
      "\u001b[1m28/28\u001b[0m \u001b[32m━━━━━━━━━━━━━━━━━━━━\u001b[0m\u001b[37m\u001b[0m \u001b[1m0s\u001b[0m 3ms/step - attrition_output_accuracy: 0.9992 - attrition_output_loss: 0.0190 - department_output_accuracy: 0.9961 - department_output_loss: 0.0467 - loss: 0.0658 - val_attrition_output_accuracy: 0.8100 - val_attrition_output_loss: 1.4346 - val_department_output_accuracy: 0.5475 - val_department_output_loss: 2.5433 - val_loss: 3.9995\n",
      "Epoch 72/100\n",
      "\u001b[1m28/28\u001b[0m \u001b[32m━━━━━━━━━━━━━━━━━━━━\u001b[0m\u001b[37m\u001b[0m \u001b[1m0s\u001b[0m 3ms/step - attrition_output_accuracy: 0.9920 - attrition_output_loss: 0.0252 - department_output_accuracy: 0.9937 - department_output_loss: 0.0496 - loss: 0.0747 - val_attrition_output_accuracy: 0.8100 - val_attrition_output_loss: 1.3585 - val_department_output_accuracy: 0.5475 - val_department_output_loss: 2.5613 - val_loss: 3.9415\n",
      "Epoch 73/100\n",
      "\u001b[1m28/28\u001b[0m \u001b[32m━━━━━━━━━━━━━━━━━━━━\u001b[0m\u001b[37m\u001b[0m \u001b[1m0s\u001b[0m 2ms/step - attrition_output_accuracy: 0.9985 - attrition_output_loss: 0.0150 - department_output_accuracy: 0.9986 - department_output_loss: 0.0414 - loss: 0.0563 - val_attrition_output_accuracy: 0.8054 - val_attrition_output_loss: 1.4619 - val_department_output_accuracy: 0.5566 - val_department_output_loss: 2.5810 - val_loss: 4.0639\n",
      "Epoch 74/100\n",
      "\u001b[1m28/28\u001b[0m \u001b[32m━━━━━━━━━━━━━━━━━━━━\u001b[0m\u001b[37m\u001b[0m \u001b[1m0s\u001b[0m 3ms/step - attrition_output_accuracy: 0.9985 - attrition_output_loss: 0.0178 - department_output_accuracy: 0.9924 - department_output_loss: 0.0485 - loss: 0.0664 - val_attrition_output_accuracy: 0.8100 - val_attrition_output_loss: 1.4740 - val_department_output_accuracy: 0.5566 - val_department_output_loss: 2.7355 - val_loss: 4.2314\n",
      "Epoch 75/100\n",
      "\u001b[1m28/28\u001b[0m \u001b[32m━━━━━━━━━━━━━━━━━━━━\u001b[0m\u001b[37m\u001b[0m \u001b[1m0s\u001b[0m 3ms/step - attrition_output_accuracy: 0.9990 - attrition_output_loss: 0.0140 - department_output_accuracy: 0.9940 - department_output_loss: 0.0501 - loss: 0.0641 - val_attrition_output_accuracy: 0.8054 - val_attrition_output_loss: 1.3604 - val_department_output_accuracy: 0.5430 - val_department_output_loss: 2.5953 - val_loss: 3.9775\n",
      "Epoch 76/100\n",
      "\u001b[1m28/28\u001b[0m \u001b[32m━━━━━━━━━━━━━━━━━━━━\u001b[0m\u001b[37m\u001b[0m \u001b[1m0s\u001b[0m 3ms/step - attrition_output_accuracy: 0.9975 - attrition_output_loss: 0.0162 - department_output_accuracy: 0.9974 - department_output_loss: 0.0428 - loss: 0.0590 - val_attrition_output_accuracy: 0.7964 - val_attrition_output_loss: 1.3129 - val_department_output_accuracy: 0.5339 - val_department_output_loss: 2.6818 - val_loss: 4.0163\n",
      "Epoch 77/100\n",
      "\u001b[1m28/28\u001b[0m \u001b[32m━━━━━━━━━━━━━━━━━━━━\u001b[0m\u001b[37m\u001b[0m \u001b[1m0s\u001b[0m 3ms/step - attrition_output_accuracy: 0.9972 - attrition_output_loss: 0.0138 - department_output_accuracy: 0.9970 - department_output_loss: 0.0371 - loss: 0.0510 - val_attrition_output_accuracy: 0.8100 - val_attrition_output_loss: 1.3657 - val_department_output_accuracy: 0.5475 - val_department_output_loss: 2.7178 - val_loss: 4.1052\n",
      "Epoch 78/100\n",
      "\u001b[1m28/28\u001b[0m \u001b[32m━━━━━━━━━━━━━━━━━━━━\u001b[0m\u001b[37m\u001b[0m \u001b[1m0s\u001b[0m 3ms/step - attrition_output_accuracy: 0.9990 - attrition_output_loss: 0.0119 - department_output_accuracy: 0.9980 - department_output_loss: 0.0363 - loss: 0.0482 - val_attrition_output_accuracy: 0.7964 - val_attrition_output_loss: 1.3626 - val_department_output_accuracy: 0.5475 - val_department_output_loss: 2.7584 - val_loss: 4.1444\n",
      "Epoch 79/100\n",
      "\u001b[1m28/28\u001b[0m \u001b[32m━━━━━━━━━━━━━━━━━━━━\u001b[0m\u001b[37m\u001b[0m \u001b[1m0s\u001b[0m 3ms/step - attrition_output_accuracy: 0.9998 - attrition_output_loss: 0.0117 - department_output_accuracy: 0.9988 - department_output_loss: 0.0316 - loss: 0.0433 - val_attrition_output_accuracy: 0.8054 - val_attrition_output_loss: 1.3832 - val_department_output_accuracy: 0.5520 - val_department_output_loss: 2.7819 - val_loss: 4.1881\n",
      "Epoch 80/100\n",
      "\u001b[1m28/28\u001b[0m \u001b[32m━━━━━━━━━━━━━━━━━━━━\u001b[0m\u001b[37m\u001b[0m \u001b[1m0s\u001b[0m 3ms/step - attrition_output_accuracy: 0.9991 - attrition_output_loss: 0.0108 - department_output_accuracy: 0.9984 - department_output_loss: 0.0378 - loss: 0.0485 - val_attrition_output_accuracy: 0.8100 - val_attrition_output_loss: 1.3970 - val_department_output_accuracy: 0.5475 - val_department_output_loss: 2.8820 - val_loss: 4.3028\n",
      "Epoch 81/100\n",
      "\u001b[1m28/28\u001b[0m \u001b[32m━━━━━━━━━━━━━━━━━━━━\u001b[0m\u001b[37m\u001b[0m \u001b[1m0s\u001b[0m 3ms/step - attrition_output_accuracy: 0.9993 - attrition_output_loss: 0.0095 - department_output_accuracy: 0.9998 - department_output_loss: 0.0377 - loss: 0.0471 - val_attrition_output_accuracy: 0.8145 - val_attrition_output_loss: 1.4606 - val_department_output_accuracy: 0.5520 - val_department_output_loss: 2.9636 - val_loss: 4.4487\n",
      "Epoch 82/100\n",
      "\u001b[1m28/28\u001b[0m \u001b[32m━━━━━━━━━━━━━━━━━━━━\u001b[0m\u001b[37m\u001b[0m \u001b[1m0s\u001b[0m 3ms/step - attrition_output_accuracy: 0.9957 - attrition_output_loss: 0.0196 - department_output_accuracy: 0.9998 - department_output_loss: 0.0316 - loss: 0.0513 - val_attrition_output_accuracy: 0.7828 - val_attrition_output_loss: 1.4803 - val_department_output_accuracy: 0.5430 - val_department_output_loss: 2.8669 - val_loss: 4.3689\n",
      "Epoch 83/100\n",
      "\u001b[1m28/28\u001b[0m \u001b[32m━━━━━━━━━━━━━━━━━━━━\u001b[0m\u001b[37m\u001b[0m \u001b[1m0s\u001b[0m 3ms/step - attrition_output_accuracy: 0.9936 - attrition_output_loss: 0.0216 - department_output_accuracy: 0.9996 - department_output_loss: 0.0255 - loss: 0.0471 - val_attrition_output_accuracy: 0.7919 - val_attrition_output_loss: 1.6011 - val_department_output_accuracy: 0.5566 - val_department_output_loss: 2.9320 - val_loss: 4.5561\n",
      "Epoch 84/100\n",
      "\u001b[1m28/28\u001b[0m \u001b[32m━━━━━━━━━━━━━━━━━━━━\u001b[0m\u001b[37m\u001b[0m \u001b[1m0s\u001b[0m 3ms/step - attrition_output_accuracy: 0.9964 - attrition_output_loss: 0.0170 - department_output_accuracy: 0.9991 - department_output_loss: 0.0288 - loss: 0.0458 - val_attrition_output_accuracy: 0.7919 - val_attrition_output_loss: 1.4550 - val_department_output_accuracy: 0.5339 - val_department_output_loss: 2.9647 - val_loss: 4.4464\n",
      "Epoch 85/100\n",
      "\u001b[1m28/28\u001b[0m \u001b[32m━━━━━━━━━━━━━━━━━━━━\u001b[0m\u001b[37m\u001b[0m \u001b[1m0s\u001b[0m 3ms/step - attrition_output_accuracy: 0.9884 - attrition_output_loss: 0.0213 - department_output_accuracy: 0.9972 - department_output_loss: 0.0287 - loss: 0.0500 - val_attrition_output_accuracy: 0.7919 - val_attrition_output_loss: 1.4764 - val_department_output_accuracy: 0.5566 - val_department_output_loss: 2.9576 - val_loss: 4.4609\n",
      "Epoch 86/100\n",
      "\u001b[1m28/28\u001b[0m \u001b[32m━━━━━━━━━━━━━━━━━━━━\u001b[0m\u001b[37m\u001b[0m \u001b[1m0s\u001b[0m 3ms/step - attrition_output_accuracy: 0.9998 - attrition_output_loss: 0.0089 - department_output_accuracy: 0.9989 - department_output_loss: 0.0257 - loss: 0.0346 - val_attrition_output_accuracy: 0.8009 - val_attrition_output_loss: 1.6304 - val_department_output_accuracy: 0.5475 - val_department_output_loss: 3.0259 - val_loss: 4.6828\n",
      "Epoch 87/100\n",
      "\u001b[1m28/28\u001b[0m \u001b[32m━━━━━━━━━━━━━━━━━━━━\u001b[0m\u001b[37m\u001b[0m \u001b[1m0s\u001b[0m 3ms/step - attrition_output_accuracy: 0.9933 - attrition_output_loss: 0.0143 - department_output_accuracy: 0.9977 - department_output_loss: 0.0261 - loss: 0.0404 - val_attrition_output_accuracy: 0.7964 - val_attrition_output_loss: 1.7917 - val_department_output_accuracy: 0.5656 - val_department_output_loss: 2.9444 - val_loss: 4.7632\n",
      "Epoch 88/100\n",
      "\u001b[1m28/28\u001b[0m \u001b[32m━━━━━━━━━━━━━━━━━━━━\u001b[0m\u001b[37m\u001b[0m \u001b[1m0s\u001b[0m 3ms/step - attrition_output_accuracy: 0.9989 - attrition_output_loss: 0.0141 - department_output_accuracy: 0.9977 - department_output_loss: 0.0274 - loss: 0.0414 - val_attrition_output_accuracy: 0.8100 - val_attrition_output_loss: 1.6018 - val_department_output_accuracy: 0.5520 - val_department_output_loss: 2.9568 - val_loss: 4.5856\n",
      "Epoch 89/100\n",
      "\u001b[1m28/28\u001b[0m \u001b[32m━━━━━━━━━━━━━━━━━━━━\u001b[0m\u001b[37m\u001b[0m \u001b[1m0s\u001b[0m 3ms/step - attrition_output_accuracy: 0.9904 - attrition_output_loss: 0.0258 - department_output_accuracy: 1.0000 - department_output_loss: 0.0245 - loss: 0.0504 - val_attrition_output_accuracy: 0.7421 - val_attrition_output_loss: 1.7713 - val_department_output_accuracy: 0.5294 - val_department_output_loss: 3.0630 - val_loss: 4.8590\n",
      "Epoch 90/100\n",
      "\u001b[1m28/28\u001b[0m \u001b[32m━━━━━━━━━━━━━━━━━━━━\u001b[0m\u001b[37m\u001b[0m \u001b[1m0s\u001b[0m 3ms/step - attrition_output_accuracy: 0.9853 - attrition_output_loss: 0.0494 - department_output_accuracy: 0.9994 - department_output_loss: 0.0267 - loss: 0.0760 - val_attrition_output_accuracy: 0.7873 - val_attrition_output_loss: 1.4537 - val_department_output_accuracy: 0.5611 - val_department_output_loss: 3.1645 - val_loss: 4.6440\n",
      "Epoch 91/100\n",
      "\u001b[1m28/28\u001b[0m \u001b[32m━━━━━━━━━━━━━━━━━━━━\u001b[0m\u001b[37m\u001b[0m \u001b[1m0s\u001b[0m 3ms/step - attrition_output_accuracy: 0.9915 - attrition_output_loss: 0.0459 - department_output_accuracy: 0.9994 - department_output_loss: 0.0231 - loss: 0.0690 - val_attrition_output_accuracy: 0.8009 - val_attrition_output_loss: 1.6646 - val_department_output_accuracy: 0.5611 - val_department_output_loss: 3.0788 - val_loss: 4.7687\n",
      "Epoch 92/100\n",
      "\u001b[1m28/28\u001b[0m \u001b[32m━━━━━━━━━━━━━━━━━━━━\u001b[0m\u001b[37m\u001b[0m \u001b[1m0s\u001b[0m 3ms/step - attrition_output_accuracy: 0.9944 - attrition_output_loss: 0.0193 - department_output_accuracy: 0.9952 - department_output_loss: 0.0353 - loss: 0.0546 - val_attrition_output_accuracy: 0.7964 - val_attrition_output_loss: 1.6682 - val_department_output_accuracy: 0.5385 - val_department_output_loss: 3.2218 - val_loss: 4.9134\n",
      "Epoch 93/100\n",
      "\u001b[1m28/28\u001b[0m \u001b[32m━━━━━━━━━━━━━━━━━━━━\u001b[0m\u001b[37m\u001b[0m \u001b[1m0s\u001b[0m 3ms/step - attrition_output_accuracy: 0.9994 - attrition_output_loss: 0.0088 - department_output_accuracy: 0.9933 - department_output_loss: 0.0250 - loss: 0.0338 - val_attrition_output_accuracy: 0.8054 - val_attrition_output_loss: 1.5174 - val_department_output_accuracy: 0.5294 - val_department_output_loss: 3.0754 - val_loss: 4.6196\n",
      "Epoch 94/100\n",
      "\u001b[1m28/28\u001b[0m \u001b[32m━━━━━━━━━━━━━━━━━━━━\u001b[0m\u001b[37m\u001b[0m \u001b[1m0s\u001b[0m 3ms/step - attrition_output_accuracy: 0.9978 - attrition_output_loss: 0.0088 - department_output_accuracy: 0.9965 - department_output_loss: 0.0272 - loss: 0.0360 - val_attrition_output_accuracy: 0.7919 - val_attrition_output_loss: 1.6816 - val_department_output_accuracy: 0.5475 - val_department_output_loss: 3.2907 - val_loss: 4.9967\n",
      "Epoch 95/100\n",
      "\u001b[1m28/28\u001b[0m \u001b[32m━━━━━━━━━━━━━━━━━━━━\u001b[0m\u001b[37m\u001b[0m \u001b[1m0s\u001b[0m 3ms/step - attrition_output_accuracy: 0.9944 - attrition_output_loss: 0.0175 - department_output_accuracy: 0.9954 - department_output_loss: 0.0331 - loss: 0.0507 - val_attrition_output_accuracy: 0.8054 - val_attrition_output_loss: 1.4640 - val_department_output_accuracy: 0.5520 - val_department_output_loss: 3.1225 - val_loss: 4.6125\n",
      "Epoch 96/100\n",
      "\u001b[1m28/28\u001b[0m \u001b[32m━━━━━━━━━━━━━━━━━━━━\u001b[0m\u001b[37m\u001b[0m \u001b[1m0s\u001b[0m 3ms/step - attrition_output_accuracy: 0.9951 - attrition_output_loss: 0.0189 - department_output_accuracy: 1.0000 - department_output_loss: 0.0208 - loss: 0.0397 - val_attrition_output_accuracy: 0.7964 - val_attrition_output_loss: 1.5969 - val_department_output_accuracy: 0.5430 - val_department_output_loss: 3.2925 - val_loss: 4.9161\n",
      "Epoch 97/100\n",
      "\u001b[1m28/28\u001b[0m \u001b[32m━━━━━━━━━━━━━━━━━━━━\u001b[0m\u001b[37m\u001b[0m \u001b[1m0s\u001b[0m 3ms/step - attrition_output_accuracy: 0.9997 - attrition_output_loss: 0.0085 - department_output_accuracy: 1.0000 - department_output_loss: 0.0157 - loss: 0.0241 - val_attrition_output_accuracy: 0.7964 - val_attrition_output_loss: 1.5019 - val_department_output_accuracy: 0.5566 - val_department_output_loss: 3.2249 - val_loss: 4.7541\n",
      "Epoch 98/100\n",
      "\u001b[1m28/28\u001b[0m \u001b[32m━━━━━━━━━━━━━━━━━━━━\u001b[0m\u001b[37m\u001b[0m \u001b[1m0s\u001b[0m 3ms/step - attrition_output_accuracy: 0.9984 - attrition_output_loss: 0.0093 - department_output_accuracy: 0.9982 - department_output_loss: 0.0188 - loss: 0.0281 - val_attrition_output_accuracy: 0.8100 - val_attrition_output_loss: 1.5801 - val_department_output_accuracy: 0.5430 - val_department_output_loss: 3.2668 - val_loss: 4.8749\n",
      "Epoch 99/100\n",
      "\u001b[1m28/28\u001b[0m \u001b[32m━━━━━━━━━━━━━━━━━━━━\u001b[0m\u001b[37m\u001b[0m \u001b[1m0s\u001b[0m 3ms/step - attrition_output_accuracy: 0.9993 - attrition_output_loss: 0.0063 - department_output_accuracy: 0.9998 - department_output_loss: 0.0136 - loss: 0.0200 - val_attrition_output_accuracy: 0.8054 - val_attrition_output_loss: 1.6882 - val_department_output_accuracy: 0.5566 - val_department_output_loss: 3.2902 - val_loss: 5.0061\n",
      "Epoch 100/100\n",
      "\u001b[1m28/28\u001b[0m \u001b[32m━━━━━━━━━━━━━━━━━━━━\u001b[0m\u001b[37m\u001b[0m \u001b[1m0s\u001b[0m 3ms/step - attrition_output_accuracy: 0.9998 - attrition_output_loss: 0.0052 - department_output_accuracy: 0.9993 - department_output_loss: 0.0127 - loss: 0.0179 - val_attrition_output_accuracy: 0.8009 - val_attrition_output_loss: 1.6552 - val_department_output_accuracy: 0.5475 - val_department_output_loss: 3.3729 - val_loss: 5.0551\n"
     ]
    }
   ],
   "source": [
    "# Train the model\n",
    "history = model.fit(\n",
    "    X_train_scaled,\n",
    "    {'department_output': department_encoded_train, 'attrition_output': attrition_encoded_train},\n",
    "    epochs=100,\n",
    "    batch_size=32,\n",
    "    validation_split=0.2\n",
    ")"
   ]
  },
  {
   "cell_type": "code",
   "execution_count": 317,
   "metadata": {
    "colab": {
     "base_uri": "https://localhost:8080/"
    },
    "executionInfo": {
     "elapsed": 379,
     "status": "ok",
     "timestamp": 1730699259894,
     "user": {
      "displayName": "Alexander Booth",
      "userId": "02269714993535573104"
     },
     "user_tz": 360
    },
    "id": "VsMoaQlgGc3U",
    "outputId": "636c85ba-ee63-4087-b7d1-00b408f1055a"
   },
   "outputs": [
    {
     "name": "stdout",
     "output_type": "stream",
     "text": [
      "\u001b[1m12/12\u001b[0m \u001b[32m━━━━━━━━━━━━━━━━━━━━\u001b[0m\u001b[37m\u001b[0m \u001b[1m0s\u001b[0m 2ms/step - attrition_output_accuracy: 0.8383 - attrition_output_loss: 1.6251 - department_output_accuracy: 0.5270 - department_output_loss: 3.3760 - loss: 5.0038 \n"
     ]
    },
    {
     "data": {
      "text/plain": [
       "[4.468079566955566,\n",
       " 3.0784618854522705,\n",
       " 1.3720359802246094,\n",
       " 0.83152174949646,\n",
       " 0.5380434989929199]"
      ]
     },
     "execution_count": 317,
     "metadata": {},
     "output_type": "execute_result"
    }
   ],
   "source": [
    "# Evaluate the model with the testing data\n",
    "model.evaluate(\n",
    "    X_test_scaled,\n",
    "    {'department_output': department_encoded_test, 'attrition_output': attrition_encoded_test}\n",
    ")"
   ]
  },
  {
   "cell_type": "code",
   "execution_count": null,
   "metadata": {
    "colab": {
     "base_uri": "https://localhost:8080/"
    },
    "executionInfo": {
     "elapsed": 113,
     "status": "ok",
     "timestamp": 1730699260004,
     "user": {
      "displayName": "Alexander Booth",
      "userId": "02269714993535573104"
     },
     "user_tz": 360
    },
    "id": "ZlCtlHi0Vt54",
    "outputId": "3a32435c-11cf-48da-81b5-1431d6c00da2"
   },
   "outputs": [
    {
     "name": "stdout",
     "output_type": "stream",
     "text": [
      "Attrition predictions accuracy:  0.9988649487495422\n",
      "Department predictions accuracy:  0.9977298378944397\n"
     ]
    }
   ],
   "source": [
    "# Print the accuracy for both department and attrition\n",
    "print(\"Attrition predictions accuracy: \", history.history['attrition_output_accuracy'][-1])\n",
    "print(\"Department predictions accuracy: \", history.history['department_output_accuracy'][-1])"
   ]
  },
  {
   "cell_type": "markdown",
   "metadata": {
    "id": "eGSyfsZfWOQM"
   },
   "source": [
    "# Summary\n",
    "\n",
    "In the provided space below, briefly answer the following questions.\n",
    "\n",
    "1. Is accuracy the best metric to use on this data? Why or why not?\n",
    "\n",
    "2. What activation functions did you choose for your output layers, and why?\n",
    "\n",
    "3. Can you name a few ways that this model might be improved?"
   ]
  },
  {
   "cell_type": "markdown",
   "metadata": {
    "id": "pi9SLpFnWvbF"
   },
   "source": [
    "YOUR ANSWERS HERE\n",
    "\n",
    "1. \n",
    "2. \n",
    "3. "
   ]
  },
  {
   "cell_type": "code",
   "execution_count": 17,
   "metadata": {
    "executionInfo": {
     "elapsed": 3,
     "status": "ok",
     "timestamp": 1730699260004,
     "user": {
      "displayName": "Alexander Booth",
      "userId": "02269714993535573104"
     },
     "user_tz": 360
    },
    "id": "ZuQWjGgGXZ3C"
   },
   "outputs": [],
   "source": []
  }
 ],
 "metadata": {
  "colab": {
   "provenance": []
  },
  "kernelspec": {
   "display_name": "dev",
   "language": "python",
   "name": "python3"
  },
  "language_info": {
   "codemirror_mode": {
    "name": "ipython",
    "version": 3
   },
   "file_extension": ".py",
   "mimetype": "text/x-python",
   "name": "python",
   "nbconvert_exporter": "python",
   "pygments_lexer": "ipython3",
   "version": "3.10.15"
  }
 },
 "nbformat": 4,
 "nbformat_minor": 0
}
