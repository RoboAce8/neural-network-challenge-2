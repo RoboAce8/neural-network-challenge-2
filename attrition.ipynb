{
 "cells": [
  {
   "cell_type": "markdown",
   "metadata": {
    "id": "alIIEHibGc3M"
   },
   "source": [
    "## Part 1: Preprocessing"
   ]
  },
  {
   "cell_type": "code",
   "execution_count": 319,
   "metadata": {
    "colab": {
     "base_uri": "https://localhost:8080/",
     "height": 325
    },
    "executionInfo": {
     "elapsed": 12323,
     "status": "ok",
     "timestamp": 1730699226906,
     "user": {
      "displayName": "Alexander Booth",
      "userId": "02269714993535573104"
     },
     "user_tz": 360
    },
    "id": "6eDUJ4NtGc3P",
    "outputId": "eeae54b5-3d17-442d-94ba-00dd55b89964"
   },
   "outputs": [
    {
     "data": {
      "text/html": [
       "<div>\n",
       "<style scoped>\n",
       "    .dataframe tbody tr th:only-of-type {\n",
       "        vertical-align: middle;\n",
       "    }\n",
       "\n",
       "    .dataframe tbody tr th {\n",
       "        vertical-align: top;\n",
       "    }\n",
       "\n",
       "    .dataframe thead th {\n",
       "        text-align: right;\n",
       "    }\n",
       "</style>\n",
       "<table border=\"1\" class=\"dataframe\">\n",
       "  <thead>\n",
       "    <tr style=\"text-align: right;\">\n",
       "      <th></th>\n",
       "      <th>Age</th>\n",
       "      <th>Attrition</th>\n",
       "      <th>BusinessTravel</th>\n",
       "      <th>Department</th>\n",
       "      <th>DistanceFromHome</th>\n",
       "      <th>Education</th>\n",
       "      <th>EducationField</th>\n",
       "      <th>EnvironmentSatisfaction</th>\n",
       "      <th>HourlyRate</th>\n",
       "      <th>JobInvolvement</th>\n",
       "      <th>...</th>\n",
       "      <th>PerformanceRating</th>\n",
       "      <th>RelationshipSatisfaction</th>\n",
       "      <th>StockOptionLevel</th>\n",
       "      <th>TotalWorkingYears</th>\n",
       "      <th>TrainingTimesLastYear</th>\n",
       "      <th>WorkLifeBalance</th>\n",
       "      <th>YearsAtCompany</th>\n",
       "      <th>YearsInCurrentRole</th>\n",
       "      <th>YearsSinceLastPromotion</th>\n",
       "      <th>YearsWithCurrManager</th>\n",
       "    </tr>\n",
       "  </thead>\n",
       "  <tbody>\n",
       "    <tr>\n",
       "      <th>0</th>\n",
       "      <td>41</td>\n",
       "      <td>Yes</td>\n",
       "      <td>Travel_Rarely</td>\n",
       "      <td>Sales</td>\n",
       "      <td>1</td>\n",
       "      <td>2</td>\n",
       "      <td>Life Sciences</td>\n",
       "      <td>2</td>\n",
       "      <td>94</td>\n",
       "      <td>3</td>\n",
       "      <td>...</td>\n",
       "      <td>3</td>\n",
       "      <td>1</td>\n",
       "      <td>0</td>\n",
       "      <td>8</td>\n",
       "      <td>0</td>\n",
       "      <td>1</td>\n",
       "      <td>6</td>\n",
       "      <td>4</td>\n",
       "      <td>0</td>\n",
       "      <td>5</td>\n",
       "    </tr>\n",
       "    <tr>\n",
       "      <th>1</th>\n",
       "      <td>49</td>\n",
       "      <td>No</td>\n",
       "      <td>Travel_Frequently</td>\n",
       "      <td>Research &amp; Development</td>\n",
       "      <td>8</td>\n",
       "      <td>1</td>\n",
       "      <td>Life Sciences</td>\n",
       "      <td>3</td>\n",
       "      <td>61</td>\n",
       "      <td>2</td>\n",
       "      <td>...</td>\n",
       "      <td>4</td>\n",
       "      <td>4</td>\n",
       "      <td>1</td>\n",
       "      <td>10</td>\n",
       "      <td>3</td>\n",
       "      <td>3</td>\n",
       "      <td>10</td>\n",
       "      <td>7</td>\n",
       "      <td>1</td>\n",
       "      <td>7</td>\n",
       "    </tr>\n",
       "    <tr>\n",
       "      <th>2</th>\n",
       "      <td>37</td>\n",
       "      <td>Yes</td>\n",
       "      <td>Travel_Rarely</td>\n",
       "      <td>Research &amp; Development</td>\n",
       "      <td>2</td>\n",
       "      <td>2</td>\n",
       "      <td>Other</td>\n",
       "      <td>4</td>\n",
       "      <td>92</td>\n",
       "      <td>2</td>\n",
       "      <td>...</td>\n",
       "      <td>3</td>\n",
       "      <td>2</td>\n",
       "      <td>0</td>\n",
       "      <td>7</td>\n",
       "      <td>3</td>\n",
       "      <td>3</td>\n",
       "      <td>0</td>\n",
       "      <td>0</td>\n",
       "      <td>0</td>\n",
       "      <td>0</td>\n",
       "    </tr>\n",
       "    <tr>\n",
       "      <th>3</th>\n",
       "      <td>33</td>\n",
       "      <td>No</td>\n",
       "      <td>Travel_Frequently</td>\n",
       "      <td>Research &amp; Development</td>\n",
       "      <td>3</td>\n",
       "      <td>4</td>\n",
       "      <td>Life Sciences</td>\n",
       "      <td>4</td>\n",
       "      <td>56</td>\n",
       "      <td>3</td>\n",
       "      <td>...</td>\n",
       "      <td>3</td>\n",
       "      <td>3</td>\n",
       "      <td>0</td>\n",
       "      <td>8</td>\n",
       "      <td>3</td>\n",
       "      <td>3</td>\n",
       "      <td>8</td>\n",
       "      <td>7</td>\n",
       "      <td>3</td>\n",
       "      <td>0</td>\n",
       "    </tr>\n",
       "    <tr>\n",
       "      <th>4</th>\n",
       "      <td>27</td>\n",
       "      <td>No</td>\n",
       "      <td>Travel_Rarely</td>\n",
       "      <td>Research &amp; Development</td>\n",
       "      <td>2</td>\n",
       "      <td>1</td>\n",
       "      <td>Medical</td>\n",
       "      <td>1</td>\n",
       "      <td>40</td>\n",
       "      <td>3</td>\n",
       "      <td>...</td>\n",
       "      <td>3</td>\n",
       "      <td>4</td>\n",
       "      <td>1</td>\n",
       "      <td>6</td>\n",
       "      <td>3</td>\n",
       "      <td>3</td>\n",
       "      <td>2</td>\n",
       "      <td>2</td>\n",
       "      <td>2</td>\n",
       "      <td>2</td>\n",
       "    </tr>\n",
       "  </tbody>\n",
       "</table>\n",
       "<p>5 rows × 27 columns</p>\n",
       "</div>"
      ],
      "text/plain": [
       "   Age Attrition     BusinessTravel              Department  DistanceFromHome  \\\n",
       "0   41       Yes      Travel_Rarely                   Sales                 1   \n",
       "1   49        No  Travel_Frequently  Research & Development                 8   \n",
       "2   37       Yes      Travel_Rarely  Research & Development                 2   \n",
       "3   33        No  Travel_Frequently  Research & Development                 3   \n",
       "4   27        No      Travel_Rarely  Research & Development                 2   \n",
       "\n",
       "   Education EducationField  EnvironmentSatisfaction  HourlyRate  \\\n",
       "0          2  Life Sciences                        2          94   \n",
       "1          1  Life Sciences                        3          61   \n",
       "2          2          Other                        4          92   \n",
       "3          4  Life Sciences                        4          56   \n",
       "4          1        Medical                        1          40   \n",
       "\n",
       "   JobInvolvement  ...  PerformanceRating RelationshipSatisfaction  \\\n",
       "0               3  ...                  3                        1   \n",
       "1               2  ...                  4                        4   \n",
       "2               2  ...                  3                        2   \n",
       "3               3  ...                  3                        3   \n",
       "4               3  ...                  3                        4   \n",
       "\n",
       "   StockOptionLevel TotalWorkingYears  TrainingTimesLastYear WorkLifeBalance  \\\n",
       "0                 0                 8                      0               1   \n",
       "1                 1                10                      3               3   \n",
       "2                 0                 7                      3               3   \n",
       "3                 0                 8                      3               3   \n",
       "4                 1                 6                      3               3   \n",
       "\n",
       "   YearsAtCompany  YearsInCurrentRole  YearsSinceLastPromotion  \\\n",
       "0               6                   4                        0   \n",
       "1              10                   7                        1   \n",
       "2               0                   0                        0   \n",
       "3               8                   7                        3   \n",
       "4               2                   2                        2   \n",
       "\n",
       "   YearsWithCurrManager  \n",
       "0                     5  \n",
       "1                     7  \n",
       "2                     0  \n",
       "3                     0  \n",
       "4                     2  \n",
       "\n",
       "[5 rows x 27 columns]"
      ]
     },
     "execution_count": 319,
     "metadata": {},
     "output_type": "execute_result"
    }
   ],
   "source": [
    "# Import our dependencies\n",
    "from sklearn.model_selection import train_test_split\n",
    "from sklearn.preprocessing import StandardScaler\n",
    "import pandas as pd\n",
    "import numpy as np\n",
    "from tensorflow.keras.models import Model\n",
    "from tensorflow.keras import layers\n",
    "\n",
    "#  Import and read the attrition data\n",
    "attrition_df = pd.read_csv('https://static.bc-edx.com/ai/ail-v-1-0/m19/lms/datasets/attrition.csv')\n",
    "attrition_df.head()"
   ]
  },
  {
   "cell_type": "code",
   "execution_count": 320,
   "metadata": {
    "colab": {
     "base_uri": "https://localhost:8080/",
     "height": 930
    },
    "executionInfo": {
     "elapsed": 10,
     "status": "ok",
     "timestamp": 1730699226906,
     "user": {
      "displayName": "Alexander Booth",
      "userId": "02269714993535573104"
     },
     "user_tz": 360
    },
    "id": "g22aQSY4Gc3Q",
    "outputId": "e8b68509-45d8-42e0-a9db-1bdce48e4b2d"
   },
   "outputs": [
    {
     "data": {
      "text/plain": [
       "Age                         43\n",
       "Attrition                    2\n",
       "BusinessTravel               3\n",
       "Department                   3\n",
       "DistanceFromHome            29\n",
       "Education                    5\n",
       "EducationField               6\n",
       "EnvironmentSatisfaction      4\n",
       "HourlyRate                  71\n",
       "JobInvolvement               4\n",
       "JobLevel                     5\n",
       "JobRole                      9\n",
       "JobSatisfaction              4\n",
       "MaritalStatus                3\n",
       "NumCompaniesWorked          10\n",
       "OverTime                     2\n",
       "PercentSalaryHike           15\n",
       "PerformanceRating            2\n",
       "RelationshipSatisfaction     4\n",
       "StockOptionLevel             4\n",
       "TotalWorkingYears           40\n",
       "TrainingTimesLastYear        7\n",
       "WorkLifeBalance              4\n",
       "YearsAtCompany              37\n",
       "YearsInCurrentRole          19\n",
       "YearsSinceLastPromotion     16\n",
       "YearsWithCurrManager        18\n",
       "dtype: int64"
      ]
     },
     "execution_count": 320,
     "metadata": {},
     "output_type": "execute_result"
    }
   ],
   "source": [
    "# Determine the number of unique values in each column\n",
    "attrition_df.nunique()"
   ]
  },
  {
   "cell_type": "code",
   "execution_count": 321,
   "metadata": {
    "executionInfo": {
     "elapsed": 7,
     "status": "ok",
     "timestamp": 1730699226906,
     "user": {
      "displayName": "Alexander Booth",
      "userId": "02269714993535573104"
     },
     "user_tz": 360
    },
    "id": "50vMgBEnJbfM"
   },
   "outputs": [
    {
     "data": {
      "text/html": [
       "<div>\n",
       "<style scoped>\n",
       "    .dataframe tbody tr th:only-of-type {\n",
       "        vertical-align: middle;\n",
       "    }\n",
       "\n",
       "    .dataframe tbody tr th {\n",
       "        vertical-align: top;\n",
       "    }\n",
       "\n",
       "    .dataframe thead th {\n",
       "        text-align: right;\n",
       "    }\n",
       "</style>\n",
       "<table border=\"1\" class=\"dataframe\">\n",
       "  <thead>\n",
       "    <tr style=\"text-align: right;\">\n",
       "      <th></th>\n",
       "      <th>Attrition</th>\n",
       "      <th>Department</th>\n",
       "    </tr>\n",
       "  </thead>\n",
       "  <tbody>\n",
       "    <tr>\n",
       "      <th>0</th>\n",
       "      <td>Yes</td>\n",
       "      <td>Sales</td>\n",
       "    </tr>\n",
       "    <tr>\n",
       "      <th>1</th>\n",
       "      <td>No</td>\n",
       "      <td>Research &amp; Development</td>\n",
       "    </tr>\n",
       "    <tr>\n",
       "      <th>2</th>\n",
       "      <td>Yes</td>\n",
       "      <td>Research &amp; Development</td>\n",
       "    </tr>\n",
       "    <tr>\n",
       "      <th>3</th>\n",
       "      <td>No</td>\n",
       "      <td>Research &amp; Development</td>\n",
       "    </tr>\n",
       "    <tr>\n",
       "      <th>4</th>\n",
       "      <td>No</td>\n",
       "      <td>Research &amp; Development</td>\n",
       "    </tr>\n",
       "    <tr>\n",
       "      <th>...</th>\n",
       "      <td>...</td>\n",
       "      <td>...</td>\n",
       "    </tr>\n",
       "    <tr>\n",
       "      <th>1465</th>\n",
       "      <td>No</td>\n",
       "      <td>Research &amp; Development</td>\n",
       "    </tr>\n",
       "    <tr>\n",
       "      <th>1466</th>\n",
       "      <td>No</td>\n",
       "      <td>Research &amp; Development</td>\n",
       "    </tr>\n",
       "    <tr>\n",
       "      <th>1467</th>\n",
       "      <td>No</td>\n",
       "      <td>Research &amp; Development</td>\n",
       "    </tr>\n",
       "    <tr>\n",
       "      <th>1468</th>\n",
       "      <td>No</td>\n",
       "      <td>Sales</td>\n",
       "    </tr>\n",
       "    <tr>\n",
       "      <th>1469</th>\n",
       "      <td>No</td>\n",
       "      <td>Research &amp; Development</td>\n",
       "    </tr>\n",
       "  </tbody>\n",
       "</table>\n",
       "<p>1470 rows × 2 columns</p>\n",
       "</div>"
      ],
      "text/plain": [
       "     Attrition              Department\n",
       "0          Yes                   Sales\n",
       "1           No  Research & Development\n",
       "2          Yes  Research & Development\n",
       "3           No  Research & Development\n",
       "4           No  Research & Development\n",
       "...        ...                     ...\n",
       "1465        No  Research & Development\n",
       "1466        No  Research & Development\n",
       "1467        No  Research & Development\n",
       "1468        No                   Sales\n",
       "1469        No  Research & Development\n",
       "\n",
       "[1470 rows x 2 columns]"
      ]
     },
     "execution_count": 321,
     "metadata": {},
     "output_type": "execute_result"
    }
   ],
   "source": [
    "# Create y_df with the Attrition and Department columns\n",
    "y_df = attrition_df[['Attrition', 'Department']].copy()\n",
    "y_df"
   ]
  },
  {
   "cell_type": "code",
   "execution_count": 322,
   "metadata": {
    "colab": {
     "base_uri": "https://localhost:8080/",
     "height": 397
    },
    "executionInfo": {
     "elapsed": 125,
     "status": "ok",
     "timestamp": 1730699227025,
     "user": {
      "displayName": "Alexander Booth",
      "userId": "02269714993535573104"
     },
     "user_tz": 360
    },
    "id": "Virka0zLGc3R",
    "outputId": "24f181c9-7e2e-42cb-94e8-a75842f1ab01"
   },
   "outputs": [
    {
     "data": {
      "text/plain": [
       "Education                   int64\n",
       "Age                         int64\n",
       "DistanceFromHome            int64\n",
       "JobSatisfaction             int64\n",
       "OverTime                   object\n",
       "StockOptionLevel            int64\n",
       "WorkLifeBalance             int64\n",
       "YearsAtCompany              int64\n",
       "YearsSinceLastPromotion     int64\n",
       "NumCompaniesWorked          int64\n",
       "dtype: object"
      ]
     },
     "execution_count": 322,
     "metadata": {},
     "output_type": "execute_result"
    }
   ],
   "source": [
    "# Create a list of at least 10 column names to use as X data\n",
    "X_data = ['Education', 'Age', 'DistanceFromHome', 'JobSatisfaction', 'OverTime', 'StockOptionLevel', 'WorkLifeBalance', 'YearsAtCompany', 'YearsSinceLastPromotion', 'NumCompaniesWorked']\n",
    "\n",
    "# Create X_df using your selected columns\n",
    "X_df = attrition_df[X_data].copy()\n",
    "\n",
    "# Show the data types for X_df\n",
    "X_df.dtypes"
   ]
  },
  {
   "cell_type": "code",
   "execution_count": 323,
   "metadata": {
    "executionInfo": {
     "elapsed": 9,
     "status": "ok",
     "timestamp": 1730699227025,
     "user": {
      "displayName": "Alexander Booth",
      "userId": "02269714993535573104"
     },
     "user_tz": 360
    },
    "id": "KaJfdOGUMHMR"
   },
   "outputs": [],
   "source": [
    "# Split the data into training and testing sets\n",
    "from sklearn.model_selection import train_test_split\n",
    "X_train, X_test, y_train, y_test = train_test_split(X_df, y_df, random_state=42)"
   ]
  },
  {
   "cell_type": "code",
   "execution_count": 324,
   "metadata": {},
   "outputs": [
    {
     "data": {
      "text/plain": [
       "OverTime\n",
       "No     780\n",
       "Yes    322\n",
       "Name: count, dtype: int64"
      ]
     },
     "execution_count": 324,
     "metadata": {},
     "output_type": "execute_result"
    }
   ],
   "source": [
    "X_train\n",
    "X_train.OverTime.value_counts()"
   ]
  },
  {
   "cell_type": "code",
   "execution_count": 325,
   "metadata": {},
   "outputs": [
    {
     "name": "stdout",
     "output_type": "stream",
     "text": [
      "OverTime\n",
      "0.0    780\n",
      "1.0    322\n",
      "Name: count, dtype: int64\n"
     ]
    }
   ],
   "source": [
    "# Convert your X data to numeric data types however you see fit\n",
    "# Add new code cells as necessary\n",
    "from sklearn.preprocessing import OneHotEncoder\n",
    "\n",
    "# Create a OneHotEncoder instance\n",
    "ohe = OneHotEncoder(sparse_output=False)  # Ensure the output is a dense array\n",
    "# Fit the \"OverTime column\"\n",
    "ohe.fit(X_train[['OverTime']])\n",
    "X_train_ohe = ohe.transform(X_train[['OverTime']])\n",
    "\n",
    "X_train_numeric = X_train.copy()\n",
    "X_train_numeric[\"OverTime\"] = X_train_ohe[:, 1]\n",
    "print(X_train_numeric.OverTime.value_counts())\n",
    "\n",
    "# Repeat for the test data\n",
    "X_test_ohe = ohe.transform(X_test[['OverTime']])\n",
    "X_test_numeric = X_test.copy()\n",
    "X_test_numeric[\"OverTime\"] = X_test_ohe[:, 1]"
   ]
  },
  {
   "cell_type": "code",
   "execution_count": 326,
   "metadata": {
    "executionInfo": {
     "elapsed": 6,
     "status": "ok",
     "timestamp": 1730699227162,
     "user": {
      "displayName": "Alexander Booth",
      "userId": "02269714993535573104"
     },
     "user_tz": 360
    },
    "id": "EWA-aIA5Gc3T"
   },
   "outputs": [],
   "source": [
    "# Create a StandardScaler\n",
    "scaler = StandardScaler()\n",
    "\n",
    "# Fit the StandardScaler to the training data\n",
    "scaler.fit(X_train_numeric)\n",
    "\n",
    "# Scale the training and testing data\n",
    "X_train_scaled = scaler.transform(X_train_numeric)\n",
    "X_test_scaled = scaler.transform(X_test_numeric)"
   ]
  },
  {
   "cell_type": "code",
   "execution_count": 327,
   "metadata": {},
   "outputs": [
    {
     "data": {
      "text/plain": [
       "Department\n",
       "Research & Development    721\n",
       "Sales                     336\n",
       "Human Resources            45\n",
       "Name: count, dtype: int64"
      ]
     },
     "execution_count": 327,
     "metadata": {},
     "output_type": "execute_result"
    }
   ],
   "source": [
    "y_train.Department.value_counts()"
   ]
  },
  {
   "cell_type": "code",
   "execution_count": 328,
   "metadata": {
    "colab": {
     "base_uri": "https://localhost:8080/"
    },
    "executionInfo": {
     "elapsed": 99,
     "status": "ok",
     "timestamp": 1730699227256,
     "user": {
      "displayName": "Alexander Booth",
      "userId": "02269714993535573104"
     },
     "user_tz": 360
    },
    "id": "-z0Mky8vQSz4",
    "outputId": "5024d63f-7e4e-4a91-fb76-0b2c79c1bcfb"
   },
   "outputs": [
    {
     "name": "stdout",
     "output_type": "stream",
     "text": [
      "[[0. 1. 0.]\n",
      " [0. 0. 1.]\n",
      " [0. 0. 1.]\n",
      " ...\n",
      " [0. 1. 0.]\n",
      " [0. 1. 0.]\n",
      " [0. 0. 1.]]\n"
     ]
    }
   ],
   "source": [
    "# Create a OneHotEncoder for the Department column\n",
    "enc_dpt = OneHotEncoder(handle_unknown='ignore')\n",
    "\n",
    "# Fit the encoder to the training data\n",
    "enc_dpt.fit(y_train[['Department']])\n",
    "\n",
    "# Create two new variables by applying the encoder\n",
    "# to the training and testing data\n",
    "department_encoded_train = enc_dpt.transform(y_train[['Department']]).toarray()\n",
    "print(department_encoded_train)\n",
    "y_train[['Research & Development', 'Sales', 'Human Resources']] = department_encoded_train\n",
    "# Delete the original OverTime column from X_train\n",
    "y_train.drop(columns=['Department'], inplace=True)\n",
    "\n",
    "department_encoded_test = enc_dpt.transform(y_test[['Department']]).toarray()\n",
    "y_test[['Research & Development', 'Sales', 'Human Resources']] = department_encoded_test\n",
    "y_test.drop(columns=['Department'], inplace=True)"
   ]
  },
  {
   "cell_type": "code",
   "execution_count": 329,
   "metadata": {},
   "outputs": [
    {
     "data": {
      "text/plain": [
       "Attrition\n",
       "No     913\n",
       "Yes    189\n",
       "Name: count, dtype: int64"
      ]
     },
     "execution_count": 329,
     "metadata": {},
     "output_type": "execute_result"
    }
   ],
   "source": [
    "y_train.Attrition.value_counts()"
   ]
  },
  {
   "cell_type": "code",
   "execution_count": 330,
   "metadata": {
    "colab": {
     "base_uri": "https://localhost:8080/"
    },
    "executionInfo": {
     "elapsed": 5,
     "status": "ok",
     "timestamp": 1730699227257,
     "user": {
      "displayName": "Alexander Booth",
      "userId": "02269714993535573104"
     },
     "user_tz": 360
    },
    "id": "-G4DSpvFRrk4",
    "outputId": "1821049e-a4f0-437f-b8a7-e415431fbdb0"
   },
   "outputs": [
    {
     "name": "stdout",
     "output_type": "stream",
     "text": [
      "[[1. 0.]\n",
      " [1. 0.]\n",
      " [1. 0.]\n",
      " ...\n",
      " [0. 1.]\n",
      " [1. 0.]\n",
      " [1. 0.]]\n"
     ]
    }
   ],
   "source": [
    "# Create a OneHotEncoder for the Attrition column\n",
    "enc_attr = OneHotEncoder(handle_unknown='ignore')\n",
    "\n",
    "# Fit the encoder to the training data\n",
    "enc_attr.fit(y_train[['Attrition']])\n",
    "\n",
    "# Create two new variables by applying the encoder\n",
    "# to the training and testing data\n",
    "attrition_encoded_train = enc_attr.transform(y_train[['Attrition']]).toarray()\n",
    "print(attrition_encoded_train)\n",
    "y_train[['Attrition_No', 'Attrition_Yes']] = attrition_encoded_train\n",
    "# Delete the original OverTime column from X_train\n",
    "y_train.drop(columns=['Attrition'], inplace=True)\n",
    "\n",
    "attrition_encoded_test = enc_attr.transform(y_test[['Attrition']]).toarray()\n",
    "y_test[['Attrition_No', 'Attrition_Yes']] = attrition_encoded_test\n",
    "y_test.drop(columns=['Attrition'], inplace=True)"
   ]
  },
  {
   "cell_type": "markdown",
   "metadata": {
    "id": "ykNmu_WWGc3T"
   },
   "source": [
    "## Part 2: Create, Compile, and Train the Model"
   ]
  },
  {
   "cell_type": "code",
   "execution_count": 331,
   "metadata": {
    "executionInfo": {
     "elapsed": 309,
     "status": "ok",
     "timestamp": 1730699227563,
     "user": {
      "displayName": "Alexander Booth",
      "userId": "02269714993535573104"
     },
     "user_tz": 360
    },
    "id": "WUptZqmSGc3T"
   },
   "outputs": [
    {
     "name": "stdout",
     "output_type": "stream",
     "text": [
      "10\n"
     ]
    }
   ],
   "source": [
    "# Find the number of columns in the X training data.\n",
    "print(X_train_scaled.shape[1])\n",
    "\n",
    "# Create the input layer\n",
    "input_layer = layers.Input(shape=(X_train_scaled.shape[1],), name='input_layer')\n",
    "\n",
    "# Create at least two shared layers\n",
    "shared1 = layers.Dense(64, activation='relu')(input_layer)  # Adjusted kernel size\n",
    "shared2 = layers.Dense(128, activation='relu')(shared1)  # Adjusted pooling size\n"
   ]
  },
  {
   "cell_type": "code",
   "execution_count": 332,
   "metadata": {},
   "outputs": [
    {
     "data": {
      "text/html": [
       "<div>\n",
       "<style scoped>\n",
       "    .dataframe tbody tr th:only-of-type {\n",
       "        vertical-align: middle;\n",
       "    }\n",
       "\n",
       "    .dataframe tbody tr th {\n",
       "        vertical-align: top;\n",
       "    }\n",
       "\n",
       "    .dataframe thead th {\n",
       "        text-align: right;\n",
       "    }\n",
       "</style>\n",
       "<table border=\"1\" class=\"dataframe\">\n",
       "  <thead>\n",
       "    <tr style=\"text-align: right;\">\n",
       "      <th></th>\n",
       "      <th>Research &amp; Development</th>\n",
       "      <th>Sales</th>\n",
       "      <th>Human Resources</th>\n",
       "      <th>Attrition_No</th>\n",
       "      <th>Attrition_Yes</th>\n",
       "    </tr>\n",
       "  </thead>\n",
       "  <tbody>\n",
       "    <tr>\n",
       "      <th>1343</th>\n",
       "      <td>0.0</td>\n",
       "      <td>1.0</td>\n",
       "      <td>0.0</td>\n",
       "      <td>1.0</td>\n",
       "      <td>0.0</td>\n",
       "    </tr>\n",
       "    <tr>\n",
       "      <th>1121</th>\n",
       "      <td>0.0</td>\n",
       "      <td>0.0</td>\n",
       "      <td>1.0</td>\n",
       "      <td>1.0</td>\n",
       "      <td>0.0</td>\n",
       "    </tr>\n",
       "    <tr>\n",
       "      <th>1048</th>\n",
       "      <td>0.0</td>\n",
       "      <td>0.0</td>\n",
       "      <td>1.0</td>\n",
       "      <td>1.0</td>\n",
       "      <td>0.0</td>\n",
       "    </tr>\n",
       "    <tr>\n",
       "      <th>1393</th>\n",
       "      <td>0.0</td>\n",
       "      <td>0.0</td>\n",
       "      <td>1.0</td>\n",
       "      <td>1.0</td>\n",
       "      <td>0.0</td>\n",
       "    </tr>\n",
       "    <tr>\n",
       "      <th>527</th>\n",
       "      <td>0.0</td>\n",
       "      <td>0.0</td>\n",
       "      <td>1.0</td>\n",
       "      <td>1.0</td>\n",
       "      <td>0.0</td>\n",
       "    </tr>\n",
       "    <tr>\n",
       "      <th>...</th>\n",
       "      <td>...</td>\n",
       "      <td>...</td>\n",
       "      <td>...</td>\n",
       "      <td>...</td>\n",
       "      <td>...</td>\n",
       "    </tr>\n",
       "    <tr>\n",
       "      <th>1130</th>\n",
       "      <td>0.0</td>\n",
       "      <td>1.0</td>\n",
       "      <td>0.0</td>\n",
       "      <td>1.0</td>\n",
       "      <td>0.0</td>\n",
       "    </tr>\n",
       "    <tr>\n",
       "      <th>1294</th>\n",
       "      <td>0.0</td>\n",
       "      <td>1.0</td>\n",
       "      <td>0.0</td>\n",
       "      <td>1.0</td>\n",
       "      <td>0.0</td>\n",
       "    </tr>\n",
       "    <tr>\n",
       "      <th>860</th>\n",
       "      <td>0.0</td>\n",
       "      <td>1.0</td>\n",
       "      <td>0.0</td>\n",
       "      <td>0.0</td>\n",
       "      <td>1.0</td>\n",
       "    </tr>\n",
       "    <tr>\n",
       "      <th>1459</th>\n",
       "      <td>0.0</td>\n",
       "      <td>1.0</td>\n",
       "      <td>0.0</td>\n",
       "      <td>1.0</td>\n",
       "      <td>0.0</td>\n",
       "    </tr>\n",
       "    <tr>\n",
       "      <th>1126</th>\n",
       "      <td>0.0</td>\n",
       "      <td>0.0</td>\n",
       "      <td>1.0</td>\n",
       "      <td>1.0</td>\n",
       "      <td>0.0</td>\n",
       "    </tr>\n",
       "  </tbody>\n",
       "</table>\n",
       "<p>1102 rows × 5 columns</p>\n",
       "</div>"
      ],
      "text/plain": [
       "      Research & Development  Sales  Human Resources  Attrition_No  \\\n",
       "1343                     0.0    1.0              0.0           1.0   \n",
       "1121                     0.0    0.0              1.0           1.0   \n",
       "1048                     0.0    0.0              1.0           1.0   \n",
       "1393                     0.0    0.0              1.0           1.0   \n",
       "527                      0.0    0.0              1.0           1.0   \n",
       "...                      ...    ...              ...           ...   \n",
       "1130                     0.0    1.0              0.0           1.0   \n",
       "1294                     0.0    1.0              0.0           1.0   \n",
       "860                      0.0    1.0              0.0           0.0   \n",
       "1459                     0.0    1.0              0.0           1.0   \n",
       "1126                     0.0    0.0              1.0           1.0   \n",
       "\n",
       "      Attrition_Yes  \n",
       "1343            0.0  \n",
       "1121            0.0  \n",
       "1048            0.0  \n",
       "1393            0.0  \n",
       "527             0.0  \n",
       "...             ...  \n",
       "1130            0.0  \n",
       "1294            0.0  \n",
       "860             1.0  \n",
       "1459            0.0  \n",
       "1126            0.0  \n",
       "\n",
       "[1102 rows x 5 columns]"
      ]
     },
     "execution_count": 332,
     "metadata": {},
     "output_type": "execute_result"
    }
   ],
   "source": [
    "y_train"
   ]
  },
  {
   "cell_type": "code",
   "execution_count": 333,
   "metadata": {
    "executionInfo": {
     "elapsed": 118,
     "status": "ok",
     "timestamp": 1730699227678,
     "user": {
      "displayName": "Alexander Booth",
      "userId": "02269714993535573104"
     },
     "user_tz": 360
    },
    "id": "JukjTm2yTEqd"
   },
   "outputs": [],
   "source": [
    "# Create a branch for Department\n",
    "# with a hidden layer and an output layer\n",
    "\n",
    "# Create the hidden layer\n",
    "department_hidden = layers.Dense(32, activation='relu')(shared2)\n",
    "\n",
    "# Create the output layer\n",
    "department_output = layers.Dense(3, activation='softmax', name='department_output')(department_hidden)"
   ]
  },
  {
   "cell_type": "code",
   "execution_count": 334,
   "metadata": {
    "executionInfo": {
     "elapsed": 9,
     "status": "ok",
     "timestamp": 1730699227679,
     "user": {
      "displayName": "Alexander Booth",
      "userId": "02269714993535573104"
     },
     "user_tz": 360
    },
    "id": "9OqhUiOJUBkR"
   },
   "outputs": [],
   "source": [
    "# Create a branch for Attrition\n",
    "# with a hidden layer and an output layer\n",
    "\n",
    "# Create the hidden layer\n",
    "attrition_hidden = layers.Dense(64, activation='relu')(shared2)\n",
    "\n",
    "# Create the output layer\n",
    "attrition_output = layers.Dense(2, activation='sigmoid', name='attrition_output')(attrition_hidden)\n"
   ]
  },
  {
   "cell_type": "code",
   "execution_count": 335,
   "metadata": {
    "colab": {
     "base_uri": "https://localhost:8080/",
     "height": 361
    },
    "executionInfo": {
     "elapsed": 108,
     "status": "ok",
     "timestamp": 1730699227780,
     "user": {
      "displayName": "Alexander Booth",
      "userId": "02269714993535573104"
     },
     "user_tz": 360
    },
    "id": "twmuejdxGc3T",
    "outputId": "dd9ce242-6a66-4709-ba13-4b13551c22e0"
   },
   "outputs": [
    {
     "data": {
      "text/html": [
       "<pre style=\"white-space:pre;overflow-x:auto;line-height:normal;font-family:Menlo,'DejaVu Sans Mono',consolas,'Courier New',monospace\"><span style=\"font-weight: bold\">Model: \"functional_4\"</span>\n",
       "</pre>\n"
      ],
      "text/plain": [
       "\u001b[1mModel: \"functional_4\"\u001b[0m\n"
      ]
     },
     "metadata": {},
     "output_type": "display_data"
    },
    {
     "data": {
      "text/html": [
       "<pre style=\"white-space:pre;overflow-x:auto;line-height:normal;font-family:Menlo,'DejaVu Sans Mono',consolas,'Courier New',monospace\">┏━━━━━━━━━━━━━━━━━━━━━┳━━━━━━━━━━━━━━━━━━━┳━━━━━━━━━━━━┳━━━━━━━━━━━━━━━━━━━┓\n",
       "┃<span style=\"font-weight: bold\"> Layer (type)        </span>┃<span style=\"font-weight: bold\"> Output Shape      </span>┃<span style=\"font-weight: bold\">    Param # </span>┃<span style=\"font-weight: bold\"> Connected to      </span>┃\n",
       "┡━━━━━━━━━━━━━━━━━━━━━╇━━━━━━━━━━━━━━━━━━━╇━━━━━━━━━━━━╇━━━━━━━━━━━━━━━━━━━┩\n",
       "│ input_layer         │ (<span style=\"color: #00d7ff; text-decoration-color: #00d7ff\">None</span>, <span style=\"color: #00af00; text-decoration-color: #00af00\">10</span>)        │          <span style=\"color: #00af00; text-decoration-color: #00af00\">0</span> │ -                 │\n",
       "│ (<span style=\"color: #0087ff; text-decoration-color: #0087ff\">InputLayer</span>)        │                   │            │                   │\n",
       "├─────────────────────┼───────────────────┼────────────┼───────────────────┤\n",
       "│ dense_16 (<span style=\"color: #0087ff; text-decoration-color: #0087ff\">Dense</span>)    │ (<span style=\"color: #00d7ff; text-decoration-color: #00d7ff\">None</span>, <span style=\"color: #00af00; text-decoration-color: #00af00\">64</span>)        │        <span style=\"color: #00af00; text-decoration-color: #00af00\">704</span> │ input_layer[<span style=\"color: #00af00; text-decoration-color: #00af00\">0</span>][<span style=\"color: #00af00; text-decoration-color: #00af00\">0</span>] │\n",
       "├─────────────────────┼───────────────────┼────────────┼───────────────────┤\n",
       "│ dense_17 (<span style=\"color: #0087ff; text-decoration-color: #0087ff\">Dense</span>)    │ (<span style=\"color: #00d7ff; text-decoration-color: #00d7ff\">None</span>, <span style=\"color: #00af00; text-decoration-color: #00af00\">128</span>)       │      <span style=\"color: #00af00; text-decoration-color: #00af00\">8,320</span> │ dense_16[<span style=\"color: #00af00; text-decoration-color: #00af00\">0</span>][<span style=\"color: #00af00; text-decoration-color: #00af00\">0</span>]    │\n",
       "├─────────────────────┼───────────────────┼────────────┼───────────────────┤\n",
       "│ dense_18 (<span style=\"color: #0087ff; text-decoration-color: #0087ff\">Dense</span>)    │ (<span style=\"color: #00d7ff; text-decoration-color: #00d7ff\">None</span>, <span style=\"color: #00af00; text-decoration-color: #00af00\">32</span>)        │      <span style=\"color: #00af00; text-decoration-color: #00af00\">4,128</span> │ dense_17[<span style=\"color: #00af00; text-decoration-color: #00af00\">0</span>][<span style=\"color: #00af00; text-decoration-color: #00af00\">0</span>]    │\n",
       "├─────────────────────┼───────────────────┼────────────┼───────────────────┤\n",
       "│ dense_19 (<span style=\"color: #0087ff; text-decoration-color: #0087ff\">Dense</span>)    │ (<span style=\"color: #00d7ff; text-decoration-color: #00d7ff\">None</span>, <span style=\"color: #00af00; text-decoration-color: #00af00\">64</span>)        │      <span style=\"color: #00af00; text-decoration-color: #00af00\">8,256</span> │ dense_17[<span style=\"color: #00af00; text-decoration-color: #00af00\">0</span>][<span style=\"color: #00af00; text-decoration-color: #00af00\">0</span>]    │\n",
       "├─────────────────────┼───────────────────┼────────────┼───────────────────┤\n",
       "│ department_output   │ (<span style=\"color: #00d7ff; text-decoration-color: #00d7ff\">None</span>, <span style=\"color: #00af00; text-decoration-color: #00af00\">3</span>)         │         <span style=\"color: #00af00; text-decoration-color: #00af00\">99</span> │ dense_18[<span style=\"color: #00af00; text-decoration-color: #00af00\">0</span>][<span style=\"color: #00af00; text-decoration-color: #00af00\">0</span>]    │\n",
       "│ (<span style=\"color: #0087ff; text-decoration-color: #0087ff\">Dense</span>)             │                   │            │                   │\n",
       "├─────────────────────┼───────────────────┼────────────┼───────────────────┤\n",
       "│ attrition_output    │ (<span style=\"color: #00d7ff; text-decoration-color: #00d7ff\">None</span>, <span style=\"color: #00af00; text-decoration-color: #00af00\">2</span>)         │        <span style=\"color: #00af00; text-decoration-color: #00af00\">130</span> │ dense_19[<span style=\"color: #00af00; text-decoration-color: #00af00\">0</span>][<span style=\"color: #00af00; text-decoration-color: #00af00\">0</span>]    │\n",
       "│ (<span style=\"color: #0087ff; text-decoration-color: #0087ff\">Dense</span>)             │                   │            │                   │\n",
       "└─────────────────────┴───────────────────┴────────────┴───────────────────┘\n",
       "</pre>\n"
      ],
      "text/plain": [
       "┏━━━━━━━━━━━━━━━━━━━━━┳━━━━━━━━━━━━━━━━━━━┳━━━━━━━━━━━━┳━━━━━━━━━━━━━━━━━━━┓\n",
       "┃\u001b[1m \u001b[0m\u001b[1mLayer (type)       \u001b[0m\u001b[1m \u001b[0m┃\u001b[1m \u001b[0m\u001b[1mOutput Shape     \u001b[0m\u001b[1m \u001b[0m┃\u001b[1m \u001b[0m\u001b[1m   Param #\u001b[0m\u001b[1m \u001b[0m┃\u001b[1m \u001b[0m\u001b[1mConnected to     \u001b[0m\u001b[1m \u001b[0m┃\n",
       "┡━━━━━━━━━━━━━━━━━━━━━╇━━━━━━━━━━━━━━━━━━━╇━━━━━━━━━━━━╇━━━━━━━━━━━━━━━━━━━┩\n",
       "│ input_layer         │ (\u001b[38;5;45mNone\u001b[0m, \u001b[38;5;34m10\u001b[0m)        │          \u001b[38;5;34m0\u001b[0m │ -                 │\n",
       "│ (\u001b[38;5;33mInputLayer\u001b[0m)        │                   │            │                   │\n",
       "├─────────────────────┼───────────────────┼────────────┼───────────────────┤\n",
       "│ dense_16 (\u001b[38;5;33mDense\u001b[0m)    │ (\u001b[38;5;45mNone\u001b[0m, \u001b[38;5;34m64\u001b[0m)        │        \u001b[38;5;34m704\u001b[0m │ input_layer[\u001b[38;5;34m0\u001b[0m][\u001b[38;5;34m0\u001b[0m] │\n",
       "├─────────────────────┼───────────────────┼────────────┼───────────────────┤\n",
       "│ dense_17 (\u001b[38;5;33mDense\u001b[0m)    │ (\u001b[38;5;45mNone\u001b[0m, \u001b[38;5;34m128\u001b[0m)       │      \u001b[38;5;34m8,320\u001b[0m │ dense_16[\u001b[38;5;34m0\u001b[0m][\u001b[38;5;34m0\u001b[0m]    │\n",
       "├─────────────────────┼───────────────────┼────────────┼───────────────────┤\n",
       "│ dense_18 (\u001b[38;5;33mDense\u001b[0m)    │ (\u001b[38;5;45mNone\u001b[0m, \u001b[38;5;34m32\u001b[0m)        │      \u001b[38;5;34m4,128\u001b[0m │ dense_17[\u001b[38;5;34m0\u001b[0m][\u001b[38;5;34m0\u001b[0m]    │\n",
       "├─────────────────────┼───────────────────┼────────────┼───────────────────┤\n",
       "│ dense_19 (\u001b[38;5;33mDense\u001b[0m)    │ (\u001b[38;5;45mNone\u001b[0m, \u001b[38;5;34m64\u001b[0m)        │      \u001b[38;5;34m8,256\u001b[0m │ dense_17[\u001b[38;5;34m0\u001b[0m][\u001b[38;5;34m0\u001b[0m]    │\n",
       "├─────────────────────┼───────────────────┼────────────┼───────────────────┤\n",
       "│ department_output   │ (\u001b[38;5;45mNone\u001b[0m, \u001b[38;5;34m3\u001b[0m)         │         \u001b[38;5;34m99\u001b[0m │ dense_18[\u001b[38;5;34m0\u001b[0m][\u001b[38;5;34m0\u001b[0m]    │\n",
       "│ (\u001b[38;5;33mDense\u001b[0m)             │                   │            │                   │\n",
       "├─────────────────────┼───────────────────┼────────────┼───────────────────┤\n",
       "│ attrition_output    │ (\u001b[38;5;45mNone\u001b[0m, \u001b[38;5;34m2\u001b[0m)         │        \u001b[38;5;34m130\u001b[0m │ dense_19[\u001b[38;5;34m0\u001b[0m][\u001b[38;5;34m0\u001b[0m]    │\n",
       "│ (\u001b[38;5;33mDense\u001b[0m)             │                   │            │                   │\n",
       "└─────────────────────┴───────────────────┴────────────┴───────────────────┘\n"
      ]
     },
     "metadata": {},
     "output_type": "display_data"
    },
    {
     "data": {
      "text/html": [
       "<pre style=\"white-space:pre;overflow-x:auto;line-height:normal;font-family:Menlo,'DejaVu Sans Mono',consolas,'Courier New',monospace\"><span style=\"font-weight: bold\"> Total params: </span><span style=\"color: #00af00; text-decoration-color: #00af00\">21,637</span> (84.52 KB)\n",
       "</pre>\n"
      ],
      "text/plain": [
       "\u001b[1m Total params: \u001b[0m\u001b[38;5;34m21,637\u001b[0m (84.52 KB)\n"
      ]
     },
     "metadata": {},
     "output_type": "display_data"
    },
    {
     "data": {
      "text/html": [
       "<pre style=\"white-space:pre;overflow-x:auto;line-height:normal;font-family:Menlo,'DejaVu Sans Mono',consolas,'Courier New',monospace\"><span style=\"font-weight: bold\"> Trainable params: </span><span style=\"color: #00af00; text-decoration-color: #00af00\">21,637</span> (84.52 KB)\n",
       "</pre>\n"
      ],
      "text/plain": [
       "\u001b[1m Trainable params: \u001b[0m\u001b[38;5;34m21,637\u001b[0m (84.52 KB)\n"
      ]
     },
     "metadata": {},
     "output_type": "display_data"
    },
    {
     "data": {
      "text/html": [
       "<pre style=\"white-space:pre;overflow-x:auto;line-height:normal;font-family:Menlo,'DejaVu Sans Mono',consolas,'Courier New',monospace\"><span style=\"font-weight: bold\"> Non-trainable params: </span><span style=\"color: #00af00; text-decoration-color: #00af00\">0</span> (0.00 B)\n",
       "</pre>\n"
      ],
      "text/plain": [
       "\u001b[1m Non-trainable params: \u001b[0m\u001b[38;5;34m0\u001b[0m (0.00 B)\n"
      ]
     },
     "metadata": {},
     "output_type": "display_data"
    }
   ],
   "source": [
    "# Create the model\n",
    "model = Model(inputs=input_layer, outputs=[department_output, attrition_output])\n",
    "\n",
    "# Compile the model\n",
    "model.compile(optimizer='adam',\n",
    "              loss={'department_output': 'categorical_crossentropy',\n",
    "                    'attrition_output': 'binary_crossentropy'},\n",
    "              metrics={'department_output': 'accuracy',\n",
    "                       'attrition_output': 'accuracy'})\n",
    "\n",
    "# Summarize the model\n",
    "model.summary()"
   ]
  },
  {
   "cell_type": "code",
   "execution_count": 336,
   "metadata": {
    "colab": {
     "base_uri": "https://localhost:8080/"
    },
    "executionInfo": {
     "elapsed": 31740,
     "status": "ok",
     "timestamp": 1730699259517,
     "user": {
      "displayName": "Alexander Booth",
      "userId": "02269714993535573104"
     },
     "user_tz": 360
    },
    "id": "c8oGy0dpGc3U",
    "outputId": "f48a5292-426f-4715-ea6e-381a8e9d5542"
   },
   "outputs": [
    {
     "name": "stdout",
     "output_type": "stream",
     "text": [
      "Epoch 1/100\n",
      "\u001b[1m28/28\u001b[0m \u001b[32m━━━━━━━━━━━━━━━━━━━━\u001b[0m\u001b[37m\u001b[0m \u001b[1m1s\u001b[0m 8ms/step - attrition_output_accuracy: 0.7672 - attrition_output_loss: 0.5951 - department_output_accuracy: 0.5402 - department_output_loss: 0.9636 - loss: 1.5588 - val_attrition_output_accuracy: 0.7873 - val_attrition_output_loss: 0.5294 - val_department_output_accuracy: 0.6063 - val_department_output_loss: 0.8620 - val_loss: 1.3940\n",
      "Epoch 2/100\n",
      "\u001b[1m28/28\u001b[0m \u001b[32m━━━━━━━━━━━━━━━━━━━━\u001b[0m\u001b[37m\u001b[0m \u001b[1m0s\u001b[0m 3ms/step - attrition_output_accuracy: 0.8383 - attrition_output_loss: 0.4396 - department_output_accuracy: 0.6788 - department_output_loss: 0.7485 - loss: 1.1880 - val_attrition_output_accuracy: 0.7873 - val_attrition_output_loss: 0.4963 - val_department_output_accuracy: 0.6063 - val_department_output_loss: 0.8337 - val_loss: 1.3327\n",
      "Epoch 3/100\n",
      "\u001b[1m28/28\u001b[0m \u001b[32m━━━━━━━━━━━━━━━━━━━━\u001b[0m\u001b[37m\u001b[0m \u001b[1m0s\u001b[0m 3ms/step - attrition_output_accuracy: 0.8313 - attrition_output_loss: 0.4165 - department_output_accuracy: 0.6837 - department_output_loss: 0.7400 - loss: 1.1568 - val_attrition_output_accuracy: 0.7873 - val_attrition_output_loss: 0.4850 - val_department_output_accuracy: 0.6063 - val_department_output_loss: 0.8247 - val_loss: 1.3123\n",
      "Epoch 4/100\n",
      "\u001b[1m28/28\u001b[0m \u001b[32m━━━━━━━━━━━━━━━━━━━━\u001b[0m\u001b[37m\u001b[0m \u001b[1m0s\u001b[0m 3ms/step - attrition_output_accuracy: 0.8344 - attrition_output_loss: 0.3972 - department_output_accuracy: 0.6653 - department_output_loss: 0.7283 - loss: 1.1256 - val_attrition_output_accuracy: 0.7919 - val_attrition_output_loss: 0.4642 - val_department_output_accuracy: 0.6063 - val_department_output_loss: 0.8388 - val_loss: 1.3060\n",
      "Epoch 5/100\n",
      "\u001b[1m28/28\u001b[0m \u001b[32m━━━━━━━━━━━━━━━━━━━━\u001b[0m\u001b[37m\u001b[0m \u001b[1m0s\u001b[0m 3ms/step - attrition_output_accuracy: 0.8542 - attrition_output_loss: 0.3778 - department_output_accuracy: 0.6675 - department_output_loss: 0.7262 - loss: 1.1041 - val_attrition_output_accuracy: 0.7919 - val_attrition_output_loss: 0.4515 - val_department_output_accuracy: 0.6063 - val_department_output_loss: 0.8339 - val_loss: 1.2883\n",
      "Epoch 6/100\n",
      "\u001b[1m28/28\u001b[0m \u001b[32m━━━━━━━━━━━━━━━━━━━━\u001b[0m\u001b[37m\u001b[0m \u001b[1m0s\u001b[0m 3ms/step - attrition_output_accuracy: 0.8234 - attrition_output_loss: 0.3957 - department_output_accuracy: 0.6420 - department_output_loss: 0.7346 - loss: 1.1303 - val_attrition_output_accuracy: 0.7964 - val_attrition_output_loss: 0.4536 - val_department_output_accuracy: 0.6063 - val_department_output_loss: 0.8442 - val_loss: 1.3008\n",
      "Epoch 7/100\n",
      "\u001b[1m28/28\u001b[0m \u001b[32m━━━━━━━━━━━━━━━━━━━━\u001b[0m\u001b[37m\u001b[0m \u001b[1m0s\u001b[0m 3ms/step - attrition_output_accuracy: 0.8480 - attrition_output_loss: 0.3682 - department_output_accuracy: 0.6536 - department_output_loss: 0.7061 - loss: 1.0741 - val_attrition_output_accuracy: 0.8100 - val_attrition_output_loss: 0.4286 - val_department_output_accuracy: 0.6018 - val_department_output_loss: 0.8427 - val_loss: 1.2743\n",
      "Epoch 8/100\n",
      "\u001b[1m28/28\u001b[0m \u001b[32m━━━━━━━━━━━━━━━━━━━━\u001b[0m\u001b[37m\u001b[0m \u001b[1m0s\u001b[0m 3ms/step - attrition_output_accuracy: 0.8443 - attrition_output_loss: 0.3756 - department_output_accuracy: 0.6712 - department_output_loss: 0.7122 - loss: 1.0877 - val_attrition_output_accuracy: 0.8054 - val_attrition_output_loss: 0.4248 - val_department_output_accuracy: 0.5973 - val_department_output_loss: 0.8506 - val_loss: 1.2786\n",
      "Epoch 9/100\n",
      "\u001b[1m28/28\u001b[0m \u001b[32m━━━━━━━━━━━━━━━━━━━━\u001b[0m\u001b[37m\u001b[0m \u001b[1m0s\u001b[0m 3ms/step - attrition_output_accuracy: 0.8693 - attrition_output_loss: 0.3402 - department_output_accuracy: 0.6889 - department_output_loss: 0.6990 - loss: 1.0393 - val_attrition_output_accuracy: 0.8281 - val_attrition_output_loss: 0.4148 - val_department_output_accuracy: 0.5837 - val_department_output_loss: 0.8614 - val_loss: 1.2796\n",
      "Epoch 10/100\n",
      "\u001b[1m28/28\u001b[0m \u001b[32m━━━━━━━━━━━━━━━━━━━━\u001b[0m\u001b[37m\u001b[0m \u001b[1m0s\u001b[0m 4ms/step - attrition_output_accuracy: 0.8561 - attrition_output_loss: 0.3338 - department_output_accuracy: 0.6845 - department_output_loss: 0.6537 - loss: 0.9871 - val_attrition_output_accuracy: 0.8190 - val_attrition_output_loss: 0.4195 - val_department_output_accuracy: 0.5520 - val_department_output_loss: 0.8515 - val_loss: 1.2738\n",
      "Epoch 11/100\n",
      "\u001b[1m28/28\u001b[0m \u001b[32m━━━━━━━━━━━━━━━━━━━━\u001b[0m\u001b[37m\u001b[0m \u001b[1m0s\u001b[0m 4ms/step - attrition_output_accuracy: 0.8788 - attrition_output_loss: 0.3227 - department_output_accuracy: 0.6844 - department_output_loss: 0.6793 - loss: 1.0023 - val_attrition_output_accuracy: 0.8235 - val_attrition_output_loss: 0.4106 - val_department_output_accuracy: 0.5792 - val_department_output_loss: 0.8697 - val_loss: 1.2838\n",
      "Epoch 12/100\n",
      "\u001b[1m28/28\u001b[0m \u001b[32m━━━━━━━━━━━━━━━━━━━━\u001b[0m\u001b[37m\u001b[0m \u001b[1m0s\u001b[0m 4ms/step - attrition_output_accuracy: 0.8728 - attrition_output_loss: 0.3233 - department_output_accuracy: 0.6757 - department_output_loss: 0.6498 - loss: 0.9729 - val_attrition_output_accuracy: 0.8281 - val_attrition_output_loss: 0.4125 - val_department_output_accuracy: 0.5701 - val_department_output_loss: 0.8791 - val_loss: 1.2951\n",
      "Epoch 13/100\n",
      "\u001b[1m28/28\u001b[0m \u001b[32m━━━━━━━━━━━━━━━━━━━━\u001b[0m\u001b[37m\u001b[0m \u001b[1m0s\u001b[0m 3ms/step - attrition_output_accuracy: 0.8910 - attrition_output_loss: 0.3060 - department_output_accuracy: 0.7097 - department_output_loss: 0.6391 - loss: 0.9454 - val_attrition_output_accuracy: 0.8281 - val_attrition_output_loss: 0.4116 - val_department_output_accuracy: 0.5611 - val_department_output_loss: 0.8759 - val_loss: 1.2910\n",
      "Epoch 14/100\n",
      "\u001b[1m28/28\u001b[0m \u001b[32m━━━━━━━━━━━━━━━━━━━━\u001b[0m\u001b[37m\u001b[0m \u001b[1m0s\u001b[0m 3ms/step - attrition_output_accuracy: 0.8719 - attrition_output_loss: 0.3020 - department_output_accuracy: 0.7112 - department_output_loss: 0.6528 - loss: 0.9549 - val_attrition_output_accuracy: 0.8371 - val_attrition_output_loss: 0.4120 - val_department_output_accuracy: 0.5611 - val_department_output_loss: 0.8924 - val_loss: 1.3083\n",
      "Epoch 15/100\n",
      "\u001b[1m28/28\u001b[0m \u001b[32m━━━━━━━━━━━━━━━━━━━━\u001b[0m\u001b[37m\u001b[0m \u001b[1m0s\u001b[0m 3ms/step - attrition_output_accuracy: 0.8854 - attrition_output_loss: 0.3007 - department_output_accuracy: 0.6982 - department_output_loss: 0.6413 - loss: 0.9419 - val_attrition_output_accuracy: 0.8145 - val_attrition_output_loss: 0.4289 - val_department_output_accuracy: 0.5792 - val_department_output_loss: 0.9145 - val_loss: 1.3475\n",
      "Epoch 16/100\n",
      "\u001b[1m28/28\u001b[0m \u001b[32m━━━━━━━━━━━━━━━━━━━━\u001b[0m\u001b[37m\u001b[0m \u001b[1m0s\u001b[0m 3ms/step - attrition_output_accuracy: 0.9060 - attrition_output_loss: 0.2681 - department_output_accuracy: 0.7135 - department_output_loss: 0.6145 - loss: 0.8824 - val_attrition_output_accuracy: 0.8190 - val_attrition_output_loss: 0.4428 - val_department_output_accuracy: 0.5973 - val_department_output_loss: 0.9325 - val_loss: 1.3794\n",
      "Epoch 17/100\n",
      "\u001b[1m28/28\u001b[0m \u001b[32m━━━━━━━━━━━━━━━━━━━━\u001b[0m\u001b[37m\u001b[0m \u001b[1m0s\u001b[0m 3ms/step - attrition_output_accuracy: 0.8858 - attrition_output_loss: 0.2854 - department_output_accuracy: 0.7248 - department_output_loss: 0.5952 - loss: 0.8807 - val_attrition_output_accuracy: 0.8100 - val_attrition_output_loss: 0.4556 - val_department_output_accuracy: 0.5656 - val_department_output_loss: 0.9294 - val_loss: 1.3896\n",
      "Epoch 18/100\n",
      "\u001b[1m28/28\u001b[0m \u001b[32m━━━━━━━━━━━━━━━━━━━━\u001b[0m\u001b[37m\u001b[0m \u001b[1m0s\u001b[0m 3ms/step - attrition_output_accuracy: 0.8922 - attrition_output_loss: 0.2899 - department_output_accuracy: 0.7672 - department_output_loss: 0.5647 - loss: 0.8544 - val_attrition_output_accuracy: 0.8281 - val_attrition_output_loss: 0.4204 - val_department_output_accuracy: 0.5430 - val_department_output_loss: 0.9304 - val_loss: 1.3554\n",
      "Epoch 19/100\n",
      "\u001b[1m28/28\u001b[0m \u001b[32m━━━━━━━━━━━━━━━━━━━━\u001b[0m\u001b[37m\u001b[0m \u001b[1m0s\u001b[0m 3ms/step - attrition_output_accuracy: 0.9164 - attrition_output_loss: 0.2278 - department_output_accuracy: 0.7711 - department_output_loss: 0.5508 - loss: 0.7781 - val_attrition_output_accuracy: 0.8326 - val_attrition_output_loss: 0.4189 - val_department_output_accuracy: 0.5339 - val_department_output_loss: 0.9555 - val_loss: 1.3792\n",
      "Epoch 20/100\n",
      "\u001b[1m28/28\u001b[0m \u001b[32m━━━━━━━━━━━━━━━━━━━━\u001b[0m\u001b[37m\u001b[0m \u001b[1m0s\u001b[0m 3ms/step - attrition_output_accuracy: 0.9007 - attrition_output_loss: 0.2598 - department_output_accuracy: 0.7700 - department_output_loss: 0.5303 - loss: 0.7900 - val_attrition_output_accuracy: 0.8190 - val_attrition_output_loss: 0.4452 - val_department_output_accuracy: 0.5520 - val_department_output_loss: 0.9746 - val_loss: 1.4246\n",
      "Epoch 21/100\n",
      "\u001b[1m28/28\u001b[0m \u001b[32m━━━━━━━━━━━━━━━━━━━━\u001b[0m\u001b[37m\u001b[0m \u001b[1m0s\u001b[0m 3ms/step - attrition_output_accuracy: 0.9033 - attrition_output_loss: 0.2449 - department_output_accuracy: 0.7836 - department_output_loss: 0.5237 - loss: 0.7686 - val_attrition_output_accuracy: 0.8145 - val_attrition_output_loss: 0.4614 - val_department_output_accuracy: 0.5611 - val_department_output_loss: 0.9739 - val_loss: 1.4407\n",
      "Epoch 22/100\n",
      "\u001b[1m28/28\u001b[0m \u001b[32m━━━━━━━━━━━━━━━━━━━━\u001b[0m\u001b[37m\u001b[0m \u001b[1m0s\u001b[0m 3ms/step - attrition_output_accuracy: 0.9164 - attrition_output_loss: 0.2254 - department_output_accuracy: 0.8003 - department_output_loss: 0.5133 - loss: 0.7388 - val_attrition_output_accuracy: 0.8235 - val_attrition_output_loss: 0.4630 - val_department_output_accuracy: 0.5385 - val_department_output_loss: 1.0054 - val_loss: 1.4738\n",
      "Epoch 23/100\n",
      "\u001b[1m28/28\u001b[0m \u001b[32m━━━━━━━━━━━━━━━━━━━━\u001b[0m\u001b[37m\u001b[0m \u001b[1m0s\u001b[0m 3ms/step - attrition_output_accuracy: 0.9148 - attrition_output_loss: 0.2118 - department_output_accuracy: 0.7749 - department_output_loss: 0.5199 - loss: 0.7314 - val_attrition_output_accuracy: 0.8326 - val_attrition_output_loss: 0.4483 - val_department_output_accuracy: 0.5520 - val_department_output_loss: 1.0720 - val_loss: 1.5272\n",
      "Epoch 24/100\n",
      "\u001b[1m28/28\u001b[0m \u001b[32m━━━━━━━━━━━━━━━━━━━━\u001b[0m\u001b[37m\u001b[0m \u001b[1m0s\u001b[0m 3ms/step - attrition_output_accuracy: 0.9247 - attrition_output_loss: 0.2145 - department_output_accuracy: 0.8037 - department_output_loss: 0.4603 - loss: 0.6750 - val_attrition_output_accuracy: 0.8326 - val_attrition_output_loss: 0.4601 - val_department_output_accuracy: 0.5158 - val_department_output_loss: 1.0320 - val_loss: 1.4975\n",
      "Epoch 25/100\n",
      "\u001b[1m28/28\u001b[0m \u001b[32m━━━━━━━━━━━━━━━━━━━━\u001b[0m\u001b[37m\u001b[0m \u001b[1m0s\u001b[0m 3ms/step - attrition_output_accuracy: 0.9093 - attrition_output_loss: 0.2209 - department_output_accuracy: 0.7954 - department_output_loss: 0.4764 - loss: 0.6977 - val_attrition_output_accuracy: 0.8054 - val_attrition_output_loss: 0.5549 - val_department_output_accuracy: 0.5068 - val_department_output_loss: 1.0735 - val_loss: 1.6342\n",
      "Epoch 26/100\n",
      "\u001b[1m28/28\u001b[0m \u001b[32m━━━━━━━━━━━━━━━━━━━━\u001b[0m\u001b[37m\u001b[0m \u001b[1m0s\u001b[0m 3ms/step - attrition_output_accuracy: 0.9069 - attrition_output_loss: 0.2142 - department_output_accuracy: 0.8202 - department_output_loss: 0.4466 - loss: 0.6606 - val_attrition_output_accuracy: 0.8190 - val_attrition_output_loss: 0.5384 - val_department_output_accuracy: 0.5566 - val_department_output_loss: 1.1257 - val_loss: 1.6714\n",
      "Epoch 27/100\n",
      "\u001b[1m28/28\u001b[0m \u001b[32m━━━━━━━━━━━━━━━━━━━━\u001b[0m\u001b[37m\u001b[0m \u001b[1m0s\u001b[0m 3ms/step - attrition_output_accuracy: 0.9362 - attrition_output_loss: 0.1756 - department_output_accuracy: 0.8276 - department_output_loss: 0.4242 - loss: 0.5996 - val_attrition_output_accuracy: 0.8281 - val_attrition_output_loss: 0.5038 - val_department_output_accuracy: 0.5113 - val_department_output_loss: 1.1320 - val_loss: 1.6424\n",
      "Epoch 28/100\n",
      "\u001b[1m28/28\u001b[0m \u001b[32m━━━━━━━━━━━━━━━━━━━━\u001b[0m\u001b[37m\u001b[0m \u001b[1m0s\u001b[0m 3ms/step - attrition_output_accuracy: 0.9393 - attrition_output_loss: 0.1756 - department_output_accuracy: 0.8546 - department_output_loss: 0.3969 - loss: 0.5723 - val_attrition_output_accuracy: 0.8326 - val_attrition_output_loss: 0.5143 - val_department_output_accuracy: 0.5204 - val_department_output_loss: 1.1285 - val_loss: 1.6507\n",
      "Epoch 29/100\n",
      "\u001b[1m28/28\u001b[0m \u001b[32m━━━━━━━━━━━━━━━━━━━━\u001b[0m\u001b[37m\u001b[0m \u001b[1m0s\u001b[0m 3ms/step - attrition_output_accuracy: 0.9473 - attrition_output_loss: 0.1565 - department_output_accuracy: 0.8670 - department_output_loss: 0.3729 - loss: 0.5295 - val_attrition_output_accuracy: 0.8281 - val_attrition_output_loss: 0.5061 - val_department_output_accuracy: 0.5249 - val_department_output_loss: 1.2163 - val_loss: 1.7303\n",
      "Epoch 30/100\n",
      "\u001b[1m28/28\u001b[0m \u001b[32m━━━━━━━━━━━━━━━━━━━━\u001b[0m\u001b[37m\u001b[0m \u001b[1m0s\u001b[0m 3ms/step - attrition_output_accuracy: 0.9528 - attrition_output_loss: 0.1481 - department_output_accuracy: 0.8729 - department_output_loss: 0.3600 - loss: 0.5078 - val_attrition_output_accuracy: 0.8235 - val_attrition_output_loss: 0.5495 - val_department_output_accuracy: 0.5294 - val_department_output_loss: 1.2476 - val_loss: 1.8066\n",
      "Epoch 31/100\n",
      "\u001b[1m28/28\u001b[0m \u001b[32m━━━━━━━━━━━━━━━━━━━━\u001b[0m\u001b[37m\u001b[0m \u001b[1m0s\u001b[0m 3ms/step - attrition_output_accuracy: 0.9534 - attrition_output_loss: 0.1504 - department_output_accuracy: 0.8636 - department_output_loss: 0.3851 - loss: 0.5354 - val_attrition_output_accuracy: 0.8009 - val_attrition_output_loss: 0.5068 - val_department_output_accuracy: 0.4796 - val_department_output_loss: 1.2191 - val_loss: 1.7355\n",
      "Epoch 32/100\n",
      "\u001b[1m28/28\u001b[0m \u001b[32m━━━━━━━━━━━━━━━━━━━━\u001b[0m\u001b[37m\u001b[0m \u001b[1m0s\u001b[0m 3ms/step - attrition_output_accuracy: 0.9449 - attrition_output_loss: 0.1455 - department_output_accuracy: 0.8836 - department_output_loss: 0.3468 - loss: 0.4920 - val_attrition_output_accuracy: 0.8416 - val_attrition_output_loss: 0.5276 - val_department_output_accuracy: 0.4977 - val_department_output_loss: 1.2680 - val_loss: 1.8043\n",
      "Epoch 33/100\n",
      "\u001b[1m28/28\u001b[0m \u001b[32m━━━━━━━━━━━━━━━━━━━━\u001b[0m\u001b[37m\u001b[0m \u001b[1m0s\u001b[0m 3ms/step - attrition_output_accuracy: 0.9432 - attrition_output_loss: 0.1391 - department_output_accuracy: 0.8706 - department_output_loss: 0.3486 - loss: 0.4874 - val_attrition_output_accuracy: 0.8145 - val_attrition_output_loss: 0.5351 - val_department_output_accuracy: 0.5113 - val_department_output_loss: 1.3423 - val_loss: 1.8871\n",
      "Epoch 34/100\n",
      "\u001b[1m28/28\u001b[0m \u001b[32m━━━━━━━━━━━━━━━━━━━━\u001b[0m\u001b[37m\u001b[0m \u001b[1m0s\u001b[0m 3ms/step - attrition_output_accuracy: 0.9486 - attrition_output_loss: 0.1326 - department_output_accuracy: 0.8985 - department_output_loss: 0.3012 - loss: 0.4339 - val_attrition_output_accuracy: 0.8326 - val_attrition_output_loss: 0.5435 - val_department_output_accuracy: 0.5158 - val_department_output_loss: 1.3770 - val_loss: 1.9307\n",
      "Epoch 35/100\n",
      "\u001b[1m28/28\u001b[0m \u001b[32m━━━━━━━━━━━━━━━━━━━━\u001b[0m\u001b[37m\u001b[0m \u001b[1m0s\u001b[0m 3ms/step - attrition_output_accuracy: 0.9652 - attrition_output_loss: 0.1322 - department_output_accuracy: 0.9097 - department_output_loss: 0.2930 - loss: 0.4255 - val_attrition_output_accuracy: 0.8281 - val_attrition_output_loss: 0.5828 - val_department_output_accuracy: 0.5294 - val_department_output_loss: 1.3816 - val_loss: 1.9751\n",
      "Epoch 36/100\n",
      "\u001b[1m28/28\u001b[0m \u001b[32m━━━━━━━━━━━━━━━━━━━━\u001b[0m\u001b[37m\u001b[0m \u001b[1m0s\u001b[0m 3ms/step - attrition_output_accuracy: 0.9627 - attrition_output_loss: 0.1190 - department_output_accuracy: 0.8677 - department_output_loss: 0.3087 - loss: 0.4277 - val_attrition_output_accuracy: 0.8190 - val_attrition_output_loss: 0.5555 - val_department_output_accuracy: 0.5339 - val_department_output_loss: 1.4013 - val_loss: 1.9672\n",
      "Epoch 37/100\n",
      "\u001b[1m28/28\u001b[0m \u001b[32m━━━━━━━━━━━━━━━━━━━━\u001b[0m\u001b[37m\u001b[0m \u001b[1m0s\u001b[0m 3ms/step - attrition_output_accuracy: 0.9561 - attrition_output_loss: 0.1298 - department_output_accuracy: 0.9121 - department_output_loss: 0.2688 - loss: 0.3986 - val_attrition_output_accuracy: 0.8326 - val_attrition_output_loss: 0.6099 - val_department_output_accuracy: 0.5204 - val_department_output_loss: 1.4118 - val_loss: 2.0321\n",
      "Epoch 38/100\n",
      "\u001b[1m28/28\u001b[0m \u001b[32m━━━━━━━━━━━━━━━━━━━━\u001b[0m\u001b[37m\u001b[0m \u001b[1m0s\u001b[0m 3ms/step - attrition_output_accuracy: 0.9686 - attrition_output_loss: 0.1042 - department_output_accuracy: 0.9176 - department_output_loss: 0.2630 - loss: 0.3671 - val_attrition_output_accuracy: 0.8054 - val_attrition_output_loss: 0.5822 - val_department_output_accuracy: 0.5068 - val_department_output_loss: 1.4983 - val_loss: 2.0918\n",
      "Epoch 39/100\n",
      "\u001b[1m28/28\u001b[0m \u001b[32m━━━━━━━━━━━━━━━━━━━━\u001b[0m\u001b[37m\u001b[0m \u001b[1m0s\u001b[0m 3ms/step - attrition_output_accuracy: 0.9655 - attrition_output_loss: 0.1211 - department_output_accuracy: 0.9284 - department_output_loss: 0.2549 - loss: 0.3763 - val_attrition_output_accuracy: 0.8100 - val_attrition_output_loss: 0.6450 - val_department_output_accuracy: 0.5158 - val_department_output_loss: 1.4906 - val_loss: 2.1459\n",
      "Epoch 40/100\n",
      "\u001b[1m28/28\u001b[0m \u001b[32m━━━━━━━━━━━━━━━━━━━━\u001b[0m\u001b[37m\u001b[0m \u001b[1m0s\u001b[0m 3ms/step - attrition_output_accuracy: 0.9627 - attrition_output_loss: 0.1163 - department_output_accuracy: 0.9333 - department_output_loss: 0.2547 - loss: 0.3710 - val_attrition_output_accuracy: 0.8371 - val_attrition_output_loss: 0.6443 - val_department_output_accuracy: 0.5113 - val_department_output_loss: 1.5621 - val_loss: 2.2189\n",
      "Epoch 41/100\n",
      "\u001b[1m28/28\u001b[0m \u001b[32m━━━━━━━━━━━━━━━━━━━━\u001b[0m\u001b[37m\u001b[0m \u001b[1m0s\u001b[0m 3ms/step - attrition_output_accuracy: 0.9659 - attrition_output_loss: 0.1019 - department_output_accuracy: 0.9360 - department_output_loss: 0.2280 - loss: 0.3300 - val_attrition_output_accuracy: 0.7964 - val_attrition_output_loss: 0.6375 - val_department_output_accuracy: 0.5204 - val_department_output_loss: 1.5486 - val_loss: 2.1991\n",
      "Epoch 42/100\n",
      "\u001b[1m28/28\u001b[0m \u001b[32m━━━━━━━━━━━━━━━━━━━━\u001b[0m\u001b[37m\u001b[0m \u001b[1m0s\u001b[0m 3ms/step - attrition_output_accuracy: 0.9753 - attrition_output_loss: 0.0924 - department_output_accuracy: 0.9497 - department_output_loss: 0.2066 - loss: 0.2991 - val_attrition_output_accuracy: 0.8190 - val_attrition_output_loss: 0.6818 - val_department_output_accuracy: 0.5023 - val_department_output_loss: 1.6230 - val_loss: 2.3178\n",
      "Epoch 43/100\n",
      "\u001b[1m28/28\u001b[0m \u001b[32m━━━━━━━━━━━━━━━━━━━━\u001b[0m\u001b[37m\u001b[0m \u001b[1m0s\u001b[0m 3ms/step - attrition_output_accuracy: 0.9665 - attrition_output_loss: 0.1046 - department_output_accuracy: 0.9382 - department_output_loss: 0.2083 - loss: 0.3128 - val_attrition_output_accuracy: 0.8190 - val_attrition_output_loss: 0.7254 - val_department_output_accuracy: 0.5023 - val_department_output_loss: 1.6879 - val_loss: 2.4275\n",
      "Epoch 44/100\n",
      "\u001b[1m28/28\u001b[0m \u001b[32m━━━━━━━━━━━━━━━━━━━━\u001b[0m\u001b[37m\u001b[0m \u001b[1m0s\u001b[0m 3ms/step - attrition_output_accuracy: 0.9773 - attrition_output_loss: 0.0841 - department_output_accuracy: 0.9462 - department_output_loss: 0.1979 - loss: 0.2821 - val_attrition_output_accuracy: 0.8054 - val_attrition_output_loss: 0.6558 - val_department_output_accuracy: 0.5113 - val_department_output_loss: 1.6783 - val_loss: 2.3490\n",
      "Epoch 45/100\n",
      "\u001b[1m28/28\u001b[0m \u001b[32m━━━━━━━━━━━━━━━━━━━━\u001b[0m\u001b[37m\u001b[0m \u001b[1m0s\u001b[0m 3ms/step - attrition_output_accuracy: 0.9849 - attrition_output_loss: 0.0713 - department_output_accuracy: 0.9461 - department_output_loss: 0.1911 - loss: 0.2625 - val_attrition_output_accuracy: 0.8190 - val_attrition_output_loss: 0.6994 - val_department_output_accuracy: 0.4751 - val_department_output_loss: 1.7321 - val_loss: 2.4447\n",
      "Epoch 46/100\n",
      "\u001b[1m28/28\u001b[0m \u001b[32m━━━━━━━━━━━━━━━━━━━━\u001b[0m\u001b[37m\u001b[0m \u001b[1m0s\u001b[0m 3ms/step - attrition_output_accuracy: 0.9750 - attrition_output_loss: 0.0676 - department_output_accuracy: 0.9419 - department_output_loss: 0.1905 - loss: 0.2580 - val_attrition_output_accuracy: 0.8100 - val_attrition_output_loss: 0.7300 - val_department_output_accuracy: 0.5068 - val_department_output_loss: 1.7891 - val_loss: 2.5334\n",
      "Epoch 47/100\n",
      "\u001b[1m28/28\u001b[0m \u001b[32m━━━━━━━━━━━━━━━━━━━━\u001b[0m\u001b[37m\u001b[0m \u001b[1m0s\u001b[0m 3ms/step - attrition_output_accuracy: 0.9807 - attrition_output_loss: 0.0775 - department_output_accuracy: 0.9562 - department_output_loss: 0.1654 - loss: 0.2428 - val_attrition_output_accuracy: 0.8190 - val_attrition_output_loss: 0.7381 - val_department_output_accuracy: 0.5113 - val_department_output_loss: 1.8399 - val_loss: 2.5927\n",
      "Epoch 48/100\n",
      "\u001b[1m28/28\u001b[0m \u001b[32m━━━━━━━━━━━━━━━━━━━━\u001b[0m\u001b[37m\u001b[0m \u001b[1m0s\u001b[0m 3ms/step - attrition_output_accuracy: 0.9826 - attrition_output_loss: 0.0686 - department_output_accuracy: 0.9489 - department_output_loss: 0.1754 - loss: 0.2438 - val_attrition_output_accuracy: 0.8054 - val_attrition_output_loss: 0.7841 - val_department_output_accuracy: 0.5204 - val_department_output_loss: 1.8772 - val_loss: 2.6770\n",
      "Epoch 49/100\n",
      "\u001b[1m28/28\u001b[0m \u001b[32m━━━━━━━━━━━━━━━━━━━━\u001b[0m\u001b[37m\u001b[0m \u001b[1m0s\u001b[0m 3ms/step - attrition_output_accuracy: 0.9849 - attrition_output_loss: 0.0612 - department_output_accuracy: 0.9549 - department_output_loss: 0.1558 - loss: 0.2168 - val_attrition_output_accuracy: 0.8054 - val_attrition_output_loss: 0.8400 - val_department_output_accuracy: 0.5249 - val_department_output_loss: 1.9409 - val_loss: 2.7965\n",
      "Epoch 50/100\n",
      "\u001b[1m28/28\u001b[0m \u001b[32m━━━━━━━━━━━━━━━━━━━━\u001b[0m\u001b[37m\u001b[0m \u001b[1m0s\u001b[0m 3ms/step - attrition_output_accuracy: 0.9881 - attrition_output_loss: 0.0560 - department_output_accuracy: 0.9721 - department_output_loss: 0.1346 - loss: 0.1907 - val_attrition_output_accuracy: 0.8145 - val_attrition_output_loss: 0.8375 - val_department_output_accuracy: 0.5294 - val_department_output_loss: 1.9297 - val_loss: 2.7837\n",
      "Epoch 51/100\n",
      "\u001b[1m28/28\u001b[0m \u001b[32m━━━━━━━━━━━━━━━━━━━━\u001b[0m\u001b[37m\u001b[0m \u001b[1m0s\u001b[0m 3ms/step - attrition_output_accuracy: 0.9812 - attrition_output_loss: 0.0589 - department_output_accuracy: 0.9654 - department_output_loss: 0.1246 - loss: 0.1835 - val_attrition_output_accuracy: 0.8054 - val_attrition_output_loss: 0.8340 - val_department_output_accuracy: 0.4842 - val_department_output_loss: 1.9836 - val_loss: 2.8345\n",
      "Epoch 52/100\n",
      "\u001b[1m28/28\u001b[0m \u001b[32m━━━━━━━━━━━━━━━━━━━━\u001b[0m\u001b[37m\u001b[0m \u001b[1m0s\u001b[0m 3ms/step - attrition_output_accuracy: 0.9908 - attrition_output_loss: 0.0482 - department_output_accuracy: 0.9523 - department_output_loss: 0.1605 - loss: 0.2088 - val_attrition_output_accuracy: 0.8100 - val_attrition_output_loss: 0.8341 - val_department_output_accuracy: 0.5113 - val_department_output_loss: 2.0722 - val_loss: 2.9242\n",
      "Epoch 53/100\n",
      "\u001b[1m28/28\u001b[0m \u001b[32m━━━━━━━━━━━━━━━━━━━━\u001b[0m\u001b[37m\u001b[0m \u001b[1m0s\u001b[0m 3ms/step - attrition_output_accuracy: 0.9912 - attrition_output_loss: 0.0404 - department_output_accuracy: 0.9695 - department_output_loss: 0.1293 - loss: 0.1697 - val_attrition_output_accuracy: 0.7964 - val_attrition_output_loss: 0.8614 - val_department_output_accuracy: 0.5249 - val_department_output_loss: 2.0675 - val_loss: 2.9456\n",
      "Epoch 54/100\n",
      "\u001b[1m28/28\u001b[0m \u001b[32m━━━━━━━━━━━━━━━━━━━━\u001b[0m\u001b[37m\u001b[0m \u001b[1m0s\u001b[0m 3ms/step - attrition_output_accuracy: 0.9851 - attrition_output_loss: 0.0549 - department_output_accuracy: 0.9581 - department_output_loss: 0.1329 - loss: 0.1879 - val_attrition_output_accuracy: 0.8009 - val_attrition_output_loss: 0.8745 - val_department_output_accuracy: 0.5204 - val_department_output_loss: 2.2458 - val_loss: 3.1379\n",
      "Epoch 55/100\n",
      "\u001b[1m28/28\u001b[0m \u001b[32m━━━━━━━━━━━━━━━━━━━━\u001b[0m\u001b[37m\u001b[0m \u001b[1m0s\u001b[0m 2ms/step - attrition_output_accuracy: 0.9887 - attrition_output_loss: 0.0529 - department_output_accuracy: 0.9750 - department_output_loss: 0.1145 - loss: 0.1674 - val_attrition_output_accuracy: 0.8054 - val_attrition_output_loss: 0.8944 - val_department_output_accuracy: 0.5249 - val_department_output_loss: 2.1993 - val_loss: 3.1111\n",
      "Epoch 56/100\n",
      "\u001b[1m28/28\u001b[0m \u001b[32m━━━━━━━━━━━━━━━━━━━━\u001b[0m\u001b[37m\u001b[0m \u001b[1m0s\u001b[0m 3ms/step - attrition_output_accuracy: 0.9921 - attrition_output_loss: 0.0333 - department_output_accuracy: 0.9770 - department_output_loss: 0.1027 - loss: 0.1358 - val_attrition_output_accuracy: 0.8054 - val_attrition_output_loss: 0.8919 - val_department_output_accuracy: 0.5023 - val_department_output_loss: 2.2717 - val_loss: 3.1810\n",
      "Epoch 57/100\n",
      "\u001b[1m28/28\u001b[0m \u001b[32m━━━━━━━━━━━━━━━━━━━━\u001b[0m\u001b[37m\u001b[0m \u001b[1m0s\u001b[0m 3ms/step - attrition_output_accuracy: 0.9898 - attrition_output_loss: 0.0365 - department_output_accuracy: 0.9777 - department_output_loss: 0.1036 - loss: 0.1401 - val_attrition_output_accuracy: 0.8100 - val_attrition_output_loss: 0.9425 - val_department_output_accuracy: 0.5068 - val_department_output_loss: 2.2189 - val_loss: 3.1800\n",
      "Epoch 58/100\n",
      "\u001b[1m28/28\u001b[0m \u001b[32m━━━━━━━━━━━━━━━━━━━━\u001b[0m\u001b[37m\u001b[0m \u001b[1m0s\u001b[0m 3ms/step - attrition_output_accuracy: 0.9888 - attrition_output_loss: 0.0395 - department_output_accuracy: 0.9816 - department_output_loss: 0.0829 - loss: 0.1223 - val_attrition_output_accuracy: 0.8145 - val_attrition_output_loss: 0.9234 - val_department_output_accuracy: 0.5204 - val_department_output_loss: 2.3306 - val_loss: 3.2738\n",
      "Epoch 59/100\n",
      "\u001b[1m28/28\u001b[0m \u001b[32m━━━━━━━━━━━━━━━━━━━━\u001b[0m\u001b[37m\u001b[0m \u001b[1m0s\u001b[0m 2ms/step - attrition_output_accuracy: 0.9870 - attrition_output_loss: 0.0426 - department_output_accuracy: 0.9934 - department_output_loss: 0.0818 - loss: 0.1245 - val_attrition_output_accuracy: 0.7919 - val_attrition_output_loss: 0.9572 - val_department_output_accuracy: 0.5068 - val_department_output_loss: 2.3816 - val_loss: 3.3577\n",
      "Epoch 60/100\n",
      "\u001b[1m28/28\u001b[0m \u001b[32m━━━━━━━━━━━━━━━━━━━━\u001b[0m\u001b[37m\u001b[0m \u001b[1m0s\u001b[0m 2ms/step - attrition_output_accuracy: 0.9898 - attrition_output_loss: 0.0368 - department_output_accuracy: 0.9925 - department_output_loss: 0.0784 - loss: 0.1149 - val_attrition_output_accuracy: 0.8100 - val_attrition_output_loss: 1.0707 - val_department_output_accuracy: 0.5249 - val_department_output_loss: 2.4250 - val_loss: 3.5172\n",
      "Epoch 61/100\n",
      "\u001b[1m28/28\u001b[0m \u001b[32m━━━━━━━━━━━━━━━━━━━━\u001b[0m\u001b[37m\u001b[0m \u001b[1m0s\u001b[0m 2ms/step - attrition_output_accuracy: 0.9891 - attrition_output_loss: 0.0450 - department_output_accuracy: 0.9972 - department_output_loss: 0.0730 - loss: 0.1178 - val_attrition_output_accuracy: 0.8009 - val_attrition_output_loss: 0.9129 - val_department_output_accuracy: 0.5204 - val_department_output_loss: 2.5406 - val_loss: 3.4764\n",
      "Epoch 62/100\n",
      "\u001b[1m28/28\u001b[0m \u001b[32m━━━━━━━━━━━━━━━━━━━━\u001b[0m\u001b[37m\u001b[0m \u001b[1m0s\u001b[0m 2ms/step - attrition_output_accuracy: 0.9918 - attrition_output_loss: 0.0349 - department_output_accuracy: 0.9914 - department_output_loss: 0.0707 - loss: 0.1055 - val_attrition_output_accuracy: 0.8100 - val_attrition_output_loss: 1.0547 - val_department_output_accuracy: 0.5204 - val_department_output_loss: 2.4266 - val_loss: 3.5033\n",
      "Epoch 63/100\n",
      "\u001b[1m28/28\u001b[0m \u001b[32m━━━━━━━━━━━━━━━━━━━━\u001b[0m\u001b[37m\u001b[0m \u001b[1m0s\u001b[0m 3ms/step - attrition_output_accuracy: 0.9918 - attrition_output_loss: 0.0293 - department_output_accuracy: 0.9942 - department_output_loss: 0.0678 - loss: 0.0972 - val_attrition_output_accuracy: 0.8054 - val_attrition_output_loss: 0.9987 - val_department_output_accuracy: 0.4932 - val_department_output_loss: 2.4734 - val_loss: 3.4934\n",
      "Epoch 64/100\n",
      "\u001b[1m28/28\u001b[0m \u001b[32m━━━━━━━━━━━━━━━━━━━━\u001b[0m\u001b[37m\u001b[0m \u001b[1m0s\u001b[0m 3ms/step - attrition_output_accuracy: 0.9946 - attrition_output_loss: 0.0308 - department_output_accuracy: 0.9984 - department_output_loss: 0.0559 - loss: 0.0867 - val_attrition_output_accuracy: 0.8100 - val_attrition_output_loss: 1.0147 - val_department_output_accuracy: 0.5204 - val_department_output_loss: 2.5175 - val_loss: 3.5546\n",
      "Epoch 65/100\n",
      "\u001b[1m28/28\u001b[0m \u001b[32m━━━━━━━━━━━━━━━━━━━━\u001b[0m\u001b[37m\u001b[0m \u001b[1m0s\u001b[0m 2ms/step - attrition_output_accuracy: 0.9930 - attrition_output_loss: 0.0296 - department_output_accuracy: 0.9945 - department_output_loss: 0.0563 - loss: 0.0859 - val_attrition_output_accuracy: 0.8145 - val_attrition_output_loss: 1.0511 - val_department_output_accuracy: 0.5113 - val_department_output_loss: 2.6429 - val_loss: 3.7166\n",
      "Epoch 66/100\n",
      "\u001b[1m28/28\u001b[0m \u001b[32m━━━━━━━━━━━━━━━━━━━━\u001b[0m\u001b[37m\u001b[0m \u001b[1m0s\u001b[0m 3ms/step - attrition_output_accuracy: 0.9941 - attrition_output_loss: 0.0251 - department_output_accuracy: 0.9994 - department_output_loss: 0.0469 - loss: 0.0720 - val_attrition_output_accuracy: 0.8009 - val_attrition_output_loss: 1.1012 - val_department_output_accuracy: 0.5023 - val_department_output_loss: 2.6125 - val_loss: 3.7365\n",
      "Epoch 67/100\n",
      "\u001b[1m28/28\u001b[0m \u001b[32m━━━━━━━━━━━━━━━━━━━━\u001b[0m\u001b[37m\u001b[0m \u001b[1m0s\u001b[0m 3ms/step - attrition_output_accuracy: 0.9924 - attrition_output_loss: 0.0261 - department_output_accuracy: 0.9960 - department_output_loss: 0.0594 - loss: 0.0855 - val_attrition_output_accuracy: 0.8100 - val_attrition_output_loss: 1.1455 - val_department_output_accuracy: 0.4932 - val_department_output_loss: 2.6404 - val_loss: 3.8077\n",
      "Epoch 68/100\n",
      "\u001b[1m28/28\u001b[0m \u001b[32m━━━━━━━━━━━━━━━━━━━━\u001b[0m\u001b[37m\u001b[0m \u001b[1m0s\u001b[0m 3ms/step - attrition_output_accuracy: 0.9980 - attrition_output_loss: 0.0219 - department_output_accuracy: 0.9991 - department_output_loss: 0.0449 - loss: 0.0667 - val_attrition_output_accuracy: 0.7964 - val_attrition_output_loss: 1.2104 - val_department_output_accuracy: 0.5113 - val_department_output_loss: 2.6892 - val_loss: 3.9218\n",
      "Epoch 69/100\n",
      "\u001b[1m28/28\u001b[0m \u001b[32m━━━━━━━━━━━━━━━━━━━━\u001b[0m\u001b[37m\u001b[0m \u001b[1m0s\u001b[0m 3ms/step - attrition_output_accuracy: 0.9981 - attrition_output_loss: 0.0193 - department_output_accuracy: 0.9989 - department_output_loss: 0.0473 - loss: 0.0666 - val_attrition_output_accuracy: 0.8190 - val_attrition_output_loss: 1.1769 - val_department_output_accuracy: 0.5113 - val_department_output_loss: 2.7260 - val_loss: 3.9247\n",
      "Epoch 70/100\n",
      "\u001b[1m28/28\u001b[0m \u001b[32m━━━━━━━━━━━━━━━━━━━━\u001b[0m\u001b[37m\u001b[0m \u001b[1m0s\u001b[0m 2ms/step - attrition_output_accuracy: 0.9966 - attrition_output_loss: 0.0219 - department_output_accuracy: 0.9966 - department_output_loss: 0.0463 - loss: 0.0682 - val_attrition_output_accuracy: 0.8054 - val_attrition_output_loss: 1.1466 - val_department_output_accuracy: 0.5068 - val_department_output_loss: 2.8310 - val_loss: 4.0013\n",
      "Epoch 71/100\n",
      "\u001b[1m28/28\u001b[0m \u001b[32m━━━━━━━━━━━━━━━━━━━━\u001b[0m\u001b[37m\u001b[0m \u001b[1m0s\u001b[0m 2ms/step - attrition_output_accuracy: 0.9949 - attrition_output_loss: 0.0208 - department_output_accuracy: 0.9985 - department_output_loss: 0.0429 - loss: 0.0637 - val_attrition_output_accuracy: 0.7919 - val_attrition_output_loss: 1.1689 - val_department_output_accuracy: 0.5158 - val_department_output_loss: 2.8446 - val_loss: 4.0380\n",
      "Epoch 72/100\n",
      "\u001b[1m28/28\u001b[0m \u001b[32m━━━━━━━━━━━━━━━━━━━━\u001b[0m\u001b[37m\u001b[0m \u001b[1m0s\u001b[0m 2ms/step - attrition_output_accuracy: 0.9961 - attrition_output_loss: 0.0212 - department_output_accuracy: 0.9973 - department_output_loss: 0.0398 - loss: 0.0610 - val_attrition_output_accuracy: 0.8009 - val_attrition_output_loss: 1.2094 - val_department_output_accuracy: 0.5204 - val_department_output_loss: 3.0011 - val_loss: 4.2353\n",
      "Epoch 73/100\n",
      "\u001b[1m28/28\u001b[0m \u001b[32m━━━━━━━━━━━━━━━━━━━━\u001b[0m\u001b[37m\u001b[0m \u001b[1m0s\u001b[0m 2ms/step - attrition_output_accuracy: 0.9962 - attrition_output_loss: 0.0170 - department_output_accuracy: 0.9940 - department_output_loss: 0.0437 - loss: 0.0606 - val_attrition_output_accuracy: 0.8145 - val_attrition_output_loss: 1.1795 - val_department_output_accuracy: 0.4932 - val_department_output_loss: 2.9734 - val_loss: 4.1778\n",
      "Epoch 74/100\n",
      "\u001b[1m28/28\u001b[0m \u001b[32m━━━━━━━━━━━━━━━━━━━━\u001b[0m\u001b[37m\u001b[0m \u001b[1m0s\u001b[0m 3ms/step - attrition_output_accuracy: 0.9985 - attrition_output_loss: 0.0160 - department_output_accuracy: 0.9998 - department_output_loss: 0.0348 - loss: 0.0508 - val_attrition_output_accuracy: 0.8100 - val_attrition_output_loss: 1.2927 - val_department_output_accuracy: 0.5023 - val_department_output_loss: 2.9648 - val_loss: 4.2814\n",
      "Epoch 75/100\n",
      "\u001b[1m28/28\u001b[0m \u001b[32m━━━━━━━━━━━━━━━━━━━━\u001b[0m\u001b[37m\u001b[0m \u001b[1m0s\u001b[0m 3ms/step - attrition_output_accuracy: 0.9972 - attrition_output_loss: 0.0185 - department_output_accuracy: 0.9999 - department_output_loss: 0.0303 - loss: 0.0488 - val_attrition_output_accuracy: 0.7692 - val_attrition_output_loss: 1.1702 - val_department_output_accuracy: 0.5204 - val_department_output_loss: 3.0755 - val_loss: 4.2736\n",
      "Epoch 76/100\n",
      "\u001b[1m28/28\u001b[0m \u001b[32m━━━━━━━━━━━━━━━━━━━━\u001b[0m\u001b[37m\u001b[0m \u001b[1m0s\u001b[0m 3ms/step - attrition_output_accuracy: 0.9894 - attrition_output_loss: 0.0358 - department_output_accuracy: 0.9934 - department_output_loss: 0.0388 - loss: 0.0747 - val_attrition_output_accuracy: 0.8100 - val_attrition_output_loss: 1.3789 - val_department_output_accuracy: 0.5158 - val_department_output_loss: 3.0770 - val_loss: 4.4815\n",
      "Epoch 77/100\n",
      "\u001b[1m28/28\u001b[0m \u001b[32m━━━━━━━━━━━━━━━━━━━━\u001b[0m\u001b[37m\u001b[0m \u001b[1m0s\u001b[0m 3ms/step - attrition_output_accuracy: 0.9955 - attrition_output_loss: 0.0204 - department_output_accuracy: 0.9999 - department_output_loss: 0.0312 - loss: 0.0516 - val_attrition_output_accuracy: 0.8054 - val_attrition_output_loss: 1.2685 - val_department_output_accuracy: 0.5113 - val_department_output_loss: 3.0862 - val_loss: 4.3807\n",
      "Epoch 78/100\n",
      "\u001b[1m28/28\u001b[0m \u001b[32m━━━━━━━━━━━━━━━━━━━━\u001b[0m\u001b[37m\u001b[0m \u001b[1m0s\u001b[0m 2ms/step - attrition_output_accuracy: 0.9908 - attrition_output_loss: 0.0264 - department_output_accuracy: 0.9937 - department_output_loss: 0.0367 - loss: 0.0631 - val_attrition_output_accuracy: 0.8100 - val_attrition_output_loss: 1.2497 - val_department_output_accuracy: 0.5204 - val_department_output_loss: 3.1689 - val_loss: 4.4455\n",
      "Epoch 79/100\n",
      "\u001b[1m28/28\u001b[0m \u001b[32m━━━━━━━━━━━━━━━━━━━━\u001b[0m\u001b[37m\u001b[0m \u001b[1m0s\u001b[0m 3ms/step - attrition_output_accuracy: 0.9998 - attrition_output_loss: 0.0140 - department_output_accuracy: 1.0000 - department_output_loss: 0.0315 - loss: 0.0454 - val_attrition_output_accuracy: 0.8009 - val_attrition_output_loss: 1.3156 - val_department_output_accuracy: 0.5113 - val_department_output_loss: 3.2118 - val_loss: 4.5549\n",
      "Epoch 80/100\n",
      "\u001b[1m28/28\u001b[0m \u001b[32m━━━━━━━━━━━━━━━━━━━━\u001b[0m\u001b[37m\u001b[0m \u001b[1m0s\u001b[0m 2ms/step - attrition_output_accuracy: 0.9968 - attrition_output_loss: 0.0175 - department_output_accuracy: 1.0000 - department_output_loss: 0.0270 - loss: 0.0444 - val_attrition_output_accuracy: 0.7919 - val_attrition_output_loss: 1.3971 - val_department_output_accuracy: 0.5023 - val_department_output_loss: 3.1983 - val_loss: 4.6224\n",
      "Epoch 81/100\n",
      "\u001b[1m28/28\u001b[0m \u001b[32m━━━━━━━━━━━━━━━━━━━━\u001b[0m\u001b[37m\u001b[0m \u001b[1m0s\u001b[0m 2ms/step - attrition_output_accuracy: 0.9941 - attrition_output_loss: 0.0194 - department_output_accuracy: 1.0000 - department_output_loss: 0.0222 - loss: 0.0416 - val_attrition_output_accuracy: 0.8009 - val_attrition_output_loss: 1.3853 - val_department_output_accuracy: 0.5249 - val_department_output_loss: 3.2677 - val_loss: 4.6807\n",
      "Epoch 82/100\n",
      "\u001b[1m28/28\u001b[0m \u001b[32m━━━━━━━━━━━━━━━━━━━━\u001b[0m\u001b[37m\u001b[0m \u001b[1m0s\u001b[0m 3ms/step - attrition_output_accuracy: 0.9990 - attrition_output_loss: 0.0118 - department_output_accuracy: 1.0000 - department_output_loss: 0.0233 - loss: 0.0351 - val_attrition_output_accuracy: 0.8009 - val_attrition_output_loss: 1.3432 - val_department_output_accuracy: 0.4977 - val_department_output_loss: 3.2109 - val_loss: 4.5832\n",
      "Epoch 83/100\n",
      "\u001b[1m28/28\u001b[0m \u001b[32m━━━━━━━━━━━━━━━━━━━━\u001b[0m\u001b[37m\u001b[0m \u001b[1m0s\u001b[0m 3ms/step - attrition_output_accuracy: 0.9989 - attrition_output_loss: 0.0123 - department_output_accuracy: 0.9985 - department_output_loss: 0.0238 - loss: 0.0361 - val_attrition_output_accuracy: 0.8009 - val_attrition_output_loss: 1.3021 - val_department_output_accuracy: 0.5113 - val_department_output_loss: 3.2795 - val_loss: 4.6114\n",
      "Epoch 84/100\n",
      "\u001b[1m28/28\u001b[0m \u001b[32m━━━━━━━━━━━━━━━━━━━━\u001b[0m\u001b[37m\u001b[0m \u001b[1m0s\u001b[0m 3ms/step - attrition_output_accuracy: 0.9923 - attrition_output_loss: 0.0166 - department_output_accuracy: 1.0000 - department_output_loss: 0.0210 - loss: 0.0375 - val_attrition_output_accuracy: 0.7919 - val_attrition_output_loss: 1.3170 - val_department_output_accuracy: 0.5158 - val_department_output_loss: 3.3660 - val_loss: 4.7124\n",
      "Epoch 85/100\n",
      "\u001b[1m28/28\u001b[0m \u001b[32m━━━━━━━━━━━━━━━━━━━━\u001b[0m\u001b[37m\u001b[0m \u001b[1m0s\u001b[0m 2ms/step - attrition_output_accuracy: 0.9990 - attrition_output_loss: 0.0116 - department_output_accuracy: 1.0000 - department_output_loss: 0.0211 - loss: 0.0327 - val_attrition_output_accuracy: 0.8054 - val_attrition_output_loss: 1.4592 - val_department_output_accuracy: 0.5023 - val_department_output_loss: 3.3496 - val_loss: 4.8370\n",
      "Epoch 86/100\n",
      "\u001b[1m28/28\u001b[0m \u001b[32m━━━━━━━━━━━━━━━━━━━━\u001b[0m\u001b[37m\u001b[0m \u001b[1m0s\u001b[0m 2ms/step - attrition_output_accuracy: 0.9968 - attrition_output_loss: 0.0163 - department_output_accuracy: 1.0000 - department_output_loss: 0.0184 - loss: 0.0346 - val_attrition_output_accuracy: 0.8145 - val_attrition_output_loss: 1.4134 - val_department_output_accuracy: 0.5158 - val_department_output_loss: 3.4269 - val_loss: 4.8700\n",
      "Epoch 87/100\n",
      "\u001b[1m28/28\u001b[0m \u001b[32m━━━━━━━━━━━━━━━━━━━━\u001b[0m\u001b[37m\u001b[0m \u001b[1m0s\u001b[0m 3ms/step - attrition_output_accuracy: 1.0000 - attrition_output_loss: 0.0088 - department_output_accuracy: 1.0000 - department_output_loss: 0.0164 - loss: 0.0252 - val_attrition_output_accuracy: 0.8009 - val_attrition_output_loss: 1.4019 - val_department_output_accuracy: 0.5249 - val_department_output_loss: 3.4164 - val_loss: 4.8487\n",
      "Epoch 88/100\n",
      "\u001b[1m28/28\u001b[0m \u001b[32m━━━━━━━━━━━━━━━━━━━━\u001b[0m\u001b[37m\u001b[0m \u001b[1m0s\u001b[0m 3ms/step - attrition_output_accuracy: 1.0000 - attrition_output_loss: 0.0073 - department_output_accuracy: 1.0000 - department_output_loss: 0.0146 - loss: 0.0218 - val_attrition_output_accuracy: 0.8100 - val_attrition_output_loss: 1.4653 - val_department_output_accuracy: 0.5249 - val_department_output_loss: 3.4523 - val_loss: 4.9469\n",
      "Epoch 89/100\n",
      "\u001b[1m28/28\u001b[0m \u001b[32m━━━━━━━━━━━━━━━━━━━━\u001b[0m\u001b[37m\u001b[0m \u001b[1m0s\u001b[0m 2ms/step - attrition_output_accuracy: 0.9998 - attrition_output_loss: 0.0077 - department_output_accuracy: 1.0000 - department_output_loss: 0.0133 - loss: 0.0211 - val_attrition_output_accuracy: 0.8009 - val_attrition_output_loss: 1.5810 - val_department_output_accuracy: 0.5158 - val_department_output_loss: 3.4291 - val_loss: 5.0386\n",
      "Epoch 90/100\n",
      "\u001b[1m28/28\u001b[0m \u001b[32m━━━━━━━━━━━━━━━━━━━━\u001b[0m\u001b[37m\u001b[0m \u001b[1m0s\u001b[0m 3ms/step - attrition_output_accuracy: 0.9976 - attrition_output_loss: 0.0121 - department_output_accuracy: 1.0000 - department_output_loss: 0.0141 - loss: 0.0262 - val_attrition_output_accuracy: 0.8054 - val_attrition_output_loss: 1.5041 - val_department_output_accuracy: 0.5113 - val_department_output_loss: 3.4788 - val_loss: 5.0135\n",
      "Epoch 91/100\n",
      "\u001b[1m28/28\u001b[0m \u001b[32m━━━━━━━━━━━━━━━━━━━━\u001b[0m\u001b[37m\u001b[0m \u001b[1m0s\u001b[0m 3ms/step - attrition_output_accuracy: 0.9992 - attrition_output_loss: 0.0073 - department_output_accuracy: 1.0000 - department_output_loss: 0.0130 - loss: 0.0203 - val_attrition_output_accuracy: 0.8054 - val_attrition_output_loss: 1.5577 - val_department_output_accuracy: 0.5204 - val_department_output_loss: 3.5577 - val_loss: 5.1460\n",
      "Epoch 92/100\n",
      "\u001b[1m28/28\u001b[0m \u001b[32m━━━━━━━━━━━━━━━━━━━━\u001b[0m\u001b[37m\u001b[0m \u001b[1m0s\u001b[0m 3ms/step - attrition_output_accuracy: 1.0000 - attrition_output_loss: 0.0059 - department_output_accuracy: 1.0000 - department_output_loss: 0.0125 - loss: 0.0183 - val_attrition_output_accuracy: 0.8009 - val_attrition_output_loss: 1.5072 - val_department_output_accuracy: 0.5113 - val_department_output_loss: 3.5729 - val_loss: 5.1116\n",
      "Epoch 93/100\n",
      "\u001b[1m28/28\u001b[0m \u001b[32m━━━━━━━━━━━━━━━━━━━━\u001b[0m\u001b[37m\u001b[0m \u001b[1m0s\u001b[0m 3ms/step - attrition_output_accuracy: 1.0000 - attrition_output_loss: 0.0062 - department_output_accuracy: 1.0000 - department_output_loss: 0.0127 - loss: 0.0189 - val_attrition_output_accuracy: 0.8100 - val_attrition_output_loss: 1.5779 - val_department_output_accuracy: 0.5249 - val_department_output_loss: 3.5797 - val_loss: 5.1878\n",
      "Epoch 94/100\n",
      "\u001b[1m28/28\u001b[0m \u001b[32m━━━━━━━━━━━━━━━━━━━━\u001b[0m\u001b[37m\u001b[0m \u001b[1m0s\u001b[0m 3ms/step - attrition_output_accuracy: 1.0000 - attrition_output_loss: 0.0084 - department_output_accuracy: 1.0000 - department_output_loss: 0.0122 - loss: 0.0206 - val_attrition_output_accuracy: 0.8100 - val_attrition_output_loss: 1.6229 - val_department_output_accuracy: 0.5294 - val_department_output_loss: 3.6380 - val_loss: 5.2926\n",
      "Epoch 95/100\n",
      "\u001b[1m28/28\u001b[0m \u001b[32m━━━━━━━━━━━━━━━━━━━━\u001b[0m\u001b[37m\u001b[0m \u001b[1m0s\u001b[0m 3ms/step - attrition_output_accuracy: 1.0000 - attrition_output_loss: 0.0066 - department_output_accuracy: 1.0000 - department_output_loss: 0.0109 - loss: 0.0176 - val_attrition_output_accuracy: 0.8054 - val_attrition_output_loss: 1.5581 - val_department_output_accuracy: 0.5249 - val_department_output_loss: 3.6379 - val_loss: 5.2282\n",
      "Epoch 96/100\n",
      "\u001b[1m28/28\u001b[0m \u001b[32m━━━━━━━━━━━━━━━━━━━━\u001b[0m\u001b[37m\u001b[0m \u001b[1m0s\u001b[0m 3ms/step - attrition_output_accuracy: 0.9985 - attrition_output_loss: 0.0072 - department_output_accuracy: 1.0000 - department_output_loss: 0.0121 - loss: 0.0192 - val_attrition_output_accuracy: 0.8009 - val_attrition_output_loss: 1.5372 - val_department_output_accuracy: 0.5249 - val_department_output_loss: 3.6791 - val_loss: 5.2483\n",
      "Epoch 97/100\n",
      "\u001b[1m28/28\u001b[0m \u001b[32m━━━━━━━━━━━━━━━━━━━━\u001b[0m\u001b[37m\u001b[0m \u001b[1m0s\u001b[0m 3ms/step - attrition_output_accuracy: 0.9968 - attrition_output_loss: 0.0130 - department_output_accuracy: 1.0000 - department_output_loss: 0.0111 - loss: 0.0241 - val_attrition_output_accuracy: 0.8100 - val_attrition_output_loss: 1.6410 - val_department_output_accuracy: 0.5158 - val_department_output_loss: 3.6846 - val_loss: 5.3580\n",
      "Epoch 98/100\n",
      "\u001b[1m28/28\u001b[0m \u001b[32m━━━━━━━━━━━━━━━━━━━━\u001b[0m\u001b[37m\u001b[0m \u001b[1m0s\u001b[0m 3ms/step - attrition_output_accuracy: 1.0000 - attrition_output_loss: 0.0046 - department_output_accuracy: 1.0000 - department_output_loss: 0.0090 - loss: 0.0136 - val_attrition_output_accuracy: 0.8100 - val_attrition_output_loss: 1.5656 - val_department_output_accuracy: 0.5204 - val_department_output_loss: 3.7837 - val_loss: 5.3828\n",
      "Epoch 99/100\n",
      "\u001b[1m28/28\u001b[0m \u001b[32m━━━━━━━━━━━━━━━━━━━━\u001b[0m\u001b[37m\u001b[0m \u001b[1m0s\u001b[0m 3ms/step - attrition_output_accuracy: 0.9991 - attrition_output_loss: 0.0063 - department_output_accuracy: 1.0000 - department_output_loss: 0.0089 - loss: 0.0151 - val_attrition_output_accuracy: 0.8100 - val_attrition_output_loss: 1.6344 - val_department_output_accuracy: 0.5158 - val_department_output_loss: 3.8113 - val_loss: 5.4778\n",
      "Epoch 100/100\n",
      "\u001b[1m28/28\u001b[0m \u001b[32m━━━━━━━━━━━━━━━━━━━━\u001b[0m\u001b[37m\u001b[0m \u001b[1m0s\u001b[0m 3ms/step - attrition_output_accuracy: 1.0000 - attrition_output_loss: 0.0048 - department_output_accuracy: 1.0000 - department_output_loss: 0.0112 - loss: 0.0160 - val_attrition_output_accuracy: 0.8054 - val_attrition_output_loss: 1.5930 - val_department_output_accuracy: 0.5068 - val_department_output_loss: 3.7341 - val_loss: 5.3599\n"
     ]
    }
   ],
   "source": [
    "# Train the model\n",
    "history = model.fit(\n",
    "    X_train_scaled,\n",
    "    {'department_output': department_encoded_train, 'attrition_output': attrition_encoded_train},\n",
    "    epochs=100,\n",
    "    batch_size=32,\n",
    "    validation_split=0.2\n",
    ")"
   ]
  },
  {
   "cell_type": "code",
   "execution_count": 337,
   "metadata": {
    "colab": {
     "base_uri": "https://localhost:8080/"
    },
    "executionInfo": {
     "elapsed": 379,
     "status": "ok",
     "timestamp": 1730699259894,
     "user": {
      "displayName": "Alexander Booth",
      "userId": "02269714993535573104"
     },
     "user_tz": 360
    },
    "id": "VsMoaQlgGc3U",
    "outputId": "636c85ba-ee63-4087-b7d1-00b408f1055a"
   },
   "outputs": [
    {
     "name": "stdout",
     "output_type": "stream",
     "text": [
      "\u001b[1m12/12\u001b[0m \u001b[32m━━━━━━━━━━━━━━━━━━━━\u001b[0m\u001b[37m\u001b[0m \u001b[1m0s\u001b[0m 2ms/step - attrition_output_accuracy: 0.8117 - attrition_output_loss: 1.5926 - department_output_accuracy: 0.5448 - department_output_loss: 3.0271 - loss: 4.6307 \n"
     ]
    },
    {
     "data": {
      "text/plain": [
       "[4.215399265289307,\n",
       " 2.825141191482544,\n",
       " 1.3183854818344116,\n",
       " 0.83423912525177,\n",
       " 0.551630437374115]"
      ]
     },
     "execution_count": 337,
     "metadata": {},
     "output_type": "execute_result"
    }
   ],
   "source": [
    "# Evaluate the model with the testing data\n",
    "model.evaluate(\n",
    "    X_test_scaled,\n",
    "    {'department_output': department_encoded_test, 'attrition_output': attrition_encoded_test}\n",
    ")"
   ]
  },
  {
   "cell_type": "code",
   "execution_count": 338,
   "metadata": {
    "colab": {
     "base_uri": "https://localhost:8080/"
    },
    "executionInfo": {
     "elapsed": 113,
     "status": "ok",
     "timestamp": 1730699260004,
     "user": {
      "displayName": "Alexander Booth",
      "userId": "02269714993535573104"
     },
     "user_tz": 360
    },
    "id": "ZlCtlHi0Vt54",
    "outputId": "3a32435c-11cf-48da-81b5-1431d6c00da2"
   },
   "outputs": [
    {
     "name": "stdout",
     "output_type": "stream",
     "text": [
      "Attrition predictions accuracy:  1.0\n",
      "Department predictions accuracy:  1.0\n"
     ]
    }
   ],
   "source": [
    "# Print the accuracy for both department and attrition\n",
    "print(\"Attrition predictions accuracy: \", history.history['attrition_output_accuracy'][-1])\n",
    "print(\"Department predictions accuracy: \", history.history['department_output_accuracy'][-1])"
   ]
  },
  {
   "cell_type": "markdown",
   "metadata": {
    "id": "eGSyfsZfWOQM"
   },
   "source": [
    "# Summary\n",
    "\n",
    "In the provided space below, briefly answer the following questions.\n",
    "\n",
    "1. Is accuracy the best metric to use on this data? Why or why not?\n",
    "\n",
    "2. What activation functions did you choose for your output layers, and why?\n",
    "\n",
    "3. Can you name a few ways that this model might be improved?"
   ]
  },
  {
   "cell_type": "code",
   "execution_count": null,
   "metadata": {},
   "outputs": [],
   "source": []
  },
  {
   "cell_type": "markdown",
   "metadata": {
    "id": "pi9SLpFnWvbF"
   },
   "source": [
    "YOUR ANSWERS HERE\n",
    "\n",
    "1. Because the attrition and department columns are not balanced, accuracy would not be the best metric. The attrition data has a much higher number of no's than yes's. Department has much less data for human resources than research and development\n",
    "2. I used softmax for department because there are three possible outputs, so it is multi-class classification. I used sigmoid for attrition because it is binary classification, yes or no.\n",
    "3. I could try dropout to prevent/reduce overfitting. I could try adjusting some of the model parameters and/or try hyper parameter tuning. I could also try adding more layers and varying the output shape of each layer. Any of these methods could improve performance."
   ]
  },
  {
   "cell_type": "code",
   "execution_count": null,
   "metadata": {
    "executionInfo": {
     "elapsed": 3,
     "status": "ok",
     "timestamp": 1730699260004,
     "user": {
      "displayName": "Alexander Booth",
      "userId": "02269714993535573104"
     },
     "user_tz": 360
    },
    "id": "ZuQWjGgGXZ3C"
   },
   "outputs": [],
   "source": []
  }
 ],
 "metadata": {
  "colab": {
   "provenance": []
  },
  "kernelspec": {
   "display_name": "dev",
   "language": "python",
   "name": "python3"
  },
  "language_info": {
   "codemirror_mode": {
    "name": "ipython",
    "version": 3
   },
   "file_extension": ".py",
   "mimetype": "text/x-python",
   "name": "python",
   "nbconvert_exporter": "python",
   "pygments_lexer": "ipython3",
   "version": "3.10.15"
  }
 },
 "nbformat": 4,
 "nbformat_minor": 0
}
